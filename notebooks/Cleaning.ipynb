{
 "cells": [
  {
   "cell_type": "code",
   "execution_count": 12,
   "metadata": {},
   "outputs": [
    {
     "name": "stdout",
     "output_type": "stream",
     "text": [
      "The autoreload extension is already loaded. To reload it, use:\n",
      "  %reload_ext autoreload\n"
     ]
    },
    {
     "data": {
      "application/javascript": [
       "\n",
       "            setTimeout(function() {\n",
       "                var nbb_cell_id = 12;\n",
       "                var nbb_unformatted_code = \"%load_ext autoreload\\n%autoreload 2\";\n",
       "                var nbb_formatted_code = \"%load_ext autoreload\\n%autoreload 2\";\n",
       "                var nbb_cells = Jupyter.notebook.get_cells();\n",
       "                for (var i = 0; i < nbb_cells.length; ++i) {\n",
       "                    if (nbb_cells[i].input_prompt_number == nbb_cell_id) {\n",
       "                        if (nbb_cells[i].get_text() == nbb_unformatted_code) {\n",
       "                             nbb_cells[i].set_text(nbb_formatted_code);\n",
       "                        }\n",
       "                        break;\n",
       "                    }\n",
       "                }\n",
       "            }, 500);\n",
       "            "
      ],
      "text/plain": [
       "<IPython.core.display.Javascript object>"
      ]
     },
     "metadata": {},
     "output_type": "display_data"
    }
   ],
   "source": [
    "%load_ext autoreload\n",
    "%autoreload 2"
   ]
  },
  {
   "cell_type": "code",
   "execution_count": 13,
   "metadata": {},
   "outputs": [
    {
     "name": "stderr",
     "output_type": "stream",
     "text": [
      "ERROR:root:Cannot parse: 1:4: cd ../src\n",
      "Traceback (most recent call last):\n",
      "  File \"/home/theo/miniconda3/envs/rapids-22.04/lib/python3.8/site-packages/lab_black.py\", line 218, in format_cell\n",
      "    formatted_code = _format_code(cell)\n",
      "  File \"/home/theo/miniconda3/envs/rapids-22.04/lib/python3.8/site-packages/lab_black.py\", line 29, in _format_code\n",
      "    return format_str(src_contents=code, mode=FileMode())\n",
      "  File \"src/black/__init__.py\", line 1154, in format_str\n",
      "  File \"src/black/__init__.py\", line 1164, in _format_str_once\n",
      "  File \"src/black/parsing.py\", line 128, in lib2to3_parse\n",
      "black.parsing.InvalidInput: Cannot parse: 1:4: cd ../src\n"
     ]
    },
    {
     "name": "stdout",
     "output_type": "stream",
     "text": [
      "/home/theo/kaggle/foursquare/src\n"
     ]
    }
   ],
   "source": [
    "cd ../src"
   ]
  },
  {
   "cell_type": "code",
   "execution_count": 14,
   "metadata": {},
   "outputs": [
    {
     "name": "stdout",
     "output_type": "stream",
     "text": [
      "The nb_black extension is already loaded. To reload it, use:\n",
      "  %reload_ext nb_black\n"
     ]
    },
    {
     "data": {
      "application/javascript": [
       "\n",
       "            setTimeout(function() {\n",
       "                var nbb_cell_id = 14;\n",
       "                var nbb_unformatted_code = \"%load_ext nb_black\";\n",
       "                var nbb_formatted_code = \"%load_ext nb_black\";\n",
       "                var nbb_cells = Jupyter.notebook.get_cells();\n",
       "                for (var i = 0; i < nbb_cells.length; ++i) {\n",
       "                    if (nbb_cells[i].input_prompt_number == nbb_cell_id) {\n",
       "                        if (nbb_cells[i].get_text() == nbb_unformatted_code) {\n",
       "                             nbb_cells[i].set_text(nbb_formatted_code);\n",
       "                        }\n",
       "                        break;\n",
       "                    }\n",
       "                }\n",
       "            }, 500);\n",
       "            "
      ],
      "text/plain": [
       "<IPython.core.display.Javascript object>"
      ]
     },
     "metadata": {},
     "output_type": "display_data"
    }
   ],
   "source": [
    "%load_ext nb_black"
   ]
  },
  {
   "cell_type": "markdown",
   "metadata": {
    "papermill": {
     "duration": 0.113095,
     "end_time": "2022-06-20T12:41:41.215410",
     "exception": false,
     "start_time": "2022-06-20T12:41:41.102315",
     "status": "completed"
    },
    "tags": []
   },
   "source": [
    "# **Librairies**"
   ]
  },
  {
   "cell_type": "code",
   "execution_count": 15,
   "metadata": {
    "_cell_guid": "b1076dfc-b9ad-4769-8c92-a6c4dae69d19",
    "_uuid": "8f2839f25d086af736a60e9eeb907d3b93b6e0e5",
    "execution": {
     "iopub.execute_input": "2022-06-20T12:42:48.194197Z",
     "iopub.status.busy": "2022-06-20T12:42:48.193938Z",
     "iopub.status.idle": "2022-06-20T12:42:50.735561Z",
     "shell.execute_reply": "2022-06-20T12:42:50.734610Z"
    },
    "papermill": {
     "duration": 2.672311,
     "end_time": "2022-06-20T12:42:50.737847",
     "exception": false,
     "start_time": "2022-06-20T12:42:48.065536",
     "status": "completed"
    },
    "tags": []
   },
   "outputs": [
    {
     "data": {
      "application/javascript": [
       "\n",
       "            setTimeout(function() {\n",
       "                var nbb_cell_id = 15;\n",
       "                var nbb_unformatted_code = \"import gc\\nimport time\\nimport random\\nimport pickle\\nimport numpy as np\\nimport pandas as pd\\nfrom tqdm.auto import tqdm\\nfrom unidecode import unidecode\\n\\nfrom params import DATA_PATH, OUT_PATH, RESSOURCES_PATH, IS_TEST\\nfrom ressources import *\\nfrom cleaning import *\\n\\nrandom.seed(13)\\n# warnings.simplefilter(\\\"ignore\\\")\";\n",
       "                var nbb_formatted_code = \"import gc\\nimport time\\nimport random\\nimport pickle\\nimport numpy as np\\nimport pandas as pd\\nfrom tqdm.auto import tqdm\\nfrom unidecode import unidecode\\n\\nfrom params import DATA_PATH, OUT_PATH, RESSOURCES_PATH, IS_TEST\\nfrom ressources import *\\nfrom cleaning import *\\n\\nrandom.seed(13)\\n# warnings.simplefilter(\\\"ignore\\\")\";\n",
       "                var nbb_cells = Jupyter.notebook.get_cells();\n",
       "                for (var i = 0; i < nbb_cells.length; ++i) {\n",
       "                    if (nbb_cells[i].input_prompt_number == nbb_cell_id) {\n",
       "                        if (nbb_cells[i].get_text() == nbb_unformatted_code) {\n",
       "                             nbb_cells[i].set_text(nbb_formatted_code);\n",
       "                        }\n",
       "                        break;\n",
       "                    }\n",
       "                }\n",
       "            }, 500);\n",
       "            "
      ],
      "text/plain": [
       "<IPython.core.display.Javascript object>"
      ]
     },
     "metadata": {},
     "output_type": "display_data"
    }
   ],
   "source": [
    "import gc\n",
    "import time\n",
    "import random\n",
    "import pickle\n",
    "import warnings\n",
    "import numpy as np\n",
    "import pandas as pd\n",
    "from tqdm.auto import tqdm\n",
    "from unidecode import unidecode\n",
    "\n",
    "from params import DATA_PATH, OUT_PATH, RESSOURCES_PATH, IS_TEST\n",
    "from ressources import *\n",
    "\n",
    "random.seed(13)\n",
    "# warnings.simplefilter(\"ignore\")"
   ]
  },
  {
   "cell_type": "code",
   "execution_count": 57,
   "metadata": {},
   "outputs": [
    {
     "data": {
      "application/javascript": [
       "\n",
       "            setTimeout(function() {\n",
       "                var nbb_cell_id = 57;\n",
       "                var nbb_unformatted_code = \"from cleaning import (\\n    isEnglish,\\n    convert_japanese_alphabet,\\n    find_cat,\\n    replace_seven_eleven,\\n    replace_seaworld,\\n    replace_mcdonald,\\n    simplify_cat,\\n    st,\\n    st,\\n    apply_solo_cat_score,\\n    apply_cat_distscore,\\n    rem_expr,\\n    rem_abr,\\n    get_caps_leading,\\n    rem_words,\\n    clean_nums,\\n    clean_address,\\n    st2,\\n    process_phone,\\n    id_translate,\\n    replace_common_words,\\n)\";\n",
       "                var nbb_formatted_code = \"from cleaning import (\\n    isEnglish,\\n    convert_japanese_alphabet,\\n    find_cat,\\n    replace_seven_eleven,\\n    replace_seaworld,\\n    replace_mcdonald,\\n    simplify_cat,\\n    st,\\n    st,\\n    apply_solo_cat_score,\\n    apply_cat_distscore,\\n    rem_expr,\\n    rem_abr,\\n    get_caps_leading,\\n    rem_words,\\n    clean_nums,\\n    clean_address,\\n    st2,\\n    process_phone,\\n    id_translate,\\n    replace_common_words,\\n)\";\n",
       "                var nbb_cells = Jupyter.notebook.get_cells();\n",
       "                for (var i = 0; i < nbb_cells.length; ++i) {\n",
       "                    if (nbb_cells[i].input_prompt_number == nbb_cell_id) {\n",
       "                        if (nbb_cells[i].get_text() == nbb_unformatted_code) {\n",
       "                             nbb_cells[i].set_text(nbb_formatted_code);\n",
       "                        }\n",
       "                        break;\n",
       "                    }\n",
       "                }\n",
       "            }, 500);\n",
       "            "
      ],
      "text/plain": [
       "<IPython.core.display.Javascript object>"
      ]
     },
     "metadata": {},
     "output_type": "display_data"
    }
   ],
   "source": [
    "from ressources import (\n",
    "    NAME_DI,\n",
    "    CITY_DI,\n",
    "    CITY_DI_2,\n",
    "    LL1,\n",
    "    ALL_WORDS,\n",
    "    CAT2_DI,\n",
    "    CAT_REGROUP,\n",
    "    COUNTRIES,\n",
    "    ID_DI,\n",
    "    L1S_ID\n",
    ")\n",
    "\n",
    "from cleaning import (\n",
    "    isEnglish,\n",
    "    convert_japanese_alphabet,\n",
    "    find_cat,\n",
    "    replace_seven_eleven,\n",
    "    replace_seaworld,\n",
    "    replace_mcdonald,\n",
    "    simplify_cat,\n",
    "    st,\n",
    "    apply_solo_cat_score,\n",
    "    apply_cat_distscore,\n",
    "    rem_expr,\n",
    "    rem_abr,\n",
    "    get_caps_leading,\n",
    "    rem_words,\n",
    "    clean_nums,\n",
    "    clean_address,\n",
    "    st2,\n",
    "    process_phone,\n",
    "    id_translate,\n",
    "    replace_common_words,\n",
    ")\n"
   ]
  },
  {
   "cell_type": "markdown",
   "metadata": {
    "papermill": {
     "duration": 0.128224,
     "end_time": "2022-06-20T12:42:52.888296",
     "exception": false,
     "start_time": "2022-06-20T12:42:52.760072",
     "status": "completed"
    },
    "tags": []
   },
   "source": [
    "## Load Data"
   ]
  },
  {
   "cell_type": "code",
   "execution_count": 17,
   "metadata": {},
   "outputs": [
    {
     "data": {
      "application/javascript": [
       "\n",
       "            setTimeout(function() {\n",
       "                var nbb_cell_id = 17;\n",
       "                var nbb_unformatted_code = \"if IS_TEST:\\n    train = pd.read_csv(DATA_PATH + \\\"test.csv\\\")\\n    train[\\\"point_of_interest\\\"] = 0\\nelse:\\n    train = pd.read_csv(DATA_PATH + \\\"train.csv\\\")\";\n",
       "                var nbb_formatted_code = \"if IS_TEST:\\n    train = pd.read_csv(DATA_PATH + \\\"test.csv\\\")\\n    train[\\\"point_of_interest\\\"] = 0\\nelse:\\n    train = pd.read_csv(DATA_PATH + \\\"train.csv\\\")\";\n",
       "                var nbb_cells = Jupyter.notebook.get_cells();\n",
       "                for (var i = 0; i < nbb_cells.length; ++i) {\n",
       "                    if (nbb_cells[i].input_prompt_number == nbb_cell_id) {\n",
       "                        if (nbb_cells[i].get_text() == nbb_unformatted_code) {\n",
       "                             nbb_cells[i].set_text(nbb_formatted_code);\n",
       "                        }\n",
       "                        break;\n",
       "                    }\n",
       "                }\n",
       "            }, 500);\n",
       "            "
      ],
      "text/plain": [
       "<IPython.core.display.Javascript object>"
      ]
     },
     "metadata": {},
     "output_type": "display_data"
    }
   ],
   "source": [
    "if IS_TEST:\n",
    "    train = pd.read_csv(DATA_PATH + \"test.csv\")\n",
    "    train[\"point_of_interest\"] = 0\n",
    "else:\n",
    "    train = pd.read_csv(DATA_PATH + \"train.csv\")"
   ]
  },
  {
   "cell_type": "markdown",
   "metadata": {},
   "source": [
    "## Cleaning & processing"
   ]
  },
  {
   "cell_type": "markdown",
   "metadata": {},
   "source": [
    "### Language"
   ]
  },
  {
   "cell_type": "code",
   "execution_count": 18,
   "metadata": {},
   "outputs": [
    {
     "data": {
      "application/javascript": [
       "\n",
       "            setTimeout(function() {\n",
       "                var nbb_cell_id = 18;\n",
       "                var nbb_unformatted_code = \"train[\\\"lang\\\"] = train[\\\"name\\\"].apply(isEnglish).astype(\\\"int8\\\")\";\n",
       "                var nbb_formatted_code = \"train[\\\"lang\\\"] = train[\\\"name\\\"].apply(isEnglish).astype(\\\"int8\\\")\";\n",
       "                var nbb_cells = Jupyter.notebook.get_cells();\n",
       "                for (var i = 0; i < nbb_cells.length; ++i) {\n",
       "                    if (nbb_cells[i].input_prompt_number == nbb_cell_id) {\n",
       "                        if (nbb_cells[i].get_text() == nbb_unformatted_code) {\n",
       "                             nbb_cells[i].set_text(nbb_formatted_code);\n",
       "                        }\n",
       "                        break;\n",
       "                    }\n",
       "                }\n",
       "            }, 500);\n",
       "            "
      ],
      "text/plain": [
       "<IPython.core.display.Javascript object>"
      ]
     },
     "metadata": {},
     "output_type": "display_data"
    }
   ],
   "source": [
    "train[\"lang\"] = train[\"name\"].apply(isEnglish).astype(\"int8\")"
   ]
  },
  {
   "cell_type": "code",
   "execution_count": 19,
   "metadata": {},
   "outputs": [
    {
     "data": {
      "application/javascript": [
       "\n",
       "            setTimeout(function() {\n",
       "                var nbb_cell_id = 19;\n",
       "                var nbb_unformatted_code = \"idx_JP = train[train[\\\"country\\\"] == \\\"JP\\\"].index\\ntrain.loc[idx_JP] = convert_japanese_alphabet(train.loc[idx_JP])\";\n",
       "                var nbb_formatted_code = \"idx_JP = train[train[\\\"country\\\"] == \\\"JP\\\"].index\\ntrain.loc[idx_JP] = convert_japanese_alphabet(train.loc[idx_JP])\";\n",
       "                var nbb_cells = Jupyter.notebook.get_cells();\n",
       "                for (var i = 0; i < nbb_cells.length; ++i) {\n",
       "                    if (nbb_cells[i].input_prompt_number == nbb_cell_id) {\n",
       "                        if (nbb_cells[i].get_text() == nbb_unformatted_code) {\n",
       "                             nbb_cells[i].set_text(nbb_formatted_code);\n",
       "                        }\n",
       "                        break;\n",
       "                    }\n",
       "                }\n",
       "            }, 500);\n",
       "            "
      ],
      "text/plain": [
       "<IPython.core.display.Javascript object>"
      ]
     },
     "metadata": {},
     "output_type": "display_data"
    }
   ],
   "source": [
    "idx_JP = train[train[\"country\"] == \"JP\"].index\n",
    "train.loc[idx_JP] = convert_japanese_alphabet(train.loc[idx_JP])"
   ]
  },
  {
   "cell_type": "markdown",
   "metadata": {},
   "source": [
    "### Fill-in missing categories, based on words in name"
   ]
  },
  {
   "cell_type": "code",
   "execution_count": 20,
   "metadata": {
    "scrolled": true
   },
   "outputs": [
    {
     "data": {
      "text/plain": [
       "1370"
      ]
     },
     "execution_count": 20,
     "metadata": {},
     "output_type": "execute_result"
    },
    {
     "data": {
      "application/javascript": [
       "\n",
       "            setTimeout(function() {\n",
       "                var nbb_cell_id = 20;\n",
       "                var nbb_unformatted_code = \"Key_words_for_cat = pd.read_pickle(RESSOURCES_PATH + \\\"dict_for_missing_cat.pkl\\\")\\n\\ntrain[\\\"categories\\\"] = train[\\\"categories\\\"].fillna(\\\"\\\")\\nidx_missing_cat = train[train[\\\"categories\\\"] == \\\"\\\"].index\\ntrain.loc[idx_missing_cat, \\\"categories\\\"] = (\\n    train.loc[idx_missing_cat, \\\"name\\\"]\\n    .fillna(\\\"\\\")\\n    .apply(lambda x: find_cat(x, Key_words_for_cat))\\n)\\ndel Key_words_for_cat, idx_missing_cat\\ngc.collect()\";\n",
       "                var nbb_formatted_code = \"Key_words_for_cat = pd.read_pickle(RESSOURCES_PATH + \\\"dict_for_missing_cat.pkl\\\")\\n\\ntrain[\\\"categories\\\"] = train[\\\"categories\\\"].fillna(\\\"\\\")\\nidx_missing_cat = train[train[\\\"categories\\\"] == \\\"\\\"].index\\ntrain.loc[idx_missing_cat, \\\"categories\\\"] = (\\n    train.loc[idx_missing_cat, \\\"name\\\"]\\n    .fillna(\\\"\\\")\\n    .apply(lambda x: find_cat(x, Key_words_for_cat))\\n)\\ndel Key_words_for_cat, idx_missing_cat\\ngc.collect()\";\n",
       "                var nbb_cells = Jupyter.notebook.get_cells();\n",
       "                for (var i = 0; i < nbb_cells.length; ++i) {\n",
       "                    if (nbb_cells[i].input_prompt_number == nbb_cell_id) {\n",
       "                        if (nbb_cells[i].get_text() == nbb_unformatted_code) {\n",
       "                             nbb_cells[i].set_text(nbb_formatted_code);\n",
       "                        }\n",
       "                        break;\n",
       "                    }\n",
       "                }\n",
       "            }, 500);\n",
       "            "
      ],
      "text/plain": [
       "<IPython.core.display.Javascript object>"
      ]
     },
     "metadata": {},
     "output_type": "display_data"
    }
   ],
   "source": [
    "Key_words_for_cat = pd.read_pickle(RESSOURCES_PATH + \"dict_for_missing_cat.pkl\")\n",
    "\n",
    "train[\"categories\"] = train[\"categories\"].fillna(\"\")\n",
    "idx_missing_cat = train[train[\"categories\"] == \"\"].index\n",
    "train.loc[idx_missing_cat, \"categories\"] = (\n",
    "    train.loc[idx_missing_cat, \"name\"]\n",
    "    .fillna(\"\")\n",
    "    .apply(lambda x: find_cat(x, Key_words_for_cat))\n",
    ")\n",
    "del Key_words_for_cat, idx_missing_cat\n",
    "gc.collect()"
   ]
  },
  {
   "cell_type": "markdown",
   "metadata": {},
   "source": [
    "### Pre-format data"
   ]
  },
  {
   "cell_type": "code",
   "execution_count": 21,
   "metadata": {},
   "outputs": [
    {
     "data": {
      "application/javascript": [
       "\n",
       "            setTimeout(function() {\n",
       "                var nbb_cell_id = 21;\n",
       "                var nbb_unformatted_code = \"train[\\\"point_of_interest\\\"] = (\\n    train[\\\"point_of_interest\\\"].astype(\\\"category\\\").cat.codes\\n)  # turn POI into ints to save spacetime\\ntrain[\\\"latitude\\\"] = train[\\\"latitude\\\"].astype(\\\"float32\\\")\\ntrain[\\\"longitude\\\"] = train[\\\"longitude\\\"].astype(\\\"float32\\\")\";\n",
       "                var nbb_formatted_code = \"train[\\\"point_of_interest\\\"] = (\\n    train[\\\"point_of_interest\\\"].astype(\\\"category\\\").cat.codes\\n)  # turn POI into ints to save spacetime\\ntrain[\\\"latitude\\\"] = train[\\\"latitude\\\"].astype(\\\"float32\\\")\\ntrain[\\\"longitude\\\"] = train[\\\"longitude\\\"].astype(\\\"float32\\\")\";\n",
       "                var nbb_cells = Jupyter.notebook.get_cells();\n",
       "                for (var i = 0; i < nbb_cells.length; ++i) {\n",
       "                    if (nbb_cells[i].input_prompt_number == nbb_cell_id) {\n",
       "                        if (nbb_cells[i].get_text() == nbb_unformatted_code) {\n",
       "                             nbb_cells[i].set_text(nbb_formatted_code);\n",
       "                        }\n",
       "                        break;\n",
       "                    }\n",
       "                }\n",
       "            }, 500);\n",
       "            "
      ],
      "text/plain": [
       "<IPython.core.display.Javascript object>"
      ]
     },
     "metadata": {},
     "output_type": "display_data"
    }
   ],
   "source": [
    "train[\"point_of_interest\"] = (\n",
    "    train[\"point_of_interest\"].astype(\"category\").cat.codes\n",
    ")  # turn POI into ints to save spacetime\n",
    "train[\"latitude\"] = train[\"latitude\"].astype(\"float32\")\n",
    "train[\"longitude\"] = train[\"longitude\"].astype(\"float32\")"
   ]
  },
  {
   "cell_type": "markdown",
   "metadata": {},
   "source": [
    "### Sorted by count in candidate training data "
   ]
  },
  {
   "cell_type": "code",
   "execution_count": 22,
   "metadata": {},
   "outputs": [
    {
     "data": {
      "application/javascript": [
       "\n",
       "            setTimeout(function() {\n",
       "                var nbb_cell_id = 22;\n",
       "                var nbb_unformatted_code = \"c_di = {}\\nfor i, c in enumerate(COUNTRIES):  # map train/test countries the same way\\n    c_di[c] = min(\\n        50, i + 1\\n    )  # cap country at 50 - after that there are too few cases per country to split them\\ntrain[\\\"country\\\"] = (\\n    train[\\\"country\\\"].fillna(\\\"ZZ\\\").map(c_di).fillna(50).astype(\\\"int16\\\")\\n)  # new country maps to missing (ZZ)\";\n",
       "                var nbb_formatted_code = \"c_di = {}\\nfor i, c in enumerate(COUNTRIES):  # map train/test countries the same way\\n    c_di[c] = min(\\n        50, i + 1\\n    )  # cap country at 50 - after that there are too few cases per country to split them\\ntrain[\\\"country\\\"] = (\\n    train[\\\"country\\\"].fillna(\\\"ZZ\\\").map(c_di).fillna(50).astype(\\\"int16\\\")\\n)  # new country maps to missing (ZZ)\";\n",
       "                var nbb_cells = Jupyter.notebook.get_cells();\n",
       "                for (var i = 0; i < nbb_cells.length; ++i) {\n",
       "                    if (nbb_cells[i].input_prompt_number == nbb_cell_id) {\n",
       "                        if (nbb_cells[i].get_text() == nbb_unformatted_code) {\n",
       "                             nbb_cells[i].set_text(nbb_formatted_code);\n",
       "                        }\n",
       "                        break;\n",
       "                    }\n",
       "                }\n",
       "            }, 500);\n",
       "            "
      ],
      "text/plain": [
       "<IPython.core.display.Javascript object>"
      ]
     },
     "metadata": {},
     "output_type": "display_data"
    }
   ],
   "source": [
    "c_di = {}\n",
    "for i, c in enumerate(COUNTRIES):  # map train/test countries the same way\n",
    "    c_di[c] = min(\n",
    "        50, i + 1\n",
    "    )  # cap country at 50 - after that there are too few cases per country to split them\n",
    "train[\"country\"] = (\n",
    "    train[\"country\"].fillna(\"ZZ\").map(c_di).fillna(50).astype(\"int16\")\n",
    ")  # new country maps to missing (ZZ)"
   ]
  },
  {
   "cell_type": "markdown",
   "metadata": {},
   "source": [
    "### GT"
   ]
  },
  {
   "cell_type": "code",
   "execution_count": 23,
   "metadata": {},
   "outputs": [
    {
     "data": {
      "application/javascript": [
       "\n",
       "            setTimeout(function() {\n",
       "                var nbb_cell_id = 23;\n",
       "                var nbb_unformatted_code = \"train = train.reset_index()\\ntrain = train.sort_values(by=[\\\"point_of_interest\\\", \\\"id\\\"]).reset_index(drop=True)\\nid_all = np.array(train[\\\"id\\\"])\\npoi_all = np.array(train[\\\"point_of_interest\\\"])\\npoi0 = poi_all[0]\\nid0 = id_all[0]\\ndi_poi = {}\\nfor i in range(1, train.shape[0]):\\n    if poi_all[i] == poi0:\\n        id0 = str(id0) + \\\" \\\" + str(id_all[i])\\n    else:\\n        di_poi[poi0] = str(id0) + \\\" \\\"  # need to have trailing space in m_true\\n        poi0 = poi_all[i]\\n        id0 = id_all[i]\\ndi_poi[poi0] = str(id0) + \\\" \\\"  # need to have trailing space in m_true\\ntrain[\\\"m_true\\\"] = train[\\\"point_of_interest\\\"].map(di_poi)\\ntrain = train.sort_values(by=\\\"index\\\").reset_index(\\n    drop=True\\n)  # sort back to original order\\ntrain.drop(\\\"index\\\", axis=1, inplace=True)\";\n",
       "                var nbb_formatted_code = \"train = train.reset_index()\\ntrain = train.sort_values(by=[\\\"point_of_interest\\\", \\\"id\\\"]).reset_index(drop=True)\\nid_all = np.array(train[\\\"id\\\"])\\npoi_all = np.array(train[\\\"point_of_interest\\\"])\\npoi0 = poi_all[0]\\nid0 = id_all[0]\\ndi_poi = {}\\nfor i in range(1, train.shape[0]):\\n    if poi_all[i] == poi0:\\n        id0 = str(id0) + \\\" \\\" + str(id_all[i])\\n    else:\\n        di_poi[poi0] = str(id0) + \\\" \\\"  # need to have trailing space in m_true\\n        poi0 = poi_all[i]\\n        id0 = id_all[i]\\ndi_poi[poi0] = str(id0) + \\\" \\\"  # need to have trailing space in m_true\\ntrain[\\\"m_true\\\"] = train[\\\"point_of_interest\\\"].map(di_poi)\\ntrain = train.sort_values(by=\\\"index\\\").reset_index(\\n    drop=True\\n)  # sort back to original order\\ntrain.drop(\\\"index\\\", axis=1, inplace=True)\";\n",
       "                var nbb_cells = Jupyter.notebook.get_cells();\n",
       "                for (var i = 0; i < nbb_cells.length; ++i) {\n",
       "                    if (nbb_cells[i].input_prompt_number == nbb_cell_id) {\n",
       "                        if (nbb_cells[i].get_text() == nbb_unformatted_code) {\n",
       "                             nbb_cells[i].set_text(nbb_formatted_code);\n",
       "                        }\n",
       "                        break;\n",
       "                    }\n",
       "                }\n",
       "            }, 500);\n",
       "            "
      ],
      "text/plain": [
       "<IPython.core.display.Javascript object>"
      ]
     },
     "metadata": {},
     "output_type": "display_data"
    }
   ],
   "source": [
    "train = train.reset_index()\n",
    "train = train.sort_values(by=[\"point_of_interest\", \"id\"]).reset_index(drop=True)\n",
    "id_all = np.array(train[\"id\"])\n",
    "poi_all = np.array(train[\"point_of_interest\"])\n",
    "poi0 = poi_all[0]\n",
    "id0 = id_all[0]\n",
    "di_poi = {}\n",
    "for i in range(1, train.shape[0]):\n",
    "    if poi_all[i] == poi0:\n",
    "        id0 = str(id0) + \" \" + str(id_all[i])\n",
    "    else:\n",
    "        di_poi[poi0] = str(id0) + \" \"  # need to have trailing space in m_true\n",
    "        poi0 = poi_all[i]\n",
    "        id0 = id_all[i]\n",
    "di_poi[poi0] = str(id0) + \" \"  # need to have trailing space in m_true\n",
    "train[\"m_true\"] = train[\"point_of_interest\"].map(di_poi)\n",
    "train = train.sort_values(by=\"index\").reset_index(\n",
    "    drop=True\n",
    ")  # sort back to original order\n",
    "train.drop(\"index\", axis=1, inplace=True)"
   ]
  },
  {
   "cell_type": "markdown",
   "metadata": {},
   "source": [
    "### Copy"
   ]
  },
  {
   "cell_type": "code",
   "execution_count": 24,
   "metadata": {},
   "outputs": [
    {
     "data": {
      "application/javascript": [
       "\n",
       "            setTimeout(function() {\n",
       "                var nbb_cell_id = 24;\n",
       "                var nbb_unformatted_code = \"train[\\\"name_svg\\\"] = train[\\\"name\\\"].copy()\\ntrain[\\\"categories_svg\\\"] = train[\\\"categories\\\"].copy()\";\n",
       "                var nbb_formatted_code = \"train[\\\"name_svg\\\"] = train[\\\"name\\\"].copy()\\ntrain[\\\"categories_svg\\\"] = train[\\\"categories\\\"].copy()\";\n",
       "                var nbb_cells = Jupyter.notebook.get_cells();\n",
       "                for (var i = 0; i < nbb_cells.length; ++i) {\n",
       "                    if (nbb_cells[i].input_prompt_number == nbb_cell_id) {\n",
       "                        if (nbb_cells[i].get_text() == nbb_unformatted_code) {\n",
       "                             nbb_cells[i].set_text(nbb_formatted_code);\n",
       "                        }\n",
       "                        break;\n",
       "                    }\n",
       "                }\n",
       "            }, 500);\n",
       "            "
      ],
      "text/plain": [
       "<IPython.core.display.Javascript object>"
      ]
     },
     "metadata": {},
     "output_type": "display_data"
    }
   ],
   "source": [
    "train[\"name_svg\"] = train[\"name\"].copy()\n",
    "train[\"categories_svg\"] = train[\"categories\"].copy()"
   ]
  },
  {
   "cell_type": "markdown",
   "metadata": {},
   "source": [
    "### Clean name"
   ]
  },
  {
   "cell_type": "code",
   "execution_count": 25,
   "metadata": {},
   "outputs": [
    {
     "data": {
      "application/javascript": [
       "\n",
       "            setTimeout(function() {\n",
       "                var nbb_cell_id = 25;\n",
       "                var nbb_unformatted_code = \"train[\\\"name\\\"] = train[\\\"name\\\"].apply(lambda x: unidecode(str(x).lower()))\\ntrain[\\\"name\\\"] = train[\\\"name\\\"].apply(lambda text: replace_seven_eleven(text))\\ntrain[\\\"name\\\"] = train[\\\"name\\\"].apply(lambda text: replace_seaworld(text))\\ntrain[\\\"name\\\"] = train[\\\"name\\\"].apply(lambda text: replace_mcdonald(text))\";\n",
       "                var nbb_formatted_code = \"train[\\\"name\\\"] = train[\\\"name\\\"].apply(lambda x: unidecode(str(x).lower()))\\ntrain[\\\"name\\\"] = train[\\\"name\\\"].apply(lambda text: replace_seven_eleven(text))\\ntrain[\\\"name\\\"] = train[\\\"name\\\"].apply(lambda text: replace_seaworld(text))\\ntrain[\\\"name\\\"] = train[\\\"name\\\"].apply(lambda text: replace_mcdonald(text))\";\n",
       "                var nbb_cells = Jupyter.notebook.get_cells();\n",
       "                for (var i = 0; i < nbb_cells.length; ++i) {\n",
       "                    if (nbb_cells[i].input_prompt_number == nbb_cell_id) {\n",
       "                        if (nbb_cells[i].get_text() == nbb_unformatted_code) {\n",
       "                             nbb_cells[i].set_text(nbb_formatted_code);\n",
       "                        }\n",
       "                        break;\n",
       "                    }\n",
       "                }\n",
       "            }, 500);\n",
       "            "
      ],
      "text/plain": [
       "<IPython.core.display.Javascript object>"
      ]
     },
     "metadata": {},
     "output_type": "display_data"
    }
   ],
   "source": [
    "train[\"name\"] = train[\"name\"].apply(lambda x: unidecode(str(x).lower()))\n",
    "train[\"name\"] = train[\"name\"].apply(lambda text: replace_seven_eleven(text))\n",
    "train[\"name\"] = train[\"name\"].apply(lambda text: replace_seaworld(text))\n",
    "train[\"name\"] = train[\"name\"].apply(lambda text: replace_mcdonald(text))"
   ]
  },
  {
   "cell_type": "markdown",
   "metadata": {},
   "source": [
    "### Simple category"
   ]
  },
  {
   "cell_type": "code",
   "execution_count": 26,
   "metadata": {},
   "outputs": [
    {
     "name": "stdout",
     "output_type": "stream",
     "text": [
      "Simpl categories found : 5 / 5\n"
     ]
    },
    {
     "data": {
      "application/javascript": [
       "\n",
       "            setTimeout(function() {\n",
       "                var nbb_cell_id = 26;\n",
       "                var nbb_unformatted_code = \"train[\\\"category_simpl\\\"] = (\\n    train[\\\"categories\\\"]\\n    .astype(str)\\n    .apply(lambda text: simplify_cat(text, CAT_REGROUP))\\n    .astype(\\\"int16\\\")\\n)\\n\\nprint(\\n    \\\"Simpl categories found :\\\", len(train[train[\\\"category_simpl\\\"] > 0]), \\\"/\\\", len(train)\\n)\";\n",
       "                var nbb_formatted_code = \"train[\\\"category_simpl\\\"] = (\\n    train[\\\"categories\\\"]\\n    .astype(str)\\n    .apply(lambda text: simplify_cat(text, CAT_REGROUP))\\n    .astype(\\\"int16\\\")\\n)\\n\\nprint(\\n    \\\"Simpl categories found :\\\", len(train[train[\\\"category_simpl\\\"] > 0]), \\\"/\\\", len(train)\\n)\";\n",
       "                var nbb_cells = Jupyter.notebook.get_cells();\n",
       "                for (var i = 0; i < nbb_cells.length; ++i) {\n",
       "                    if (nbb_cells[i].input_prompt_number == nbb_cell_id) {\n",
       "                        if (nbb_cells[i].get_text() == nbb_unformatted_code) {\n",
       "                             nbb_cells[i].set_text(nbb_formatted_code);\n",
       "                        }\n",
       "                        break;\n",
       "                    }\n",
       "                }\n",
       "            }, 500);\n",
       "            "
      ],
      "text/plain": [
       "<IPython.core.display.Javascript object>"
      ]
     },
     "metadata": {},
     "output_type": "display_data"
    }
   ],
   "source": [
    "train[\"category_simpl\"] = (\n",
    "    train[\"categories\"]\n",
    "    .astype(str)\n",
    "    .apply(lambda text: simplify_cat(text, CAT_REGROUP))\n",
    "    .astype(\"int16\")\n",
    ")\n",
    "\n",
    "print(\n",
    "    \"Simpl categories found :\", len(train[train[\"category_simpl\"] > 0]), \"/\", len(train)\n",
    ")"
   ]
  },
  {
   "cell_type": "markdown",
   "metadata": {},
   "source": [
    "### Go back to initial columns "
   ]
  },
  {
   "cell_type": "code",
   "execution_count": 27,
   "metadata": {},
   "outputs": [
    {
     "data": {
      "application/javascript": [
       "\n",
       "            setTimeout(function() {\n",
       "                var nbb_cell_id = 27;\n",
       "                var nbb_unformatted_code = \"train[\\\"name\\\"] = train[\\\"name_svg\\\"].copy()\\ntrain[\\\"categories\\\"] = train[\\\"categories_svg\\\"].copy()\\ntrain.drop([\\\"name_svg\\\", \\\"categories_svg\\\"], axis=1, inplace=True)\";\n",
       "                var nbb_formatted_code = \"train[\\\"name\\\"] = train[\\\"name_svg\\\"].copy()\\ntrain[\\\"categories\\\"] = train[\\\"categories_svg\\\"].copy()\\ntrain.drop([\\\"name_svg\\\", \\\"categories_svg\\\"], axis=1, inplace=True)\";\n",
       "                var nbb_cells = Jupyter.notebook.get_cells();\n",
       "                for (var i = 0; i < nbb_cells.length; ++i) {\n",
       "                    if (nbb_cells[i].input_prompt_number == nbb_cell_id) {\n",
       "                        if (nbb_cells[i].get_text() == nbb_unformatted_code) {\n",
       "                             nbb_cells[i].set_text(nbb_formatted_code);\n",
       "                        }\n",
       "                        break;\n",
       "                    }\n",
       "                }\n",
       "            }, 500);\n",
       "            "
      ],
      "text/plain": [
       "<IPython.core.display.Javascript object>"
      ]
     },
     "metadata": {},
     "output_type": "display_data"
    }
   ],
   "source": [
    "train[\"name\"] = train[\"name_svg\"].copy()\n",
    "train[\"categories\"] = train[\"categories_svg\"].copy()\n",
    "train.drop([\"name_svg\", \"categories_svg\"], axis=1, inplace=True)"
   ]
  },
  {
   "cell_type": "markdown",
   "metadata": {},
   "source": [
    "### Save names separated by spaces for tf-idf"
   ]
  },
  {
   "cell_type": "code",
   "execution_count": 28,
   "metadata": {},
   "outputs": [
    {
     "data": {
      "application/javascript": [
       "\n",
       "            setTimeout(function() {\n",
       "                var nbb_cell_id = 28;\n",
       "                var nbb_unformatted_code = \"train[\\\"categories_split\\\"] = (\\n    train[\\\"categories\\\"]\\n    .astype(str)\\n    .apply(lambda x: [st(cat, remove_space=True) for cat in x.split(\\\",\\\")])\\n    .copy()\\n)  # Create a new columns to split the categories\\ntrain[\\\"name_initial\\\"] = train[\\\"name\\\"].astype(str).apply(lambda x: x.lower()).copy()\\ntrain[\\\"name_initial_decode\\\"] = (\\n    train[\\\"name\\\"].astype(str).apply(lambda x: st(x, remove_space=False)).copy()\\n)\";\n",
       "                var nbb_formatted_code = \"train[\\\"categories_split\\\"] = (\\n    train[\\\"categories\\\"]\\n    .astype(str)\\n    .apply(lambda x: [st(cat, remove_space=True) for cat in x.split(\\\",\\\")])\\n    .copy()\\n)  # Create a new columns to split the categories\\ntrain[\\\"name_initial\\\"] = train[\\\"name\\\"].astype(str).apply(lambda x: x.lower()).copy()\\ntrain[\\\"name_initial_decode\\\"] = (\\n    train[\\\"name\\\"].astype(str).apply(lambda x: st(x, remove_space=False)).copy()\\n)\";\n",
       "                var nbb_cells = Jupyter.notebook.get_cells();\n",
       "                for (var i = 0; i < nbb_cells.length; ++i) {\n",
       "                    if (nbb_cells[i].input_prompt_number == nbb_cell_id) {\n",
       "                        if (nbb_cells[i].get_text() == nbb_unformatted_code) {\n",
       "                             nbb_cells[i].set_text(nbb_formatted_code);\n",
       "                        }\n",
       "                        break;\n",
       "                    }\n",
       "                }\n",
       "            }, 500);\n",
       "            "
      ],
      "text/plain": [
       "<IPython.core.display.Javascript object>"
      ]
     },
     "metadata": {},
     "output_type": "display_data"
    }
   ],
   "source": [
    "train[\"categories_split\"] = (\n",
    "    train[\"categories\"]\n",
    "    .astype(str)\n",
    "    .apply(lambda x: [st(cat, remove_space=True) for cat in x.split(\",\")])\n",
    "    .copy()\n",
    ")  # Create a new columns to split the categories\n",
    "train[\"name_initial\"] = train[\"name\"].astype(str).apply(lambda x: x.lower()).copy()\n",
    "train[\"name_initial_decode\"] = (\n",
    "    train[\"name\"].astype(str).apply(lambda x: st(x, remove_space=False)).copy()\n",
    ")"
   ]
  },
  {
   "cell_type": "markdown",
   "metadata": {},
   "source": [
    "### Find the score of the categories"
   ]
  },
  {
   "cell_type": "code",
   "execution_count": 29,
   "metadata": {},
   "outputs": [
    {
     "data": {
      "application/javascript": [
       "\n",
       "            setTimeout(function() {\n",
       "                var nbb_cell_id = 29;\n",
       "                var nbb_unformatted_code = \"cat_pairings = pd.read_pickle(\\n    RESSOURCES_PATH + \\\"howmanytimes_groupedcat_are_paired_with_other_groupedcat.pkl\\\"\\n)  # link-between-grouped-cats\\n\\n# Find the score of the categories\\ntrain[\\\"freq_pairing_with_other_groupedcat\\\"] = (\\n    train[\\\"category_simpl\\\"].apply(lambda cat: cat_pairings[cat]).fillna(0)\\n)\";\n",
       "                var nbb_formatted_code = \"cat_pairings = pd.read_pickle(\\n    RESSOURCES_PATH + \\\"howmanytimes_groupedcat_are_paired_with_other_groupedcat.pkl\\\"\\n)  # link-between-grouped-cats\\n\\n# Find the score of the categories\\ntrain[\\\"freq_pairing_with_other_groupedcat\\\"] = (\\n    train[\\\"category_simpl\\\"].apply(lambda cat: cat_pairings[cat]).fillna(0)\\n)\";\n",
       "                var nbb_cells = Jupyter.notebook.get_cells();\n",
       "                for (var i = 0; i < nbb_cells.length; ++i) {\n",
       "                    if (nbb_cells[i].input_prompt_number == nbb_cell_id) {\n",
       "                        if (nbb_cells[i].get_text() == nbb_unformatted_code) {\n",
       "                             nbb_cells[i].set_text(nbb_formatted_code);\n",
       "                        }\n",
       "                        break;\n",
       "                    }\n",
       "                }\n",
       "            }, 500);\n",
       "            "
      ],
      "text/plain": [
       "<IPython.core.display.Javascript object>"
      ]
     },
     "metadata": {},
     "output_type": "display_data"
    }
   ],
   "source": [
    "cat_pairings = pd.read_pickle(\n",
    "    RESSOURCES_PATH + \"howmanytimes_groupedcat_are_paired_with_other_groupedcat.pkl\"\n",
    ")  # link-between-grouped-cats\n",
    "\n",
    "# Find the score of the categories\n",
    "train[\"freq_pairing_with_other_groupedcat\"] = (\n",
    "    train[\"category_simpl\"].apply(lambda cat: cat_pairings[cat]).fillna(0)\n",
    ")"
   ]
  },
  {
   "cell_type": "code",
   "execution_count": 30,
   "metadata": {},
   "outputs": [
    {
     "data": {
      "application/javascript": [
       "\n",
       "            setTimeout(function() {\n",
       "                var nbb_cell_id = 30;\n",
       "                var nbb_unformatted_code = \"solo_cat_scores = pd.read_pickle(\\n    RESSOURCES_PATH + \\\"solo_cat_score.pkl\\\"\\n)  # link-between-categories - 1858 values\\n\\ntrain[\\\"cat_solo_score\\\"] = (\\n    train[\\\"categories_split\\\"]\\n    .apply(lambda List_cat: apply_solo_cat_score(List_cat, solo_cat_scores))\\n    .fillna(0)\\n)\";\n",
       "                var nbb_formatted_code = \"solo_cat_scores = pd.read_pickle(\\n    RESSOURCES_PATH + \\\"solo_cat_score.pkl\\\"\\n)  # link-between-categories - 1858 values\\n\\ntrain[\\\"cat_solo_score\\\"] = (\\n    train[\\\"categories_split\\\"]\\n    .apply(lambda List_cat: apply_solo_cat_score(List_cat, solo_cat_scores))\\n    .fillna(0)\\n)\";\n",
       "                var nbb_cells = Jupyter.notebook.get_cells();\n",
       "                for (var i = 0; i < nbb_cells.length; ++i) {\n",
       "                    if (nbb_cells[i].input_prompt_number == nbb_cell_id) {\n",
       "                        if (nbb_cells[i].get_text() == nbb_unformatted_code) {\n",
       "                             nbb_cells[i].set_text(nbb_formatted_code);\n",
       "                        }\n",
       "                        break;\n",
       "                    }\n",
       "                }\n",
       "            }, 500);\n",
       "            "
      ],
      "text/plain": [
       "<IPython.core.display.Javascript object>"
      ]
     },
     "metadata": {},
     "output_type": "display_data"
    }
   ],
   "source": [
    "solo_cat_scores = pd.read_pickle(\n",
    "    RESSOURCES_PATH + \"solo_cat_score.pkl\"\n",
    ")  # link-between-categories - 1858 values\n",
    "\n",
    "train[\"cat_solo_score\"] = (\n",
    "    train[\"categories_split\"]\n",
    "    .apply(lambda List_cat: apply_solo_cat_score(List_cat, solo_cat_scores))\n",
    "    .fillna(0)\n",
    ")"
   ]
  },
  {
   "cell_type": "code",
   "execution_count": 31,
   "metadata": {},
   "outputs": [
    {
     "data": {
      "application/javascript": [
       "\n",
       "            setTimeout(function() {\n",
       "                var nbb_cell_id = 31;\n",
       "                var nbb_unformatted_code = \"# Find the scores\\nDist_quantiles = pd.read_pickle(\\n    RESSOURCES_PATH + \\\"Dist_quantiles_per_cat.pkl\\\"\\n)  # dist-quantiles-per-cat - 869 values\\n\\ncol_cat_distscores = [\\\"Nb_multiPoi\\\", \\\"mean\\\", \\\"q25\\\", \\\"q50\\\", \\\"q75\\\", \\\"q90\\\", \\\"q99\\\"]\\ntrain.loc[:, col_cat_distscores] = (\\n    train[\\\"categories_split\\\"]\\n    .apply(lambda x: apply_cat_distscore(x, Dist_quantiles))\\n    .to_list()\\n)  # 'Nb_multiPoi', 'mean', 'q25', 'q50', 'q75', 'q90','q99'\\nfor col in [\\n    \\\"cat_solo_score\\\",\\n    \\\"freq_pairing_with_other_groupedcat\\\",\\n    \\\"Nb_multiPoi\\\",\\n    \\\"mean\\\",\\n    \\\"q25\\\",\\n    \\\"q50\\\",\\n    \\\"q75\\\",\\n    \\\"q90\\\",\\n    \\\"q99\\\",\\n]:\\n    train[col] = train[col].astype(\\\"float32\\\")\";\n",
       "                var nbb_formatted_code = \"# Find the scores\\nDist_quantiles = pd.read_pickle(\\n    RESSOURCES_PATH + \\\"Dist_quantiles_per_cat.pkl\\\"\\n)  # dist-quantiles-per-cat - 869 values\\n\\ncol_cat_distscores = [\\\"Nb_multiPoi\\\", \\\"mean\\\", \\\"q25\\\", \\\"q50\\\", \\\"q75\\\", \\\"q90\\\", \\\"q99\\\"]\\ntrain.loc[:, col_cat_distscores] = (\\n    train[\\\"categories_split\\\"]\\n    .apply(lambda x: apply_cat_distscore(x, Dist_quantiles))\\n    .to_list()\\n)  # 'Nb_multiPoi', 'mean', 'q25', 'q50', 'q75', 'q90','q99'\\nfor col in [\\n    \\\"cat_solo_score\\\",\\n    \\\"freq_pairing_with_other_groupedcat\\\",\\n    \\\"Nb_multiPoi\\\",\\n    \\\"mean\\\",\\n    \\\"q25\\\",\\n    \\\"q50\\\",\\n    \\\"q75\\\",\\n    \\\"q90\\\",\\n    \\\"q99\\\",\\n]:\\n    train[col] = train[col].astype(\\\"float32\\\")\";\n",
       "                var nbb_cells = Jupyter.notebook.get_cells();\n",
       "                for (var i = 0; i < nbb_cells.length; ++i) {\n",
       "                    if (nbb_cells[i].input_prompt_number == nbb_cell_id) {\n",
       "                        if (nbb_cells[i].get_text() == nbb_unformatted_code) {\n",
       "                             nbb_cells[i].set_text(nbb_formatted_code);\n",
       "                        }\n",
       "                        break;\n",
       "                    }\n",
       "                }\n",
       "            }, 500);\n",
       "            "
      ],
      "text/plain": [
       "<IPython.core.display.Javascript object>"
      ]
     },
     "metadata": {},
     "output_type": "display_data"
    }
   ],
   "source": [
    "# Find the scores\n",
    "Dist_quantiles = pd.read_pickle(\n",
    "    RESSOURCES_PATH + \"Dist_quantiles_per_cat.pkl\"\n",
    ")  # dist-quantiles-per-cat - 869 values\n",
    "\n",
    "col_cat_distscores = [\"Nb_multiPoi\", \"mean\", \"q25\", \"q50\", \"q75\", \"q90\", \"q99\"]\n",
    "train.loc[:, col_cat_distscores] = (\n",
    "    train[\"categories_split\"]\n",
    "    .apply(lambda x: apply_cat_distscore(x, Dist_quantiles))\n",
    "    .to_list()\n",
    ")  # 'Nb_multiPoi', 'mean', 'q25', 'q50', 'q75', 'q90','q99'\n",
    "for col in [\n",
    "    \"cat_solo_score\",\n",
    "    \"freq_pairing_with_other_groupedcat\",\n",
    "    \"Nb_multiPoi\",\n",
    "    \"mean\",\n",
    "    \"q25\",\n",
    "    \"q50\",\n",
    "    \"q75\",\n",
    "    \"q90\",\n",
    "    \"q99\",\n",
    "]:\n",
    "    train[col] = train[col].astype(\"float32\")"
   ]
  },
  {
   "cell_type": "markdown",
   "metadata": {},
   "source": [
    "### Clean name"
   ]
  },
  {
   "cell_type": "code",
   "execution_count": 32,
   "metadata": {},
   "outputs": [
    {
     "data": {
      "application/javascript": [
       "\n",
       "            setTimeout(function() {\n",
       "                var nbb_cell_id = 32;\n",
       "                var nbb_unformatted_code = \"# remove some expressions from name\\ntrain[\\\"name\\\"] = train[\\\"name\\\"].apply(rem_expr)\\n\\n# drop abbreviations all caps in brakets for long enough names\\ntrain[\\\"name\\\"] = train[\\\"name\\\"].apply(rem_abr)\\n\\n# select capitals only, or first letter of each word (which could have been capital)\\ntrain[\\\"nameC\\\"] = train[\\\"name\\\"].fillna(\\\"\\\").apply(get_caps_leading)\";\n",
       "                var nbb_formatted_code = \"# remove some expressions from name\\ntrain[\\\"name\\\"] = train[\\\"name\\\"].apply(rem_expr)\\n\\n# drop abbreviations all caps in brakets for long enough names\\ntrain[\\\"name\\\"] = train[\\\"name\\\"].apply(rem_abr)\\n\\n# select capitals only, or first letter of each word (which could have been capital)\\ntrain[\\\"nameC\\\"] = train[\\\"name\\\"].fillna(\\\"\\\").apply(get_caps_leading)\";\n",
       "                var nbb_cells = Jupyter.notebook.get_cells();\n",
       "                for (var i = 0; i < nbb_cells.length; ++i) {\n",
       "                    if (nbb_cells[i].input_prompt_number == nbb_cell_id) {\n",
       "                        if (nbb_cells[i].get_text() == nbb_unformatted_code) {\n",
       "                             nbb_cells[i].set_text(nbb_formatted_code);\n",
       "                        }\n",
       "                        break;\n",
       "                    }\n",
       "                }\n",
       "            }, 500);\n",
       "            "
      ],
      "text/plain": [
       "<IPython.core.display.Javascript object>"
      ]
     },
     "metadata": {},
     "output_type": "display_data"
    }
   ],
   "source": [
    "# remove some expressions from name\n",
    "train[\"name\"] = train[\"name\"].apply(rem_expr)\n",
    "\n",
    "# drop abbreviations all caps in brakets for long enough names\n",
    "train[\"name\"] = train[\"name\"].apply(rem_abr)\n",
    "\n",
    "# select capitals only, or first letter of each word (which could have been capital)\n",
    "train[\"nameC\"] = train[\"name\"].fillna(\"\").apply(get_caps_leading)"
   ]
  },
  {
   "cell_type": "markdown",
   "metadata": {},
   "source": [
    "### More cleaning\n",
    "- A bit slow"
   ]
  },
  {
   "cell_type": "code",
   "execution_count": 33,
   "metadata": {},
   "outputs": [
    {
     "data": {
      "application/vnd.jupyter.widget-view+json": {
       "model_id": "c7c86ffb81884cd98f72b5e3f5293473",
       "version_major": 2,
       "version_minor": 0
      },
      "text/plain": [
       "HBox(children=(HTML(value=''), FloatProgress(value=0.0, max=7.0), HTML(value='')))"
      ]
     },
     "metadata": {},
     "output_type": "display_data"
    },
    {
     "name": "stdout",
     "output_type": "stream",
     "text": [
      "\n"
     ]
    },
    {
     "data": {
      "application/javascript": [
       "\n",
       "            setTimeout(function() {\n",
       "                var nbb_cell_id = 33;\n",
       "                var nbb_unformatted_code = \"for col in tqdm([\\\"name\\\", \\\"address\\\", \\\"city\\\", \\\"state\\\", \\\"zip\\\", \\\"url\\\", \\\"categories\\\"]):\\n    train[col] = train[col].astype(\\\"str\\\").apply(st)  # keep spaces\\n    if col in [\\\"name\\\", \\\"address\\\"]:\\n        train[col] = train[col].apply(rem_words)\\n        train[col] = train[col].apply(clean_nums)\\n        if col == \\\"address\\\":\\n            train[\\\"address\\\"] = train[\\\"address\\\"].apply(clean_address)\\n    train[col] = train[col].apply(lambda x: x.replace(\\\" \\\", \\\"\\\"))  # remove spaces\\n\\ntrain[\\\"city\\\"] = train[\\\"city\\\"].apply(st2)  # remove digits from cities\\ntrain[\\\"latitude\\\"] = np.round(train[\\\"latitude\\\"], 5).astype(\\\"float32\\\")\\ntrain[\\\"longitude\\\"] = np.round(train[\\\"longitude\\\"], 5).astype(\\\"float32\\\")\\n\\n# for sorting - rounded coordinates\\ntrain[\\\"lat2\\\"] = np.round(train[\\\"latitude\\\"], 0).astype(\\\"float32\\\")\\ntrain[\\\"lon2\\\"] = np.round(train[\\\"longitude\\\"], 0).astype(\\\"float32\\\")\\n\\n# for sorting - short name\\ntrain[\\\"name2\\\"] = train[\\\"name\\\"].str[:7]\";\n",
       "                var nbb_formatted_code = \"for col in tqdm([\\\"name\\\", \\\"address\\\", \\\"city\\\", \\\"state\\\", \\\"zip\\\", \\\"url\\\", \\\"categories\\\"]):\\n    train[col] = train[col].astype(\\\"str\\\").apply(st)  # keep spaces\\n    if col in [\\\"name\\\", \\\"address\\\"]:\\n        train[col] = train[col].apply(rem_words)\\n        train[col] = train[col].apply(clean_nums)\\n        if col == \\\"address\\\":\\n            train[\\\"address\\\"] = train[\\\"address\\\"].apply(clean_address)\\n    train[col] = train[col].apply(lambda x: x.replace(\\\" \\\", \\\"\\\"))  # remove spaces\\n\\ntrain[\\\"city\\\"] = train[\\\"city\\\"].apply(st2)  # remove digits from cities\\ntrain[\\\"latitude\\\"] = np.round(train[\\\"latitude\\\"], 5).astype(\\\"float32\\\")\\ntrain[\\\"longitude\\\"] = np.round(train[\\\"longitude\\\"], 5).astype(\\\"float32\\\")\\n\\n# for sorting - rounded coordinates\\ntrain[\\\"lat2\\\"] = np.round(train[\\\"latitude\\\"], 0).astype(\\\"float32\\\")\\ntrain[\\\"lon2\\\"] = np.round(train[\\\"longitude\\\"], 0).astype(\\\"float32\\\")\\n\\n# for sorting - short name\\ntrain[\\\"name2\\\"] = train[\\\"name\\\"].str[:7]\";\n",
       "                var nbb_cells = Jupyter.notebook.get_cells();\n",
       "                for (var i = 0; i < nbb_cells.length; ++i) {\n",
       "                    if (nbb_cells[i].input_prompt_number == nbb_cell_id) {\n",
       "                        if (nbb_cells[i].get_text() == nbb_unformatted_code) {\n",
       "                             nbb_cells[i].set_text(nbb_formatted_code);\n",
       "                        }\n",
       "                        break;\n",
       "                    }\n",
       "                }\n",
       "            }, 500);\n",
       "            "
      ],
      "text/plain": [
       "<IPython.core.display.Javascript object>"
      ]
     },
     "metadata": {},
     "output_type": "display_data"
    }
   ],
   "source": [
    "for col in tqdm([\"name\", \"address\", \"city\", \"state\", \"zip\", \"url\", \"categories\"]):\n",
    "    train[col] = train[col].astype(\"str\").apply(st)  # keep spaces\n",
    "    if col in [\"name\", \"address\"]:\n",
    "        train[col] = train[col].apply(rem_words)\n",
    "        train[col] = train[col].apply(clean_nums)\n",
    "        if col == \"address\":\n",
    "            train[\"address\"] = train[\"address\"].apply(clean_address)\n",
    "    train[col] = train[col].apply(lambda x: x.replace(\" \", \"\"))  # remove spaces\n",
    "\n",
    "train[\"city\"] = train[\"city\"].apply(st2)  # remove digits from cities\n",
    "train[\"latitude\"] = np.round(train[\"latitude\"], 5).astype(\"float32\")\n",
    "train[\"longitude\"] = np.round(train[\"longitude\"], 5).astype(\"float32\")\n",
    "\n",
    "# for sorting - rounded coordinates\n",
    "train[\"lat2\"] = np.round(train[\"latitude\"], 0).astype(\"float32\")\n",
    "train[\"lon2\"] = np.round(train[\"longitude\"], 0).astype(\"float32\")\n",
    "\n",
    "# for sorting - short name\n",
    "train[\"name2\"] = train[\"name\"].str[:7]"
   ]
  },
  {
   "cell_type": "markdown",
   "metadata": {},
   "source": [
    "### Clean Name again"
   ]
  },
  {
   "cell_type": "code",
   "execution_count": 34,
   "metadata": {},
   "outputs": [
    {
     "name": "stdout",
     "output_type": "stream",
     "text": [
      "Grouped names : 0/5.\n"
     ]
    },
    {
     "name": "stderr",
     "output_type": "stream",
     "text": [
      "/home/theo/.local/lib/python3.8/site-packages/pandas/core/indexing.py:670: SettingWithCopyWarning: \n",
      "A value is trying to be set on a copy of a slice from a DataFrame\n",
      "\n",
      "See the caveats in the documentation: https://pandas.pydata.org/pandas-docs/stable/user_guide/indexing.html#returning-a-view-versus-a-copy\n",
      "  iloc._setitem_with_indexer(indexer, value)\n"
     ]
    },
    {
     "data": {
      "application/javascript": [
       "\n",
       "            setTimeout(function() {\n",
       "                var nbb_cell_id = 34;\n",
       "                var nbb_unformatted_code = \"# fix some misspellings\\nfor w in NAME_DI.keys():\\n    train[\\\"name\\\"] = train[\\\"name\\\"].apply(lambda x: x.replace(w, NAME_DI[w]))\\n\\n# new code from V *************************************************************\\n# Group names\\nname_groups = pd.read_pickle(RESSOURCES_PATH + \\\"name_groups.pkl\\\")\\n# Translation\\ntrans = {}\\nfor best, group in name_groups.items():\\n    for n in group:\\n        trans[n] = best\\ntrain[\\\"name_grouped\\\"] = train[\\\"name\\\"].apply(lambda n: trans[n] if n in trans else n)\\nprint(\\n    f\\\"Grouped names : {len(train[train['name_grouped'] != train['name']])}/{len(train)}.\\\"\\n)\\ntrain[\\\"name\\\"] = train[\\\"name_grouped\\\"].copy()\\ntrain = train.drop(columns=[\\\"name_grouped\\\"])\\ndel name_groups, trans\\ngc.collect()\\n\\n# cap length at 76\\ntrain[\\\"name\\\"] = train[\\\"name\\\"].str[:76]\\n# eliminate some common words that do not change meaning\\nfor w in [\\\"center\\\"]:\\n    train[\\\"name\\\"] = train[\\\"name\\\"].apply(lambda x: x.replace(w, \\\"\\\"))\\ntrain[\\\"name\\\"].loc[train[\\\"name\\\"] == \\\"nan\\\"] = \\\"\\\"\\n# walmart\\ntrain[\\\"name\\\"] = train[\\\"name\\\"].apply(lambda x: \\\"walmart\\\" if \\\"walmart\\\" in x else x)\\n# carrefour\\ntrain[\\\"name\\\"] = train[\\\"name\\\"].apply(lambda x: \\\"carrefour\\\" if \\\"carrefour\\\" in x else x)\\n# drop leading 'the' from name\\nidx = train[\\\"name\\\"].str[:3] == \\\"the\\\"  # happens 17,712 times = 1.5%\\ntrain[\\\"name\\\"].loc[idx] = train[\\\"name\\\"].loc[idx].str[3:]\";\n",
       "                var nbb_formatted_code = \"# fix some misspellings\\nfor w in NAME_DI.keys():\\n    train[\\\"name\\\"] = train[\\\"name\\\"].apply(lambda x: x.replace(w, NAME_DI[w]))\\n\\n# new code from V *************************************************************\\n# Group names\\nname_groups = pd.read_pickle(RESSOURCES_PATH + \\\"name_groups.pkl\\\")\\n# Translation\\ntrans = {}\\nfor best, group in name_groups.items():\\n    for n in group:\\n        trans[n] = best\\ntrain[\\\"name_grouped\\\"] = train[\\\"name\\\"].apply(lambda n: trans[n] if n in trans else n)\\nprint(\\n    f\\\"Grouped names : {len(train[train['name_grouped'] != train['name']])}/{len(train)}.\\\"\\n)\\ntrain[\\\"name\\\"] = train[\\\"name_grouped\\\"].copy()\\ntrain = train.drop(columns=[\\\"name_grouped\\\"])\\ndel name_groups, trans\\ngc.collect()\\n\\n# cap length at 76\\ntrain[\\\"name\\\"] = train[\\\"name\\\"].str[:76]\\n# eliminate some common words that do not change meaning\\nfor w in [\\\"center\\\"]:\\n    train[\\\"name\\\"] = train[\\\"name\\\"].apply(lambda x: x.replace(w, \\\"\\\"))\\ntrain[\\\"name\\\"].loc[train[\\\"name\\\"] == \\\"nan\\\"] = \\\"\\\"\\n# walmart\\ntrain[\\\"name\\\"] = train[\\\"name\\\"].apply(lambda x: \\\"walmart\\\" if \\\"walmart\\\" in x else x)\\n# carrefour\\ntrain[\\\"name\\\"] = train[\\\"name\\\"].apply(lambda x: \\\"carrefour\\\" if \\\"carrefour\\\" in x else x)\\n# drop leading 'the' from name\\nidx = train[\\\"name\\\"].str[:3] == \\\"the\\\"  # happens 17,712 times = 1.5%\\ntrain[\\\"name\\\"].loc[idx] = train[\\\"name\\\"].loc[idx].str[3:]\";\n",
       "                var nbb_cells = Jupyter.notebook.get_cells();\n",
       "                for (var i = 0; i < nbb_cells.length; ++i) {\n",
       "                    if (nbb_cells[i].input_prompt_number == nbb_cell_id) {\n",
       "                        if (nbb_cells[i].get_text() == nbb_unformatted_code) {\n",
       "                             nbb_cells[i].set_text(nbb_formatted_code);\n",
       "                        }\n",
       "                        break;\n",
       "                    }\n",
       "                }\n",
       "            }, 500);\n",
       "            "
      ],
      "text/plain": [
       "<IPython.core.display.Javascript object>"
      ]
     },
     "metadata": {},
     "output_type": "display_data"
    }
   ],
   "source": [
    "# fix some misspellings\n",
    "for w in NAME_DI.keys():\n",
    "    train[\"name\"] = train[\"name\"].apply(lambda x: x.replace(w, NAME_DI[w]))\n",
    "\n",
    "# new code from V *************************************************************\n",
    "# Group names\n",
    "name_groups = pd.read_pickle(RESSOURCES_PATH + \"name_groups.pkl\")\n",
    "# Translation\n",
    "trans = {}\n",
    "for best, group in name_groups.items():\n",
    "    for n in group:\n",
    "        trans[n] = best\n",
    "train[\"name_grouped\"] = train[\"name\"].apply(lambda n: trans[n] if n in trans else n)\n",
    "print(\n",
    "    f\"Grouped names : {len(train[train['name_grouped'] != train['name']])}/{len(train)}.\"\n",
    ")\n",
    "train[\"name\"] = train[\"name_grouped\"].copy()\n",
    "train = train.drop(columns=[\"name_grouped\"])\n",
    "del name_groups, trans\n",
    "gc.collect()\n",
    "\n",
    "# cap length at 76\n",
    "train[\"name\"] = train[\"name\"].str[:76]\n",
    "# eliminate some common words that do not change meaning\n",
    "for w in [\"center\"]:\n",
    "    train[\"name\"] = train[\"name\"].apply(lambda x: x.replace(w, \"\"))\n",
    "train[\"name\"].loc[train[\"name\"] == \"nan\"] = \"\"\n",
    "# walmart\n",
    "train[\"name\"] = train[\"name\"].apply(lambda x: \"walmart\" if \"walmart\" in x else x)\n",
    "# carrefour\n",
    "train[\"name\"] = train[\"name\"].apply(lambda x: \"carrefour\" if \"carrefour\" in x else x)\n",
    "# drop leading 'the' from name\n",
    "idx = train[\"name\"].str[:3] == \"the\"  # happens 17,712 times = 1.5%\n",
    "train[\"name\"].loc[idx] = train[\"name\"].loc[idx].str[3:]"
   ]
  },
  {
   "cell_type": "markdown",
   "metadata": {},
   "source": [
    "### Replace some cities"
   ]
  },
  {
   "cell_type": "code",
   "execution_count": 35,
   "metadata": {},
   "outputs": [
    {
     "data": {
      "application/javascript": [
       "\n",
       "            setTimeout(function() {\n",
       "                var nbb_cell_id = 35;\n",
       "                var nbb_unformatted_code = \"for key in CITY_DI.keys():\\n    train[\\\"city\\\"].loc[train[\\\"city\\\"] == key] = CITY_DI[key]\\n# second pass\\n\\nfor key in CITY_DI_2.keys():\\n    train[\\\"city\\\"].loc[train[\\\"city\\\"] == key] = CITY_DI_2[key]\";\n",
       "                var nbb_formatted_code = \"for key in CITY_DI.keys():\\n    train[\\\"city\\\"].loc[train[\\\"city\\\"] == key] = CITY_DI[key]\\n# second pass\\n\\nfor key in CITY_DI_2.keys():\\n    train[\\\"city\\\"].loc[train[\\\"city\\\"] == key] = CITY_DI_2[key]\";\n",
       "                var nbb_cells = Jupyter.notebook.get_cells();\n",
       "                for (var i = 0; i < nbb_cells.length; ++i) {\n",
       "                    if (nbb_cells[i].input_prompt_number == nbb_cell_id) {\n",
       "                        if (nbb_cells[i].get_text() == nbb_unformatted_code) {\n",
       "                             nbb_cells[i].set_text(nbb_formatted_code);\n",
       "                        }\n",
       "                        break;\n",
       "                    }\n",
       "                }\n",
       "            }, 500);\n",
       "            "
      ],
      "text/plain": [
       "<IPython.core.display.Javascript object>"
      ]
     },
     "metadata": {},
     "output_type": "display_data"
    }
   ],
   "source": [
    "for key in CITY_DI.keys():\n",
    "    train[\"city\"].loc[train[\"city\"] == key] = CITY_DI[key]\n",
    "# second pass\n",
    "\n",
    "for key in CITY_DI_2.keys():\n",
    "    train[\"city\"].loc[train[\"city\"] == key] = CITY_DI_2[key]"
   ]
  },
  {
   "cell_type": "markdown",
   "metadata": {},
   "source": [
    "### Group cities & state"
   ]
  },
  {
   "cell_type": "code",
   "execution_count": 36,
   "metadata": {},
   "outputs": [
    {
     "data": {
      "application/javascript": [
       "\n",
       "            setTimeout(function() {\n",
       "                var nbb_cell_id = 36;\n",
       "                var nbb_unformatted_code = \"# City group\\nwith open(RESSOURCES_PATH + \\\"dict_for_city_groups.pkl\\\", \\\"rb\\\") as f:\\n    dict_for_city_groups = pickle.load(f)\\n\\ntrain[\\\"city_group\\\"] = train[\\\"city\\\"].apply(\\n    lambda city: dict_for_city_groups.get(city, city)\\n)\\n\\n# State group\\nwith open(RESSOURCES_PATH + \\\"dict_for_state_groups.pkl\\\", \\\"rb\\\") as f:\\n    dict_for_state_groups = pickle.load(f)\\n\\ntrain[\\\"state_group\\\"] = train[\\\"state\\\"].apply(\\n    lambda state: dict_for_state_groups.get(state, state)\\n)\";\n",
       "                var nbb_formatted_code = \"# City group\\nwith open(RESSOURCES_PATH + \\\"dict_for_city_groups.pkl\\\", \\\"rb\\\") as f:\\n    dict_for_city_groups = pickle.load(f)\\n\\ntrain[\\\"city_group\\\"] = train[\\\"city\\\"].apply(\\n    lambda city: dict_for_city_groups.get(city, city)\\n)\\n\\n# State group\\nwith open(RESSOURCES_PATH + \\\"dict_for_state_groups.pkl\\\", \\\"rb\\\") as f:\\n    dict_for_state_groups = pickle.load(f)\\n\\ntrain[\\\"state_group\\\"] = train[\\\"state\\\"].apply(\\n    lambda state: dict_for_state_groups.get(state, state)\\n)\";\n",
       "                var nbb_cells = Jupyter.notebook.get_cells();\n",
       "                for (var i = 0; i < nbb_cells.length; ++i) {\n",
       "                    if (nbb_cells[i].input_prompt_number == nbb_cell_id) {\n",
       "                        if (nbb_cells[i].get_text() == nbb_unformatted_code) {\n",
       "                             nbb_cells[i].set_text(nbb_formatted_code);\n",
       "                        }\n",
       "                        break;\n",
       "                    }\n",
       "                }\n",
       "            }, 500);\n",
       "            "
      ],
      "text/plain": [
       "<IPython.core.display.Javascript object>"
      ]
     },
     "metadata": {},
     "output_type": "display_data"
    }
   ],
   "source": [
    "# City group\n",
    "with open(RESSOURCES_PATH + \"dict_for_city_groups.pkl\", \"rb\") as f:\n",
    "    dict_for_city_groups = pickle.load(f)\n",
    "\n",
    "train[\"city_group\"] = train[\"city\"].apply(\n",
    "    lambda city: dict_for_city_groups.get(city, city)\n",
    ")\n",
    "\n",
    "# State group\n",
    "with open(RESSOURCES_PATH + \"dict_for_state_groups.pkl\", \"rb\") as f:\n",
    "    dict_for_state_groups = pickle.load(f)\n",
    "\n",
    "train[\"state_group\"] = train[\"state\"].apply(\n",
    "    lambda state: dict_for_state_groups.get(state, state)\n",
    ")"
   ]
  },
  {
   "cell_type": "markdown",
   "metadata": {},
   "source": [
    "### Clean city"
   ]
  },
  {
   "cell_type": "code",
   "execution_count": 37,
   "metadata": {},
   "outputs": [
    {
     "data": {
      "application/javascript": [
       "\n",
       "            setTimeout(function() {\n",
       "                var nbb_cell_id = 37;\n",
       "                var nbb_unformatted_code = \"# cap length at 38\\ntrain[\\\"city\\\"] = train[\\\"city\\\"].str[:38]\\n\\n# eliminate some common words that do not change meaning\\nfor w in [\\\"gorod\\\"]:\\n    train[\\\"city\\\"] = train[\\\"city\\\"].apply(lambda x: x.replace(w, \\\"\\\"))\\n\\ntrain[\\\"city\\\"].loc[train[\\\"city\\\"] == \\\"nan\\\"] = \\\"\\\"\";\n",
       "                var nbb_formatted_code = \"# cap length at 38\\ntrain[\\\"city\\\"] = train[\\\"city\\\"].str[:38]\\n\\n# eliminate some common words that do not change meaning\\nfor w in [\\\"gorod\\\"]:\\n    train[\\\"city\\\"] = train[\\\"city\\\"].apply(lambda x: x.replace(w, \\\"\\\"))\\n\\ntrain[\\\"city\\\"].loc[train[\\\"city\\\"] == \\\"nan\\\"] = \\\"\\\"\";\n",
       "                var nbb_cells = Jupyter.notebook.get_cells();\n",
       "                for (var i = 0; i < nbb_cells.length; ++i) {\n",
       "                    if (nbb_cells[i].input_prompt_number == nbb_cell_id) {\n",
       "                        if (nbb_cells[i].get_text() == nbb_unformatted_code) {\n",
       "                             nbb_cells[i].set_text(nbb_formatted_code);\n",
       "                        }\n",
       "                        break;\n",
       "                    }\n",
       "                }\n",
       "            }, 500);\n",
       "            "
      ],
      "text/plain": [
       "<IPython.core.display.Javascript object>"
      ]
     },
     "metadata": {},
     "output_type": "display_data"
    }
   ],
   "source": [
    "# cap length at 38\n",
    "train[\"city\"] = train[\"city\"].str[:38]\n",
    "\n",
    "# eliminate some common words that do not change meaning\n",
    "for w in [\"gorod\"]:\n",
    "    train[\"city\"] = train[\"city\"].apply(lambda x: x.replace(w, \"\"))\n",
    "\n",
    "train[\"city\"].loc[train[\"city\"] == \"nan\"] = \"\""
   ]
  },
  {
   "cell_type": "markdown",
   "metadata": {},
   "source": [
    "### Clean address"
   ]
  },
  {
   "cell_type": "code",
   "execution_count": 38,
   "metadata": {},
   "outputs": [
    {
     "data": {
      "application/javascript": [
       "\n",
       "            setTimeout(function() {\n",
       "                var nbb_cell_id = 38;\n",
       "                var nbb_unformatted_code = \"train[\\\"address\\\"].loc[train[\\\"address\\\"] == \\\"nan\\\"] = \\\"\\\"\\ntrain[\\\"address\\\"] = train[\\\"address\\\"].str[:99]  # cap length at 99\\ntrain[\\\"address\\\"] = train[\\\"address\\\"].apply(lambda x: x.replace(\\\"street\\\", \\\"str\\\"))\";\n",
       "                var nbb_formatted_code = \"train[\\\"address\\\"].loc[train[\\\"address\\\"] == \\\"nan\\\"] = \\\"\\\"\\ntrain[\\\"address\\\"] = train[\\\"address\\\"].str[:99]  # cap length at 99\\ntrain[\\\"address\\\"] = train[\\\"address\\\"].apply(lambda x: x.replace(\\\"street\\\", \\\"str\\\"))\";\n",
       "                var nbb_cells = Jupyter.notebook.get_cells();\n",
       "                for (var i = 0; i < nbb_cells.length; ++i) {\n",
       "                    if (nbb_cells[i].input_prompt_number == nbb_cell_id) {\n",
       "                        if (nbb_cells[i].get_text() == nbb_unformatted_code) {\n",
       "                             nbb_cells[i].set_text(nbb_formatted_code);\n",
       "                        }\n",
       "                        break;\n",
       "                    }\n",
       "                }\n",
       "            }, 500);\n",
       "            "
      ],
      "text/plain": [
       "<IPython.core.display.Javascript object>"
      ]
     },
     "metadata": {},
     "output_type": "display_data"
    }
   ],
   "source": [
    "train[\"address\"].loc[train[\"address\"] == \"nan\"] = \"\"\n",
    "train[\"address\"] = train[\"address\"].str[:99]  # cap length at 99\n",
    "train[\"address\"] = train[\"address\"].apply(lambda x: x.replace(\"street\", \"str\"))"
   ]
  },
  {
   "cell_type": "markdown",
   "metadata": {},
   "source": [
    "### Clean state"
   ]
  },
  {
   "cell_type": "code",
   "execution_count": 39,
   "metadata": {},
   "outputs": [
    {
     "data": {
      "application/javascript": [
       "\n",
       "            setTimeout(function() {\n",
       "                var nbb_cell_id = 39;\n",
       "                var nbb_unformatted_code = \"train[\\\"state\\\"] = train[\\\"state\\\"].str[:33]  # cap length at 33\\nstate_di = {\\n    \\\"calif\\\": \\\"ca\\\",\\n    \\\"jakartacapitalregion\\\": \\\"jakarta\\\",\\n    \\\"moscow\\\": \\\"moskva\\\",\\n    \\\"seoulteugbyeolsi\\\": \\\"seoul\\\",\\n}\\nfor key in state_di.keys():\\n    train[\\\"state\\\"].loc[train[\\\"state\\\"] == key] = state_di[key]\\ntrain[\\\"state\\\"].loc[train[\\\"state\\\"] == \\\"nan\\\"] = \\\"\\\"\";\n",
       "                var nbb_formatted_code = \"train[\\\"state\\\"] = train[\\\"state\\\"].str[:33]  # cap length at 33\\nstate_di = {\\n    \\\"calif\\\": \\\"ca\\\",\\n    \\\"jakartacapitalregion\\\": \\\"jakarta\\\",\\n    \\\"moscow\\\": \\\"moskva\\\",\\n    \\\"seoulteugbyeolsi\\\": \\\"seoul\\\",\\n}\\nfor key in state_di.keys():\\n    train[\\\"state\\\"].loc[train[\\\"state\\\"] == key] = state_di[key]\\ntrain[\\\"state\\\"].loc[train[\\\"state\\\"] == \\\"nan\\\"] = \\\"\\\"\";\n",
       "                var nbb_cells = Jupyter.notebook.get_cells();\n",
       "                for (var i = 0; i < nbb_cells.length; ++i) {\n",
       "                    if (nbb_cells[i].input_prompt_number == nbb_cell_id) {\n",
       "                        if (nbb_cells[i].get_text() == nbb_unformatted_code) {\n",
       "                             nbb_cells[i].set_text(nbb_formatted_code);\n",
       "                        }\n",
       "                        break;\n",
       "                    }\n",
       "                }\n",
       "            }, 500);\n",
       "            "
      ],
      "text/plain": [
       "<IPython.core.display.Javascript object>"
      ]
     },
     "metadata": {},
     "output_type": "display_data"
    }
   ],
   "source": [
    "train[\"state\"] = train[\"state\"].str[:33]  # cap length at 33\n",
    "state_di = {\n",
    "    \"calif\": \"ca\",\n",
    "    \"jakartacapitalregion\": \"jakarta\",\n",
    "    \"moscow\": \"moskva\",\n",
    "    \"seoulteugbyeolsi\": \"seoul\",\n",
    "}\n",
    "for key in state_di.keys():\n",
    "    train[\"state\"].loc[train[\"state\"] == key] = state_di[key]\n",
    "train[\"state\"].loc[train[\"state\"] == \"nan\"] = \"\""
   ]
  },
  {
   "cell_type": "markdown",
   "metadata": {},
   "source": [
    "### Clean url"
   ]
  },
  {
   "cell_type": "code",
   "execution_count": 40,
   "metadata": {},
   "outputs": [
    {
     "data": {
      "application/javascript": [
       "\n",
       "            setTimeout(function() {\n",
       "                var nbb_cell_id = 40;\n",
       "                var nbb_unformatted_code = \"train[\\\"url\\\"] = train[\\\"url\\\"].str[:129]  # cap length at 129\\ntrain[\\\"url\\\"].loc[train[\\\"url\\\"] == \\\"nan\\\"] = \\\"\\\"\\nidx = train[\\\"url\\\"].str[:8] == \\\"httpswww\\\"\\ntrain[\\\"url\\\"].loc[idx] = train[\\\"url\\\"].str[8:].loc[idx]\\nidx = train[\\\"url\\\"].str[:7] == \\\"httpwww\\\"\\ntrain[\\\"url\\\"].loc[idx] = train[\\\"url\\\"].str[7:].loc[idx]\\nidx = train[\\\"url\\\"].str[:5] == \\\"https\\\"\\ntrain[\\\"url\\\"].loc[idx] = train[\\\"url\\\"].str[5:].loc[idx]\\nidx = train[\\\"url\\\"].str[:4] == \\\"http\\\"\\ntrain[\\\"url\\\"].loc[idx] = train[\\\"url\\\"].str[4:].loc[idx]\\ntrain[\\\"url\\\"].loc[train[\\\"url\\\"] == \\\"nan\\\"] = \\\"\\\"\";\n",
       "                var nbb_formatted_code = \"train[\\\"url\\\"] = train[\\\"url\\\"].str[:129]  # cap length at 129\\ntrain[\\\"url\\\"].loc[train[\\\"url\\\"] == \\\"nan\\\"] = \\\"\\\"\\nidx = train[\\\"url\\\"].str[:8] == \\\"httpswww\\\"\\ntrain[\\\"url\\\"].loc[idx] = train[\\\"url\\\"].str[8:].loc[idx]\\nidx = train[\\\"url\\\"].str[:7] == \\\"httpwww\\\"\\ntrain[\\\"url\\\"].loc[idx] = train[\\\"url\\\"].str[7:].loc[idx]\\nidx = train[\\\"url\\\"].str[:5] == \\\"https\\\"\\ntrain[\\\"url\\\"].loc[idx] = train[\\\"url\\\"].str[5:].loc[idx]\\nidx = train[\\\"url\\\"].str[:4] == \\\"http\\\"\\ntrain[\\\"url\\\"].loc[idx] = train[\\\"url\\\"].str[4:].loc[idx]\\ntrain[\\\"url\\\"].loc[train[\\\"url\\\"] == \\\"nan\\\"] = \\\"\\\"\";\n",
       "                var nbb_cells = Jupyter.notebook.get_cells();\n",
       "                for (var i = 0; i < nbb_cells.length; ++i) {\n",
       "                    if (nbb_cells[i].input_prompt_number == nbb_cell_id) {\n",
       "                        if (nbb_cells[i].get_text() == nbb_unformatted_code) {\n",
       "                             nbb_cells[i].set_text(nbb_formatted_code);\n",
       "                        }\n",
       "                        break;\n",
       "                    }\n",
       "                }\n",
       "            }, 500);\n",
       "            "
      ],
      "text/plain": [
       "<IPython.core.display.Javascript object>"
      ]
     },
     "metadata": {},
     "output_type": "display_data"
    }
   ],
   "source": [
    "train[\"url\"] = train[\"url\"].str[:129]  # cap length at 129\n",
    "train[\"url\"].loc[train[\"url\"] == \"nan\"] = \"\"\n",
    "idx = train[\"url\"].str[:8] == \"httpswww\"\n",
    "train[\"url\"].loc[idx] = train[\"url\"].str[8:].loc[idx]\n",
    "idx = train[\"url\"].str[:7] == \"httpwww\"\n",
    "train[\"url\"].loc[idx] = train[\"url\"].str[7:].loc[idx]\n",
    "idx = train[\"url\"].str[:5] == \"https\"\n",
    "train[\"url\"].loc[idx] = train[\"url\"].str[5:].loc[idx]\n",
    "idx = train[\"url\"].str[:4] == \"http\"\n",
    "train[\"url\"].loc[idx] = train[\"url\"].str[4:].loc[idx]\n",
    "train[\"url\"].loc[train[\"url\"] == \"nan\"] = \"\""
   ]
  },
  {
   "cell_type": "markdown",
   "metadata": {},
   "source": [
    "### Clean phone"
   ]
  },
  {
   "cell_type": "code",
   "execution_count": 41,
   "metadata": {},
   "outputs": [
    {
     "data": {
      "application/javascript": [
       "\n",
       "            setTimeout(function() {\n",
       "                var nbb_cell_id = 41;\n",
       "                var nbb_unformatted_code = \"train[\\\"phone\\\"] = train[\\\"phone\\\"].apply(lambda text: process_phone(text))\\n# all matches of last 9 digits look legit - drop leading digit\\ntrain[\\\"phone\\\"] = train[\\\"phone\\\"].str[1:]\\n# set invalid numbers to empty\\nidx = (train[\\\"phone\\\"] == \\\"000000000\\\") | (train[\\\"phone\\\"] == \\\"999999999\\\")\\ntrain[\\\"phone\\\"].loc[idx] = \\\"\\\"\";\n",
       "                var nbb_formatted_code = \"train[\\\"phone\\\"] = train[\\\"phone\\\"].apply(lambda text: process_phone(text))\\n# all matches of last 9 digits look legit - drop leading digit\\ntrain[\\\"phone\\\"] = train[\\\"phone\\\"].str[1:]\\n# set invalid numbers to empty\\nidx = (train[\\\"phone\\\"] == \\\"000000000\\\") | (train[\\\"phone\\\"] == \\\"999999999\\\")\\ntrain[\\\"phone\\\"].loc[idx] = \\\"\\\"\";\n",
       "                var nbb_cells = Jupyter.notebook.get_cells();\n",
       "                for (var i = 0; i < nbb_cells.length; ++i) {\n",
       "                    if (nbb_cells[i].input_prompt_number == nbb_cell_id) {\n",
       "                        if (nbb_cells[i].get_text() == nbb_unformatted_code) {\n",
       "                             nbb_cells[i].set_text(nbb_formatted_code);\n",
       "                        }\n",
       "                        break;\n",
       "                    }\n",
       "                }\n",
       "            }, 500);\n",
       "            "
      ],
      "text/plain": [
       "<IPython.core.display.Javascript object>"
      ]
     },
     "metadata": {},
     "output_type": "display_data"
    }
   ],
   "source": [
    "train[\"phone\"] = train[\"phone\"].apply(lambda text: process_phone(text))\n",
    "# all matches of last 9 digits look legit - drop leading digit\n",
    "train[\"phone\"] = train[\"phone\"].str[1:]\n",
    "# set invalid numbers to empty\n",
    "idx = (train[\"phone\"] == \"000000000\") | (train[\"phone\"] == \"999999999\")\n",
    "train[\"phone\"].loc[idx] = \"\""
   ]
  },
  {
   "cell_type": "markdown",
   "metadata": {},
   "source": [
    "### Clean categories"
   ]
  },
  {
   "cell_type": "code",
   "execution_count": 42,
   "metadata": {},
   "outputs": [
    {
     "data": {
      "application/javascript": [
       "\n",
       "            setTimeout(function() {\n",
       "                var nbb_cell_id = 42;\n",
       "                var nbb_unformatted_code = \"train[\\\"categories\\\"] = train[\\\"categories\\\"].str[:68]  # cap length at 68\\ntrain[\\\"categories\\\"].loc[train[\\\"categories\\\"] == \\\"nan\\\"] = \\\"\\\"\\ncat_di = {\\\"aiport\\\": \\\"airport\\\", \\\"terminal\\\": \\\"airport\\\"}\\nfor key in cat_di.keys():\\n    train[\\\"categories\\\"] = train[\\\"categories\\\"].apply(\\n        lambda x: x.replace(key, cat_di[key])\\n    )\";\n",
       "                var nbb_formatted_code = \"train[\\\"categories\\\"] = train[\\\"categories\\\"].str[:68]  # cap length at 68\\ntrain[\\\"categories\\\"].loc[train[\\\"categories\\\"] == \\\"nan\\\"] = \\\"\\\"\\ncat_di = {\\\"aiport\\\": \\\"airport\\\", \\\"terminal\\\": \\\"airport\\\"}\\nfor key in cat_di.keys():\\n    train[\\\"categories\\\"] = train[\\\"categories\\\"].apply(\\n        lambda x: x.replace(key, cat_di[key])\\n    )\";\n",
       "                var nbb_cells = Jupyter.notebook.get_cells();\n",
       "                for (var i = 0; i < nbb_cells.length; ++i) {\n",
       "                    if (nbb_cells[i].input_prompt_number == nbb_cell_id) {\n",
       "                        if (nbb_cells[i].get_text() == nbb_unformatted_code) {\n",
       "                             nbb_cells[i].set_text(nbb_formatted_code);\n",
       "                        }\n",
       "                        break;\n",
       "                    }\n",
       "                }\n",
       "            }, 500);\n",
       "            "
      ],
      "text/plain": [
       "<IPython.core.display.Javascript object>"
      ]
     },
     "metadata": {},
     "output_type": "display_data"
    }
   ],
   "source": [
    "train[\"categories\"] = train[\"categories\"].str[:68]  # cap length at 68\n",
    "train[\"categories\"].loc[train[\"categories\"] == \"nan\"] = \"\"\n",
    "cat_di = {\"aiport\": \"airport\", \"terminal\": \"airport\"}\n",
    "for key in cat_di.keys():\n",
    "    train[\"categories\"] = train[\"categories\"].apply(\n",
    "        lambda x: x.replace(key, cat_di[key])\n",
    "    )"
   ]
  },
  {
   "cell_type": "markdown",
   "metadata": {},
   "source": [
    "### Translation"
   ]
  },
  {
   "cell_type": "code",
   "execution_count": 43,
   "metadata": {},
   "outputs": [
    {
     "name": "stderr",
     "output_type": "stream",
     "text": [
      "/home/theo/.local/lib/python3.8/site-packages/pandas/core/indexing.py:670: SettingWithCopyWarning: \n",
      "A value is trying to be set on a copy of a slice from a DataFrame\n",
      "\n",
      "See the caveats in the documentation: https://pandas.pydata.org/pandas-docs/stable/user_guide/indexing.html#returning-a-view-versus-a-copy\n",
      "  iloc._setitem_with_indexer(indexer, value)\n"
     ]
    },
    {
     "data": {
      "application/javascript": [
       "\n",
       "            setTimeout(function() {\n",
       "                var nbb_cell_id = 43;\n",
       "                var nbb_unformatted_code = \"# Translate Indonesian\\nidx = train[\\\"country\\\"] == 2  # ID\\n\\nfor col in [\\\"name\\\", \\\"address\\\", \\\"city\\\", \\\"state\\\"]:\\n    train[col].loc[idx] = train[col].loc[idx].apply(lambda x: id_translate(x, ID_DI))\";\n",
       "                var nbb_formatted_code = \"# Translate Indonesian\\nidx = train[\\\"country\\\"] == 2  # ID\\n\\nfor col in [\\\"name\\\", \\\"address\\\", \\\"city\\\", \\\"state\\\"]:\\n    train[col].loc[idx] = train[col].loc[idx].apply(lambda x: id_translate(x, ID_DI))\";\n",
       "                var nbb_cells = Jupyter.notebook.get_cells();\n",
       "                for (var i = 0; i < nbb_cells.length; ++i) {\n",
       "                    if (nbb_cells[i].input_prompt_number == nbb_cell_id) {\n",
       "                        if (nbb_cells[i].get_text() == nbb_unformatted_code) {\n",
       "                             nbb_cells[i].set_text(nbb_formatted_code);\n",
       "                        }\n",
       "                        break;\n",
       "                    }\n",
       "                }\n",
       "            }, 500);\n",
       "            "
      ],
      "text/plain": [
       "<IPython.core.display.Javascript object>"
      ]
     },
     "metadata": {},
     "output_type": "display_data"
    }
   ],
   "source": [
    "# Translate Indonesian\n",
    "idx = train[\"country\"] == 2  # ID\n",
    "\n",
    "for col in [\"name\", \"address\", \"city\", \"state\"]:\n",
    "    train[col].loc[idx] = train[col].loc[idx].apply(lambda x: id_translate(x, ID_DI))"
   ]
  },
  {
   "cell_type": "code",
   "execution_count": 44,
   "metadata": {},
   "outputs": [
    {
     "data": {
      "application/javascript": [
       "\n",
       "            setTimeout(function() {\n",
       "                var nbb_cell_id = 44;\n",
       "                var nbb_unformatted_code = \"# # translate russian words\\n# dict_ru_en = pd.read_pickle(RESSOURCES_PATH + \\\"dict_translate_russian.pkl\\\")\\n\\n# idx = train[\\\"country\\\"] == 6  # RU\\n# for k in [\\\"city\\\", \\\"state\\\", \\\"address\\\", \\\"name\\\"]:\\n#     train.loc[idx, k] = (\\n#         train.loc[idx, k]\\n#         .astype(str)\\n#         .apply(lambda x: translate_russian_word_by_word(x, dict_ru_en))\\n#     )\\n#     train.loc[idx, k] = train.loc[idx, k].apply(lambda x: \\\"\\\" if x == \\\"nan\\\" else x)\\n# del dict_ru_en\";\n",
       "                var nbb_formatted_code = \"# # translate russian words\\n# dict_ru_en = pd.read_pickle(RESSOURCES_PATH + \\\"dict_translate_russian.pkl\\\")\\n\\n# idx = train[\\\"country\\\"] == 6  # RU\\n# for k in [\\\"city\\\", \\\"state\\\", \\\"address\\\", \\\"name\\\"]:\\n#     train.loc[idx, k] = (\\n#         train.loc[idx, k]\\n#         .astype(str)\\n#         .apply(lambda x: translate_russian_word_by_word(x, dict_ru_en))\\n#     )\\n#     train.loc[idx, k] = train.loc[idx, k].apply(lambda x: \\\"\\\" if x == \\\"nan\\\" else x)\\n# del dict_ru_en\";\n",
       "                var nbb_cells = Jupyter.notebook.get_cells();\n",
       "                for (var i = 0; i < nbb_cells.length; ++i) {\n",
       "                    if (nbb_cells[i].input_prompt_number == nbb_cell_id) {\n",
       "                        if (nbb_cells[i].get_text() == nbb_unformatted_code) {\n",
       "                             nbb_cells[i].set_text(nbb_formatted_code);\n",
       "                        }\n",
       "                        break;\n",
       "                    }\n",
       "                }\n",
       "            }, 500);\n",
       "            "
      ],
      "text/plain": [
       "<IPython.core.display.Javascript object>"
      ]
     },
     "metadata": {},
     "output_type": "display_data"
    }
   ],
   "source": [
    "# # translate russian words\n",
    "# dict_ru_en = pd.read_pickle(RESSOURCES_PATH + \"dict_translate_russian.pkl\")\n",
    "\n",
    "# idx = train[\"country\"] == 6  # RU\n",
    "# for k in [\"city\", \"state\", \"address\", \"name\"]:\n",
    "#     train.loc[idx, k] = (\n",
    "#         train.loc[idx, k]\n",
    "#         .astype(str)\n",
    "#         .apply(lambda x: translate_russian_word_by_word(x, dict_ru_en))\n",
    "#     )\n",
    "#     train.loc[idx, k] = train.loc[idx, k].apply(lambda x: \"\" if x == \"nan\" else x)\n",
    "# del dict_ru_en"
   ]
  },
  {
   "cell_type": "markdown",
   "metadata": {},
   "source": [
    "### Replacing words"
   ]
  },
  {
   "cell_type": "code",
   "execution_count": 45,
   "metadata": {},
   "outputs": [
    {
     "name": "stderr",
     "output_type": "stream",
     "text": [
      "/home/theo/.local/lib/python3.8/site-packages/pandas/core/indexing.py:670: SettingWithCopyWarning: \n",
      "A value is trying to be set on a copy of a slice from a DataFrame\n",
      "\n",
      "See the caveats in the documentation: https://pandas.pydata.org/pandas-docs/stable/user_guide/indexing.html#returning-a-view-versus-a-copy\n",
      "  iloc._setitem_with_indexer(indexer, value)\n"
     ]
    },
    {
     "data": {
      "application/javascript": [
       "\n",
       "            setTimeout(function() {\n",
       "                var nbb_cell_id = 45;\n",
       "                var nbb_unformatted_code = \"# match some identical names - based on analysis of mismatched names for true pairs\\n# soekarno-hatta international airport - Jakarta, ID\\n\\nidx = train[\\\"country\\\"] == 2  # ID - this is where this location is\\n\\nfor l1 in L1S_ID:\\n    train[\\\"name\\\"].loc[idx] = (\\n        train[\\\"name\\\"].loc[idx].apply(lambda x: x if x not in l1[1:] else l1[0])\\n    )\";\n",
       "                var nbb_formatted_code = \"# match some identical names - based on analysis of mismatched names for true pairs\\n# soekarno-hatta international airport - Jakarta, ID\\n\\nidx = train[\\\"country\\\"] == 2  # ID - this is where this location is\\n\\nfor l1 in L1S_ID:\\n    train[\\\"name\\\"].loc[idx] = (\\n        train[\\\"name\\\"].loc[idx].apply(lambda x: x if x not in l1[1:] else l1[0])\\n    )\";\n",
       "                var nbb_cells = Jupyter.notebook.get_cells();\n",
       "                for (var i = 0; i < nbb_cells.length; ++i) {\n",
       "                    if (nbb_cells[i].input_prompt_number == nbb_cell_id) {\n",
       "                        if (nbb_cells[i].get_text() == nbb_unformatted_code) {\n",
       "                             nbb_cells[i].set_text(nbb_formatted_code);\n",
       "                        }\n",
       "                        break;\n",
       "                    }\n",
       "                }\n",
       "            }, 500);\n",
       "            "
      ],
      "text/plain": [
       "<IPython.core.display.Javascript object>"
      ]
     },
     "metadata": {},
     "output_type": "display_data"
    }
   ],
   "source": [
    "# match some identical names - based on analysis of mismatched names for true pairs\n",
    "# soekarno-hatta international airport - Jakarta, ID\n",
    "\n",
    "idx = train[\"country\"] == 2  # ID - this is where this location is\n",
    "\n",
    "for l1 in L1S_ID:\n",
    "    train[\"name\"].loc[idx] = (\n",
    "        train[\"name\"].loc[idx].apply(lambda x: x if x not in l1[1:] else l1[0])\n",
    "    )"
   ]
  },
  {
   "cell_type": "code",
   "execution_count": 46,
   "metadata": {},
   "outputs": [
    {
     "data": {
      "application/javascript": [
       "\n",
       "            setTimeout(function() {\n",
       "                var nbb_cell_id = 46;\n",
       "                var nbb_unformatted_code = \"for l1 in LL1:\\n    train[\\\"name\\\"] = train[\\\"name\\\"].apply(lambda x: x if x not in l1[1:] else l1[0])\";\n",
       "                var nbb_formatted_code = \"for l1 in LL1:\\n    train[\\\"name\\\"] = train[\\\"name\\\"].apply(lambda x: x if x not in l1[1:] else l1[0])\";\n",
       "                var nbb_cells = Jupyter.notebook.get_cells();\n",
       "                for (var i = 0; i < nbb_cells.length; ++i) {\n",
       "                    if (nbb_cells[i].input_prompt_number == nbb_cell_id) {\n",
       "                        if (nbb_cells[i].get_text() == nbb_unformatted_code) {\n",
       "                             nbb_cells[i].set_text(nbb_formatted_code);\n",
       "                        }\n",
       "                        break;\n",
       "                    }\n",
       "                }\n",
       "            }, 500);\n",
       "            "
      ],
      "text/plain": [
       "<IPython.core.display.Javascript object>"
      ]
     },
     "metadata": {},
     "output_type": "display_data"
    }
   ],
   "source": [
    "for l1 in LL1:\n",
    "    train[\"name\"] = train[\"name\"].apply(lambda x: x if x not in l1[1:] else l1[0])"
   ]
  },
  {
   "cell_type": "code",
   "execution_count": 47,
   "metadata": {},
   "outputs": [
    {
     "data": {
      "application/javascript": [
       "\n",
       "            setTimeout(function() {\n",
       "                var nbb_cell_id = 47;\n",
       "                var nbb_unformatted_code = \"train[\\\"name\\\"] = train[\\\"name\\\"].apply(replace_common_words)\";\n",
       "                var nbb_formatted_code = \"train[\\\"name\\\"] = train[\\\"name\\\"].apply(replace_common_words)\";\n",
       "                var nbb_cells = Jupyter.notebook.get_cells();\n",
       "                for (var i = 0; i < nbb_cells.length; ++i) {\n",
       "                    if (nbb_cells[i].input_prompt_number == nbb_cell_id) {\n",
       "                        if (nbb_cells[i].get_text() == nbb_unformatted_code) {\n",
       "                             nbb_cells[i].set_text(nbb_formatted_code);\n",
       "                        }\n",
       "                        break;\n",
       "                    }\n",
       "                }\n",
       "            }, 500);\n",
       "            "
      ],
      "text/plain": [
       "<IPython.core.display.Javascript object>"
      ]
     },
     "metadata": {},
     "output_type": "display_data"
    }
   ],
   "source": [
    "train[\"name\"] = train[\"name\"].apply(replace_common_words)"
   ]
  },
  {
   "cell_type": "markdown",
   "metadata": {},
   "source": [
    "### Cat 2"
   ]
  },
  {
   "cell_type": "code",
   "execution_count": 48,
   "metadata": {},
   "outputs": [
    {
     "data": {
      "application/javascript": [
       "\n",
       "            setTimeout(function() {\n",
       "                var nbb_cell_id = 48;\n",
       "                var nbb_unformatted_code = \"# define cat2 (clean category with low cardinality)\\n# base it on address, name and catogories - after those have been cleaned (then do not need to include misspellings)\\ntrain[\\\"cat2\\\"] = \\\"\\\"  # init (left: 129824*)\\n\\nfor col in [\\\"address\\\", \\\"categories\\\", \\\"name\\\"]:\\n    for word in ALL_WORDS.keys():\\n        words = ALL_WORDS[word]\\n        for w in words:\\n            train[\\\"cat2\\\"].loc[train[col].str.contains(w, regex=False)] = word\\n\\ntrain[\\\"cat2\\\"] = train[\\\"cat2\\\"].map(CAT2_DI).astype(\\\"int16\\\")\";\n",
       "                var nbb_formatted_code = \"# define cat2 (clean category with low cardinality)\\n# base it on address, name and catogories - after those have been cleaned (then do not need to include misspellings)\\ntrain[\\\"cat2\\\"] = \\\"\\\"  # init (left: 129824*)\\n\\nfor col in [\\\"address\\\", \\\"categories\\\", \\\"name\\\"]:\\n    for word in ALL_WORDS.keys():\\n        words = ALL_WORDS[word]\\n        for w in words:\\n            train[\\\"cat2\\\"].loc[train[col].str.contains(w, regex=False)] = word\\n\\ntrain[\\\"cat2\\\"] = train[\\\"cat2\\\"].map(CAT2_DI).astype(\\\"int16\\\")\";\n",
       "                var nbb_cells = Jupyter.notebook.get_cells();\n",
       "                for (var i = 0; i < nbb_cells.length; ++i) {\n",
       "                    if (nbb_cells[i].input_prompt_number == nbb_cell_id) {\n",
       "                        if (nbb_cells[i].get_text() == nbb_unformatted_code) {\n",
       "                             nbb_cells[i].set_text(nbb_formatted_code);\n",
       "                        }\n",
       "                        break;\n",
       "                    }\n",
       "                }\n",
       "            }, 500);\n",
       "            "
      ],
      "text/plain": [
       "<IPython.core.display.Javascript object>"
      ]
     },
     "metadata": {},
     "output_type": "display_data"
    }
   ],
   "source": [
    "# define cat2 (clean category with low cardinality)\n",
    "# base it on address, name and catogories - after those have been cleaned (then do not need to include misspellings)\n",
    "train[\"cat2\"] = \"\"  # init (left: 129824*)\n",
    "\n",
    "for col in [\"address\", \"categories\", \"name\"]:\n",
    "    for word in ALL_WORDS.keys():\n",
    "        words = ALL_WORDS[word]\n",
    "        for w in words:\n",
    "            train[\"cat2\"].loc[train[col].str.contains(w, regex=False)] = word\n",
    "\n",
    "train[\"cat2\"] = train[\"cat2\"].map(CAT2_DI).astype(\"int16\")"
   ]
  },
  {
   "cell_type": "markdown",
   "metadata": {},
   "source": [
    "### Nans"
   ]
  },
  {
   "cell_type": "code",
   "execution_count": 49,
   "metadata": {},
   "outputs": [
    {
     "data": {
      "application/javascript": [
       "\n",
       "            setTimeout(function() {\n",
       "                var nbb_cell_id = 49;\n",
       "                var nbb_unformatted_code = \"for c in [\\n    \\\"id\\\",\\n    \\\"name\\\",\\n    \\\"address\\\",\\n    \\\"city\\\",\\n    \\\"state\\\",\\n    \\\"zip\\\",\\n    \\\"url\\\",\\n    \\\"phone\\\",\\n    \\\"categories\\\",\\n    \\\"m_true\\\",\\n    \\\"categories_split\\\",\\n    \\\"name_initial\\\",\\n    \\\"name_initial_decode\\\",\\n    \\\"nameC\\\",\\n    \\\"name2\\\",\\n    \\\"city_group\\\",\\n    \\\"state_group\\\",\\n]:\\n    train.loc[train[c] == \\\"null\\\", c] = \\\"\\\"\\n    train.loc[train[c] == \\\"nan\\\", c] = \\\"\\\"\";\n",
       "                var nbb_formatted_code = \"for c in [\\n    \\\"id\\\",\\n    \\\"name\\\",\\n    \\\"address\\\",\\n    \\\"city\\\",\\n    \\\"state\\\",\\n    \\\"zip\\\",\\n    \\\"url\\\",\\n    \\\"phone\\\",\\n    \\\"categories\\\",\\n    \\\"m_true\\\",\\n    \\\"categories_split\\\",\\n    \\\"name_initial\\\",\\n    \\\"name_initial_decode\\\",\\n    \\\"nameC\\\",\\n    \\\"name2\\\",\\n    \\\"city_group\\\",\\n    \\\"state_group\\\",\\n]:\\n    train.loc[train[c] == \\\"null\\\", c] = \\\"\\\"\\n    train.loc[train[c] == \\\"nan\\\", c] = \\\"\\\"\";\n",
       "                var nbb_cells = Jupyter.notebook.get_cells();\n",
       "                for (var i = 0; i < nbb_cells.length; ++i) {\n",
       "                    if (nbb_cells[i].input_prompt_number == nbb_cell_id) {\n",
       "                        if (nbb_cells[i].get_text() == nbb_unformatted_code) {\n",
       "                             nbb_cells[i].set_text(nbb_formatted_code);\n",
       "                        }\n",
       "                        break;\n",
       "                    }\n",
       "                }\n",
       "            }, 500);\n",
       "            "
      ],
      "text/plain": [
       "<IPython.core.display.Javascript object>"
      ]
     },
     "metadata": {},
     "output_type": "display_data"
    }
   ],
   "source": [
    "for c in [\n",
    "    \"id\",\n",
    "    \"name\",\n",
    "    \"address\",\n",
    "    \"city\",\n",
    "    \"state\",\n",
    "    \"zip\",\n",
    "    \"url\",\n",
    "    \"phone\",\n",
    "    \"categories\",\n",
    "    \"m_true\",\n",
    "    \"categories_split\",\n",
    "    \"name_initial\",\n",
    "    \"name_initial_decode\",\n",
    "    \"nameC\",\n",
    "    \"name2\",\n",
    "    \"city_group\",\n",
    "    \"state_group\",\n",
    "]:\n",
    "    train.loc[train[c] == \"null\", c] = \"\"\n",
    "    train.loc[train[c] == \"nan\", c] = \"\""
   ]
  },
  {
   "cell_type": "markdown",
   "metadata": {},
   "source": [
    "## Save"
   ]
  },
  {
   "cell_type": "code",
   "execution_count": 50,
   "metadata": {},
   "outputs": [
    {
     "name": "stdout",
     "output_type": "stream",
     "text": [
      "Done !\n"
     ]
    },
    {
     "data": {
      "application/javascript": [
       "\n",
       "            setTimeout(function() {\n",
       "                var nbb_cell_id = 50;\n",
       "                var nbb_unformatted_code = \"if IS_TEST:\\n    train.to_csv(OUT_PATH + \\\"cleaned_data_test.csv\\\", index=False)\\nelse:\\n    train.to_csv(OUT_PATH + \\\"cleaned_data_train.csv\\\", index=False)\\n\\nprint(\\\"Done !\\\")\";\n",
       "                var nbb_formatted_code = \"if IS_TEST:\\n    train.to_csv(OUT_PATH + \\\"cleaned_data_test.csv\\\", index=False)\\nelse:\\n    train.to_csv(OUT_PATH + \\\"cleaned_data_train.csv\\\", index=False)\\n\\nprint(\\\"Done !\\\")\";\n",
       "                var nbb_cells = Jupyter.notebook.get_cells();\n",
       "                for (var i = 0; i < nbb_cells.length; ++i) {\n",
       "                    if (nbb_cells[i].input_prompt_number == nbb_cell_id) {\n",
       "                        if (nbb_cells[i].get_text() == nbb_unformatted_code) {\n",
       "                             nbb_cells[i].set_text(nbb_formatted_code);\n",
       "                        }\n",
       "                        break;\n",
       "                    }\n",
       "                }\n",
       "            }, 500);\n",
       "            "
      ],
      "text/plain": [
       "<IPython.core.display.Javascript object>"
      ]
     },
     "metadata": {},
     "output_type": "display_data"
    }
   ],
   "source": [
    "if IS_TEST:\n",
    "    train.to_csv(OUT_PATH + \"cleaned_data_test.csv\", index=False)\n",
    "else:\n",
    "    train.to_csv(OUT_PATH + \"cleaned_data_train.csv\", index=False)\n",
    "\n",
    "print(\"Done !\")"
   ]
  },
  {
   "cell_type": "markdown",
   "metadata": {},
   "source": [
    "## Reload & check"
   ]
  },
  {
   "cell_type": "code",
   "execution_count": 51,
   "metadata": {},
   "outputs": [
    {
     "data": {
      "application/javascript": [
       "\n",
       "            setTimeout(function() {\n",
       "                var nbb_cell_id = 51;\n",
       "                var nbb_unformatted_code = \"from matching import load_cleaned_data\";\n",
       "                var nbb_formatted_code = \"from matching import load_cleaned_data\";\n",
       "                var nbb_cells = Jupyter.notebook.get_cells();\n",
       "                for (var i = 0; i < nbb_cells.length; ++i) {\n",
       "                    if (nbb_cells[i].input_prompt_number == nbb_cell_id) {\n",
       "                        if (nbb_cells[i].get_text() == nbb_unformatted_code) {\n",
       "                             nbb_cells[i].set_text(nbb_formatted_code);\n",
       "                        }\n",
       "                        break;\n",
       "                    }\n",
       "                }\n",
       "            }, 500);\n",
       "            "
      ],
      "text/plain": [
       "<IPython.core.display.Javascript object>"
      ]
     },
     "metadata": {},
     "output_type": "display_data"
    }
   ],
   "source": [
    "from matching import load_cleaned_data"
   ]
  },
  {
   "cell_type": "code",
   "execution_count": 52,
   "metadata": {},
   "outputs": [
    {
     "data": {
      "application/javascript": [
       "\n",
       "            setTimeout(function() {\n",
       "                var nbb_cell_id = 52;\n",
       "                var nbb_unformatted_code = \"if IS_TEST:\\n    train_loaded = load_cleaned_data(OUT_PATH + \\\"cleaned_data_test.csv\\\")\\nelse:\\n    train_loaded = load_cleaned_data(OUT_PATH + \\\"cleaned_data_train.csv\\\")\";\n",
       "                var nbb_formatted_code = \"if IS_TEST:\\n    train_loaded = load_cleaned_data(OUT_PATH + \\\"cleaned_data_test.csv\\\")\\nelse:\\n    train_loaded = load_cleaned_data(OUT_PATH + \\\"cleaned_data_train.csv\\\")\";\n",
       "                var nbb_cells = Jupyter.notebook.get_cells();\n",
       "                for (var i = 0; i < nbb_cells.length; ++i) {\n",
       "                    if (nbb_cells[i].input_prompt_number == nbb_cell_id) {\n",
       "                        if (nbb_cells[i].get_text() == nbb_unformatted_code) {\n",
       "                             nbb_cells[i].set_text(nbb_formatted_code);\n",
       "                        }\n",
       "                        break;\n",
       "                    }\n",
       "                }\n",
       "            }, 500);\n",
       "            "
      ],
      "text/plain": [
       "<IPython.core.display.Javascript object>"
      ]
     },
     "metadata": {},
     "output_type": "display_data"
    }
   ],
   "source": [
    "if IS_TEST:\n",
    "    train_loaded = load_cleaned_data(OUT_PATH + \"cleaned_data_test.csv\")\n",
    "else:\n",
    "    train_loaded = load_cleaned_data(OUT_PATH + \"cleaned_data_train.csv\")"
   ]
  },
  {
   "cell_type": "code",
   "execution_count": 53,
   "metadata": {},
   "outputs": [
    {
     "data": {
      "application/javascript": [
       "\n",
       "            setTimeout(function() {\n",
       "                var nbb_cell_id = 53;\n",
       "                var nbb_unformatted_code = \"# col = \\\"city_group\\\"\\n\\n# display(train[(train[col] != train_loaded[col])][col])\\n# display(train_loaded[(train[col] != train_loaded[col])][col])\";\n",
       "                var nbb_formatted_code = \"# col = \\\"city_group\\\"\\n\\n# display(train[(train[col] != train_loaded[col])][col])\\n# display(train_loaded[(train[col] != train_loaded[col])][col])\";\n",
       "                var nbb_cells = Jupyter.notebook.get_cells();\n",
       "                for (var i = 0; i < nbb_cells.length; ++i) {\n",
       "                    if (nbb_cells[i].input_prompt_number == nbb_cell_id) {\n",
       "                        if (nbb_cells[i].get_text() == nbb_unformatted_code) {\n",
       "                             nbb_cells[i].set_text(nbb_formatted_code);\n",
       "                        }\n",
       "                        break;\n",
       "                    }\n",
       "                }\n",
       "            }, 500);\n",
       "            "
      ],
      "text/plain": [
       "<IPython.core.display.Javascript object>"
      ]
     },
     "metadata": {},
     "output_type": "display_data"
    }
   ],
   "source": [
    "# col = \"city_group\"\n",
    "\n",
    "# display(train[(train[col] != train_loaded[col])][col])\n",
    "# display(train_loaded[(train[col] != train_loaded[col])][col])"
   ]
  },
  {
   "cell_type": "code",
   "execution_count": 54,
   "metadata": {
    "scrolled": true
   },
   "outputs": [
    {
     "data": {
      "text/plain": [
       "True"
      ]
     },
     "execution_count": 54,
     "metadata": {},
     "output_type": "execute_result"
    },
    {
     "data": {
      "application/javascript": [
       "\n",
       "            setTimeout(function() {\n",
       "                var nbb_cell_id = 54;\n",
       "                var nbb_unformatted_code = \"train.shape == train_loaded.shape\";\n",
       "                var nbb_formatted_code = \"train.shape == train_loaded.shape\";\n",
       "                var nbb_cells = Jupyter.notebook.get_cells();\n",
       "                for (var i = 0; i < nbb_cells.length; ++i) {\n",
       "                    if (nbb_cells[i].input_prompt_number == nbb_cell_id) {\n",
       "                        if (nbb_cells[i].get_text() == nbb_unformatted_code) {\n",
       "                             nbb_cells[i].set_text(nbb_formatted_code);\n",
       "                        }\n",
       "                        break;\n",
       "                    }\n",
       "                }\n",
       "            }, 500);\n",
       "            "
      ],
      "text/plain": [
       "<IPython.core.display.Javascript object>"
      ]
     },
     "metadata": {},
     "output_type": "display_data"
    }
   ],
   "source": [
    "train.shape == train_loaded.shape"
   ]
  },
  {
   "cell_type": "code",
   "execution_count": 55,
   "metadata": {
    "scrolled": true
   },
   "outputs": [
    {
     "data": {
      "text/plain": [
       "0"
      ]
     },
     "execution_count": 55,
     "metadata": {},
     "output_type": "execute_result"
    },
    {
     "data": {
      "application/javascript": [
       "\n",
       "            setTimeout(function() {\n",
       "                var nbb_cell_id = 55;\n",
       "                var nbb_unformatted_code = \"(train[train.columns] != train_loaded[train.columns]).sum(0).max()\";\n",
       "                var nbb_formatted_code = \"(train[train.columns] != train_loaded[train.columns]).sum(0).max()\";\n",
       "                var nbb_cells = Jupyter.notebook.get_cells();\n",
       "                for (var i = 0; i < nbb_cells.length; ++i) {\n",
       "                    if (nbb_cells[i].input_prompt_number == nbb_cell_id) {\n",
       "                        if (nbb_cells[i].get_text() == nbb_unformatted_code) {\n",
       "                             nbb_cells[i].set_text(nbb_formatted_code);\n",
       "                        }\n",
       "                        break;\n",
       "                    }\n",
       "                }\n",
       "            }, 500);\n",
       "            "
      ],
      "text/plain": [
       "<IPython.core.display.Javascript object>"
      ]
     },
     "metadata": {},
     "output_type": "display_data"
    }
   ],
   "source": [
    "(train[train.columns] != train_loaded[train.columns]).sum(0).max()"
   ]
  },
  {
   "cell_type": "markdown",
   "metadata": {},
   "source": [
    "Done !"
   ]
  }
 ],
 "metadata": {
  "kernelspec": {
   "display_name": "Python 3",
   "language": "python",
   "name": "python3"
  },
  "language_info": {
   "codemirror_mode": {
    "name": "ipython",
    "version": 3
   },
   "file_extension": ".py",
   "mimetype": "text/x-python",
   "name": "python",
   "nbconvert_exporter": "python",
   "pygments_lexer": "ipython3",
   "version": "3.8.13"
  }
 },
 "nbformat": 4,
 "nbformat_minor": 4
}
