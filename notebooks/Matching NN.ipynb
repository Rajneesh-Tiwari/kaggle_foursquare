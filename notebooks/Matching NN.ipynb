{
 "cells": [
  {
   "cell_type": "markdown",
   "metadata": {},
   "source": [
    "#### Code to train models\n",
    "\n",
    "- Missing values inputation\n",
    "- Avg for embed instead of cls\n",
    "- Keep nan info as token\n",
    "- Arcface\n",
    "- Train on address only"
   ]
  },
  {
   "cell_type": "code",
   "execution_count": 1,
   "metadata": {},
   "outputs": [],
   "source": [
    "%load_ext autoreload\n",
    "%autoreload 2"
   ]
  },
  {
   "cell_type": "code",
   "execution_count": 2,
   "metadata": {},
   "outputs": [
    {
     "name": "stdout",
     "output_type": "stream",
     "text": [
      "/home/theo/kaggle/foursquare/src\n"
     ]
    }
   ],
   "source": [
    "cd ../src"
   ]
  },
  {
   "cell_type": "markdown",
   "metadata": {},
   "source": [
    "## Imports"
   ]
  },
  {
   "cell_type": "code",
   "execution_count": 3,
   "metadata": {},
   "outputs": [],
   "source": [
    "import os\n",
    "import ast\n",
    "import glob\n",
    "import torch\n",
    "import numpy as np\n",
    "import pandas as pd\n",
    "import seaborn as sns\n",
    "import matplotlib.pyplot as plt\n",
    "\n",
    "from collections import Counter\n",
    "from tqdm.notebook import tqdm"
   ]
  },
  {
   "cell_type": "code",
   "execution_count": 21,
   "metadata": {
    "scrolled": true
   },
   "outputs": [],
   "source": [
    "from params import *\n",
    "\n",
    "from data.preparation import prepare_train_data, prepare_triplet_data\n",
    "from data.dataset import TripletDataset\n",
    "from data.tokenization import get_tokenizer\n",
    "\n",
    "from model_zoo.models import SingleTransformer\n",
    "\n",
    "from training.main import k_fold\n",
    "\n",
    "from utils.logger import prepare_log_folder, save_config, create_logger"
   ]
  },
  {
   "cell_type": "markdown",
   "metadata": {},
   "source": [
    "## Data"
   ]
  },
  {
   "cell_type": "code",
   "execution_count": 6,
   "metadata": {
    "scrolled": true
   },
   "outputs": [],
   "source": [
    "df = prepare_train_data(root=DATA_PATH)"
   ]
  },
  {
   "cell_type": "code",
   "execution_count": 7,
   "metadata": {
    "scrolled": true
   },
   "outputs": [],
   "source": [
    "triplets = prepare_triplet_data(root=DATA_PATH)"
   ]
  },
  {
   "cell_type": "code",
   "execution_count": 8,
   "metadata": {},
   "outputs": [
    {
     "data": {
      "text/html": [
       "<div>\n",
       "<style scoped>\n",
       "    .dataframe tbody tr th:only-of-type {\n",
       "        vertical-align: middle;\n",
       "    }\n",
       "\n",
       "    .dataframe tbody tr th {\n",
       "        vertical-align: top;\n",
       "    }\n",
       "\n",
       "    .dataframe thead th {\n",
       "        text-align: right;\n",
       "    }\n",
       "</style>\n",
       "<table border=\"1\" class=\"dataframe\">\n",
       "  <thead>\n",
       "    <tr style=\"text-align: right;\">\n",
       "      <th></th>\n",
       "      <th>id</th>\n",
       "      <th>paired_ids</th>\n",
       "      <th>matches</th>\n",
       "      <th>pos_ids</th>\n",
       "      <th>neg_ids</th>\n",
       "      <th>fp_ids</th>\n",
       "    </tr>\n",
       "  </thead>\n",
       "  <tbody>\n",
       "    <tr>\n",
       "      <th>0</th>\n",
       "      <td>E_000001272c6c5d</td>\n",
       "      <td>[E_da7fa3963561f8]</td>\n",
       "      <td>[True]</td>\n",
       "      <td>[E_da7fa3963561f8]</td>\n",
       "      <td>[]</td>\n",
       "      <td>[E_c0c118c4e4a8d9, E_1870c55e5a0e0a, E_e36d2b2...</td>\n",
       "    </tr>\n",
       "    <tr>\n",
       "      <th>1</th>\n",
       "      <td>E_000002eae2a589</td>\n",
       "      <td>[E_e80db432029aea]</td>\n",
       "      <td>[True]</td>\n",
       "      <td>[E_e80db432029aea]</td>\n",
       "      <td>[]</td>\n",
       "      <td>[E_1a166b20ee88e8, E_8daa04281f771c, E_f782105...</td>\n",
       "    </tr>\n",
       "    <tr>\n",
       "      <th>2</th>\n",
       "      <td>E_00001d92066153</td>\n",
       "      <td>[E_7e0d8e9138dd56]</td>\n",
       "      <td>[True]</td>\n",
       "      <td>[E_7e0d8e9138dd56]</td>\n",
       "      <td>[]</td>\n",
       "      <td>[E_8855571b3371ac, E_3ff62765233a20, E_17df10c...</td>\n",
       "    </tr>\n",
       "    <tr>\n",
       "      <th>3</th>\n",
       "      <td>E_000023d8f4be44</td>\n",
       "      <td>[E_12453effe251db]</td>\n",
       "      <td>[True]</td>\n",
       "      <td>[E_12453effe251db]</td>\n",
       "      <td>[]</td>\n",
       "      <td>[E_f796550f3d3772, E_d9ae97c75cbf3c, E_07ac928...</td>\n",
       "    </tr>\n",
       "    <tr>\n",
       "      <th>4</th>\n",
       "      <td>E_0000764d65557e</td>\n",
       "      <td>[E_0507e10f6eb526]</td>\n",
       "      <td>[True]</td>\n",
       "      <td>[E_0507e10f6eb526]</td>\n",
       "      <td>[]</td>\n",
       "      <td>[E_79fdd25823bbe7, E_7a484204a0d68e, E_6dcba24...</td>\n",
       "    </tr>\n",
       "  </tbody>\n",
       "</table>\n",
       "</div>"
      ],
      "text/plain": [
       "                 id          paired_ids matches             pos_ids neg_ids  \\\n",
       "0  E_000001272c6c5d  [E_da7fa3963561f8]  [True]  [E_da7fa3963561f8]      []   \n",
       "1  E_000002eae2a589  [E_e80db432029aea]  [True]  [E_e80db432029aea]      []   \n",
       "2  E_00001d92066153  [E_7e0d8e9138dd56]  [True]  [E_7e0d8e9138dd56]      []   \n",
       "3  E_000023d8f4be44  [E_12453effe251db]  [True]  [E_12453effe251db]      []   \n",
       "4  E_0000764d65557e  [E_0507e10f6eb526]  [True]  [E_0507e10f6eb526]      []   \n",
       "\n",
       "                                              fp_ids  \n",
       "0  [E_c0c118c4e4a8d9, E_1870c55e5a0e0a, E_e36d2b2...  \n",
       "1  [E_1a166b20ee88e8, E_8daa04281f771c, E_f782105...  \n",
       "2  [E_8855571b3371ac, E_3ff62765233a20, E_17df10c...  \n",
       "3  [E_f796550f3d3772, E_d9ae97c75cbf3c, E_07ac928...  \n",
       "4  [E_79fdd25823bbe7, E_7a484204a0d68e, E_6dcba24...  "
      ]
     },
     "execution_count": 8,
     "metadata": {},
     "output_type": "execute_result"
    }
   ],
   "source": [
    "triplets.head()"
   ]
  },
  {
   "cell_type": "markdown",
   "metadata": {},
   "source": [
    "### Dataset"
   ]
  },
  {
   "cell_type": "code",
   "execution_count": 9,
   "metadata": {},
   "outputs": [],
   "source": [
    "name = \"xlm-roberta-base\"\n",
    "\n",
    "tokenizer = get_tokenizer(name)"
   ]
  },
  {
   "cell_type": "code",
   "execution_count": 10,
   "metadata": {
    "scrolled": true
   },
   "outputs": [],
   "source": [
    "dataset = TripletDataset(df, triplets, tokenizer)"
   ]
  },
  {
   "cell_type": "code",
   "execution_count": 11,
   "metadata": {
    "scrolled": false
   },
   "outputs": [],
   "source": [
    "# lens = []\n",
    "# for idx in tqdm(range(10000)):\n",
    "#     data = dataset[idx]\n",
    "#     lens += [len(data['ref_ids']), len(data['pos_ids']), len(data['neg_ids'])]\n",
    "\n",
    "# sns.distplot(lens)"
   ]
  },
  {
   "cell_type": "code",
   "execution_count": 12,
   "metadata": {},
   "outputs": [],
   "source": [
    "idx = np.random.choice(len(dataset))\n",
    "data = dataset[idx]\n",
    "\n",
    "try:\n",
    "    display(data['df'])\n",
    "except:\n",
    "    pass"
   ]
  },
  {
   "cell_type": "markdown",
   "metadata": {},
   "source": [
    "## Model"
   ]
  },
  {
   "cell_type": "code",
   "execution_count": 13,
   "metadata": {},
   "outputs": [],
   "source": [
    "model = SingleTransformer(\n",
    "    name, \n",
    "    nb_layers=1,\n",
    "    embed_dim=128,\n",
    "    nb_features=0,\n",
    ").eval()"
   ]
  },
  {
   "cell_type": "code",
   "execution_count": 14,
   "metadata": {},
   "outputs": [],
   "source": [
    "ids = data[\"pos_ids\"].unsqueeze(0)\n",
    "fts = data[\"fts\"][:, 0]"
   ]
  },
  {
   "cell_type": "code",
   "execution_count": 15,
   "metadata": {
    "scrolled": false
   },
   "outputs": [],
   "source": [
    "representation, projection = model(ids, fts=fts)"
   ]
  },
  {
   "cell_type": "code",
   "execution_count": 16,
   "metadata": {},
   "outputs": [
    {
     "data": {
      "text/plain": [
       "(torch.Size([1, 128]), torch.Size([1, 128]))"
      ]
     },
     "execution_count": 16,
     "metadata": {},
     "output_type": "execute_result"
    }
   ],
   "source": [
    "representation.size(), projection.size()"
   ]
  },
  {
   "cell_type": "markdown",
   "metadata": {},
   "source": [
    "## Training"
   ]
  },
  {
   "cell_type": "code",
   "execution_count": 17,
   "metadata": {},
   "outputs": [],
   "source": [
    "BATCH_SIZES = {\n",
    "    \"xlm-roberta-base\": 8,\n",
    "    \"xlm-roberta-large\": 8,\n",
    "    \"roberta-large\": 8,\n",
    "}\n",
    "\n",
    "LRS = {\n",
    "    \"xlm-roberta-base\": 2e-5,\n",
    "    \"xlm-roberta-large\": 1e-5,\n",
    "    \"roberta-large\": 1e-5,\n",
    "}"
   ]
  },
  {
   "cell_type": "code",
   "execution_count": 18,
   "metadata": {},
   "outputs": [],
   "source": [
    "class Config:\n",
    "    # General\n",
    "    seed = 2222\n",
    "    device = \"cuda\"\n",
    "    \n",
    "    # Splits\n",
    "    k = 2\n",
    "    random_state = 2222\n",
    "    selected_folds = [0, 1]\n",
    "    folds_file = DATA_PATH + \"folds_2.csv\"\n",
    "\n",
    "    # Architecture\n",
    "    name = \"xlm-roberta-large\"  # large ?\n",
    "    pretrained_weights = None\n",
    "    no_dropout = False\n",
    "    nb_features = 0  # 2 for longitude, lattitude\n",
    "    nb_layers = 1\n",
    "    embed_dim = 256  # 256\n",
    "\n",
    "    # Texts\n",
    "    max_len = 100\n",
    "    use_name = True\n",
    "    use_address = True\n",
    "    use_url = False\n",
    "    lower = False  # TODO\n",
    "\n",
    "    # Training    \n",
    "    loss_config = {\n",
    "        \"margin\": 1.,\n",
    "        \"p\": 2.,\n",
    "    }\n",
    "\n",
    "    data_config = {\n",
    "        \"batch_size\": BATCH_SIZES[name],\n",
    "        \"val_bs\": BATCH_SIZES[name] * 2,\n",
    "        \"use_len_sampler\": False,\n",
    "        \"pad_token\": 1 if \"roberta\" in name else 0,\n",
    "    }\n",
    "\n",
    "    optimizer_config = {\n",
    "        \"name\": \"AdamW\",\n",
    "        \"lr\": LRS[name],\n",
    "        \"lr_transfo\": LRS[name],\n",
    "        \"lr_decay\": 1,\n",
    "        \"warmup_prop\": 0.1,\n",
    "        \"weight_decay\": 1,\n",
    "        \"betas\": (0.5, 0.99),\n",
    "        \"max_grad_norm\": 1.,\n",
    "    }\n",
    "\n",
    "    gradient_checkpointing = False\n",
    "    acc_steps = 1\n",
    "    epochs = 1\n",
    "\n",
    "    use_fp16 = True\n",
    "\n",
    "    verbose = 1\n",
    "    verbose_eval = 1000"
   ]
  },
  {
   "cell_type": "code",
   "execution_count": 19,
   "metadata": {},
   "outputs": [],
   "source": [
    "DEBUG = False\n",
    "log_folder = None"
   ]
  },
  {
   "cell_type": "code",
   "execution_count": null,
   "metadata": {
    "scrolled": false
   },
   "outputs": [
    {
     "name": "stdout",
     "output_type": "stream",
     "text": [
      "Logging results to ../logs/2022-06-24/0/\n",
      "\n",
      "-------------   Fold 1 / 2  -------------\n",
      "\n",
      "    -> 356407 training triplets\n",
      "    -> 35730 validation triplets\n",
      "    -> 560218624 trainable parameters\n",
      "\n"
     ]
    }
   ],
   "source": [
    "if not DEBUG:\n",
    "    log_folder = prepare_log_folder(LOG_PATH)\n",
    "    print(f'Logging results to {log_folder}')\n",
    "    save_config(Config, log_folder + 'config')\n",
    "    df.to_csv(log_folder + 'data.csv', index=False)\n",
    "    create_logger(directory=log_folder, name=\"logs.txt\")\n",
    "\n",
    "k_fold(\n",
    "    Config,\n",
    "    df,\n",
    "    triplets,\n",
    "    log_folder=log_folder\n",
    ")"
   ]
  },
  {
   "cell_type": "markdown",
   "metadata": {},
   "source": [
    "Done ! "
   ]
  }
 ],
 "metadata": {
  "kernelspec": {
   "display_name": "Python 3",
   "language": "python",
   "name": "python3"
  },
  "language_info": {
   "codemirror_mode": {
    "name": "ipython",
    "version": 3
   },
   "file_extension": ".py",
   "mimetype": "text/x-python",
   "name": "python",
   "nbconvert_exporter": "python",
   "pygments_lexer": "ipython3",
   "version": "3.8.13"
  }
 },
 "nbformat": 4,
 "nbformat_minor": 4
}
