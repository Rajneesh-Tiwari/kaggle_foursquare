{
 "cells": [
  {
   "cell_type": "markdown",
   "metadata": {},
   "source": [
    "#### Code to train classification models\n",
    "**TODO**:\n",
    "- verif dist fts\n",
    "- GroupKFold ?"
   ]
  },
  {
   "cell_type": "code",
   "execution_count": 1,
   "metadata": {},
   "outputs": [],
   "source": [
    "%load_ext autoreload\n",
    "%autoreload 2"
   ]
  },
  {
   "cell_type": "code",
   "execution_count": 2,
   "metadata": {},
   "outputs": [],
   "source": [
    "cd ../src"
   ]
  },
  {
   "cell_type": "markdown",
   "metadata": {},
   "source": [
    "## Imports"
   ]
  },
  {
   "cell_type": "code",
   "execution_count": 3,
   "metadata": {},
   "outputs": [
    {
     "data": {
      "text/plain": [
       "'NVIDIA RTX A6000'"
      ]
     },
     "execution_count": 3,
     "metadata": {},
     "output_type": "execute_result"
    }
   ],
   "source": [
    "import os\n",
    "\n",
    "os.environ['CUDA_VISIBLE_DEVICES'] = \"0\"\n",
    "\n",
    "import torch\n",
    "torch.cuda.get_device_name(0)"
   ]
  },
  {
   "cell_type": "code",
   "execution_count": 4,
   "metadata": {},
   "outputs": [
    {
     "name": "stdout",
     "output_type": "stream",
     "text": [
      "INFO: Pandarallel will run on 12 workers.\n",
      "INFO: Pandarallel will use standard multiprocessing data transfer (pipe) to transfer data between the main process and workers.\n"
     ]
    }
   ],
   "source": [
    "import os\n",
    "import gc\n",
    "import re\n",
    "import glob\n",
    "import json\n",
    "import cudf\n",
    "import lofo\n",
    "import torch\n",
    "import pickle\n",
    "import optuna\n",
    "import numpy as np\n",
    "import pandas as pd\n",
    "import seaborn as sns\n",
    "import matplotlib.pyplot as plt\n",
    "\n",
    "from tqdm.notebook import tqdm\n",
    "from collections import Counter\n",
    "from pandarallel import pandarallel\n",
    "from numerize.numerize import numerize\n",
    "from sklearn.metrics import roc_auc_score\n",
    "from sklearn.model_selection import GroupKFold\n",
    "from cuml.feature_extraction.text import TfidfVectorizer\n",
    "\n",
    "pandarallel.initialize(progress_bar=False, use_memory_fs=False)\n",
    "pd.options.display.max_columns = 500"
   ]
  },
  {
   "cell_type": "code",
   "execution_count": 5,
   "metadata": {
    "scrolled": true
   },
   "outputs": [],
   "source": [
    "from params import *\n",
    "\n",
    "from data.features import *\n",
    "from data.preparation import *\n",
    "from data.post_processing import *\n",
    "\n",
    "from utils.logger import prepare_log_folder, create_logger, save_config\n",
    "from utils.metrics import *\n",
    "\n",
    "from model_zoo.xgb import objective_xgb, lofo_xgb\n",
    "from model_zoo.catboost import objective_catboost\n",
    "from training.main_boosting import k_fold\n",
    "from utils.plot import *\n",
    "\n",
    "from matching import get_CV"
   ]
  },
  {
   "cell_type": "markdown",
   "metadata": {},
   "source": [
    "### Params"
   ]
  },
  {
   "cell_type": "markdown",
   "metadata": {},
   "source": [
    "## Model\n"
   ]
  },
  {
   "cell_type": "code",
   "execution_count": 6,
   "metadata": {},
   "outputs": [],
   "source": [
    "df = cudf.read_csv(DATA_PATH + \"train.csv\")[[\"id\", \"point_of_interest\"]]"
   ]
  },
  {
   "cell_type": "code",
   "execution_count": 7,
   "metadata": {},
   "outputs": [],
   "source": [
    "path = '../output/folds_5.csv'\n",
    "if os.path.exists(path):\n",
    "    df_split = cudf.read_csv(path)\n",
    "else:\n",
    "    from sklearn.model_selection import StratifiedGroupKFold\n",
    "\n",
    "    gkf = GroupKFold(n_splits=5)\n",
    "    splits = list(gkf.split(df[\"id\"].to_pandas(), groups=df['point_of_interest'].to_pandas()))\n",
    "\n",
    "\n",
    "    df_split = df[[\"id\", \"point_of_interest\"]].copy()\n",
    "    df_split['fold'] = -1\n",
    "\n",
    "    for i, (_, val_idx) in enumerate(splits):\n",
    "        df_split.loc[val_idx, 'fold'] = i\n",
    "\n",
    "    df_split.to_csv(path, index=False)"
   ]
  },
  {
   "cell_type": "code",
   "execution_count": 8,
   "metadata": {},
   "outputs": [],
   "source": [
    "df_p = cudf.read_csv(OUT_PATH + \"features_train_1.csv\")\n",
    "FEATURES = list(df_p.columns[2:])"
   ]
  },
  {
   "cell_type": "code",
   "execution_count": 9,
   "metadata": {
    "scrolled": true
   },
   "outputs": [],
   "source": [
    "df_p = df_p.merge(df_split, left_on=\"id_1\", right_on=\"id\", how=\"left\")\n",
    "df_p = df_p.merge(df_split, left_on=\"id_2\", right_on=\"id\", how=\"left\", suffixes=('_1', '_2'))"
   ]
  },
  {
   "cell_type": "code",
   "execution_count": 10,
   "metadata": {},
   "outputs": [],
   "source": [
    "# df_p = df_p.merge(df, left_on=\"id_1\", right_on=\"id\", how=\"left\")\n",
    "# df_p = df_p.merge(df, left_on=\"id_2\", right_on=\"id\", how=\"left\", suffixes=('_1', '_2'))"
   ]
  },
  {
   "cell_type": "code",
   "execution_count": 11,
   "metadata": {},
   "outputs": [],
   "source": [
    "df_p['match'] = (df_p['point_of_interest_1'] == df_p['point_of_interest_2']).astype(int)"
   ]
  },
  {
   "cell_type": "code",
   "execution_count": 12,
   "metadata": {},
   "outputs": [],
   "source": [
    "df_p = df_p.sort_values(['id_1', 'id_2']).reset_index(drop=True)"
   ]
  },
  {
   "cell_type": "code",
   "execution_count": 13,
   "metadata": {},
   "outputs": [],
   "source": [
    "OPTIMIZE = False\n",
    "TRAIN = False\n",
    "DEBUG = True\n",
    "LOFO = False\n",
    "\n",
    "OPT_FOLD = 2"
   ]
  },
  {
   "cell_type": "markdown",
   "metadata": {},
   "source": [
    "### Param tweaking"
   ]
  },
  {
   "cell_type": "code",
   "execution_count": 14,
   "metadata": {},
   "outputs": [],
   "source": [
    "PARAMS = {\n",
    "    \"xgb\":\n",
    "        {\n",
    "            'max_depth': 10,\n",
    "            'min_child_weight': 1,\n",
    "            'reg_alpha': 0.1,\n",
    "            'reg_lambda': 0.1,\n",
    "            \"colsample_bytree\": 0.95,\n",
    "            \"subsample\": 0.75,\n",
    "#             'max_depth': 14, \n",
    "#             'gamma': 0.02, \n",
    "#             'min_child_weight': 9, \n",
    "#             'colsample_bytree': 0.864,\n",
    "#             'subsample': 0.614,\n",
    "#             'reg_alpha': 0.198,\n",
    "#             'reg_lambda': 0.27,\n",
    "        },\n",
    "    \"catboost\":\n",
    "        {\n",
    "            'depth': 12,\n",
    "#             'reg_lambda': 0.1,\n",
    "#             \"model_size_reg\": 0.5,\n",
    "#             \"border_count\": 256,\n",
    "        },\n",
    "    \"lgbm\": {\n",
    "        'num_leaves': 500,\n",
    "#         \"max_depth\" : 14,\n",
    "        \"min_child_weight\": 1,\n",
    "        \"subsample\": 0.75,\n",
    "        \"colsample_bytree\": 0.95,\n",
    "        \"reg_alpha\": 0.1,\n",
    "        \"reg_lambda\" : 0.1,\n",
    "    }\n",
    "}\n",
    "\n",
    "OBJECTIVES = {\n",
    "    \"xgb\": objective_xgb,\n",
    "    \"catboost\" : objective_catboost,\n",
    "#     \"lgbm\": objective_lgbm,\n",
    "}"
   ]
  },
  {
   "cell_type": "code",
   "execution_count": 15,
   "metadata": {},
   "outputs": [],
   "source": [
    "NAME = \"lgbm\"  # \"catboost\", \"xgb\", \"lgbm\"\n",
    "params = PARAMS[NAME]"
   ]
  },
  {
   "cell_type": "code",
   "execution_count": 16,
   "metadata": {},
   "outputs": [],
   "source": [
    "if OPTIMIZE:\n",
    "    df_train_opt = df_p[(df_p['fold_1'] != OPT_FOLD) & (df_p['fold_2'] != OPT_FOLD)].reset_index(drop=True)\n",
    "    df_val_opt = df_p[\n",
    "        (df_p['fold_1'] == OPT_FOLD) | (df_p['fold_2'] == OPT_FOLD)\n",
    "    ].reset_index(drop=True)\n",
    "\n",
    "    objective = OBJ_FCTS[NAME]\n",
    "    objective = lambda x: objective(x, df_train_opt, df_val_opt, FEATURES, \"match\")\n",
    "\n",
    "    study = optuna.create_study(direction=\"maximize\")\n",
    "    study.optimize(objective, n_trials=100)\n",
    "\n",
    "    params = study.best_params\n",
    "    print(\"Final params :\\n\", study.best_params)"
   ]
  },
  {
   "cell_type": "markdown",
   "metadata": {},
   "source": [
    "### Config"
   ]
  },
  {
   "cell_type": "code",
   "execution_count": 17,
   "metadata": {},
   "outputs": [],
   "source": [
    "class Config:\n",
    "    n_folds = 5\n",
    "\n",
    "    features = FEATURES\n",
    "#     cat_features = [ft for ft in FEATURES if \"nan\" in ft or \"same\" in ft]\n",
    "    cat_features = ['country', 'cat2a', 'cat2b']\n",
    "\n",
    "    target = \"match\"\n",
    "    model = NAME\n",
    "    params = params\n",
    "    selected_folds = [0, 1, 2, 3, 4]"
   ]
  },
  {
   "cell_type": "code",
   "execution_count": 18,
   "metadata": {},
   "outputs": [],
   "source": [
    "if len(Config.cat_features):\n",
    "    df_p[Config.cat_features] = df_p[Config.cat_features].astype(int)"
   ]
  },
  {
   "cell_type": "markdown",
   "metadata": {},
   "source": [
    "### LoFo"
   ]
  },
  {
   "cell_type": "code",
   "execution_count": 19,
   "metadata": {},
   "outputs": [],
   "source": [
    "if LOFO:\n",
    "    imp_df = lofo_xgb(\n",
    "        df_p.sample(1000000).reset_index(drop=True),\n",
    "        Config,\n",
    "        folds=[0], #, 1, 2, 3, 4],  # [OPT_FOLD],\n",
    "        auto_group_threshold=0.95\n",
    "    )\n",
    "\n",
    "    lofo.plot_importance(imp_df)\n",
    "    plt.savefig(OUT_PATH + f\"lofo_imp_{N_NEIGHBORS}.png\", facecolor='white', transparent=False)\n",
    "    imp_df.to_csv(OUT_PATH + f\"lofo_imp_{N_NEIGHBORS}.csv\", index=False)\n",
    "\n",
    "# else:\n",
    "#     if os.path.exists(OUT_PATH + f\"lofo_imp_{N_NEIGHBORS}.csv\"):\n",
    "#         imp_df = pd.read_csv(OUT_PATH + f\"lofo_imp_{N_NEIGHBORS}.csv\")"
   ]
  },
  {
   "cell_type": "code",
   "execution_count": 20,
   "metadata": {},
   "outputs": [],
   "source": [
    "# fts = []\n",
    "# for ft in imp_df[imp_df['importance_mean'] > 0]['feature'].values.tolist():\n",
    "#     fts += ft.split(' & ')\n",
    "\n",
    "# Config.features = fts\n",
    "\n",
    "# # Config.features = FEATURES"
   ]
  },
  {
   "cell_type": "markdown",
   "metadata": {},
   "source": [
    "### Training"
   ]
  },
  {
   "cell_type": "code",
   "execution_count": 21,
   "metadata": {},
   "outputs": [
    {
     "name": "stdout",
     "output_type": "stream",
     "text": [
      "Memory usage after optimization is: 3436.85 MB\n",
      "Decreased by 73.7%\n"
     ]
    }
   ],
   "source": [
    "# df_p = df_p.sample(len(df_p) // 10).reset_index(drop=True)\n",
    "df_p = df_p.to_pandas()\n",
    "df_p = reduce_mem_usage(df_p)"
   ]
  },
  {
   "cell_type": "code",
   "execution_count": 22,
   "metadata": {
    "scrolled": true
   },
   "outputs": [
    {
     "name": "stdout",
     "output_type": "stream",
     "text": [
      "CPU times: user 1e+03 ns, sys: 0 ns, total: 1e+03 ns\n",
      "Wall time: 3.1 µs\n"
     ]
    }
   ],
   "source": [
    "%%time\n",
    "\n",
    "if TRAIN:\n",
    "    log_folder = None\n",
    "    if not DEBUG:\n",
    "        log_folder = prepare_log_folder(LOG_PATH + \"lvl_1/\")\n",
    "        print(f'Logging results to {log_folder}')\n",
    "        save_config(Config, log_folder + 'config')\n",
    "        create_logger(directory=log_folder, name=\"logs.txt\")\n",
    "\n",
    "    pred_oof, models, ft_imp = k_fold(df_p, Config, log_folder=log_folder)"
   ]
  },
  {
   "cell_type": "markdown",
   "metadata": {},
   "source": [
    "### Retrieve"
   ]
  },
  {
   "cell_type": "code",
   "execution_count": 23,
   "metadata": {},
   "outputs": [],
   "source": [
    "EXP_FOLDER = LOG_PATH + \"lvl_1/\" + \"2022-06-26/6/\"  # xgboost gkf\n"
   ]
  },
  {
   "cell_type": "code",
   "execution_count": 24,
   "metadata": {},
   "outputs": [],
   "source": [
    "if not TRAIN:\n",
    "    pred_oof = np.load(EXP_FOLDER + \"pred_oof.npy\")\n",
    "    ft_imp = pd.read_csv(EXP_FOLDER + \"ft_imp.csv\").set_index('Unnamed: 0')"
   ]
  },
  {
   "cell_type": "markdown",
   "metadata": {},
   "source": [
    "## Results"
   ]
  },
  {
   "cell_type": "code",
   "execution_count": 25,
   "metadata": {},
   "outputs": [],
   "source": [
    "import warnings\n",
    "warnings.simplefilter(\"ignore\")"
   ]
  },
  {
   "cell_type": "code",
   "execution_count": 26,
   "metadata": {},
   "outputs": [
    {
     "data": {
      "image/png": "[encoded data removed]",
      "text/plain": [
       "<Figure size 432x288 with 1 Axes>"
      ]
     },
     "metadata": {
      "needs_background": "light"
     },
     "output_type": "display_data"
    }
   ],
   "source": [
    "y = df_p[Config.target].values if isinstance(df_p, pd.DataFrame) else df_p[Config.target].get()\n",
    "\n",
    "plot_confusion_matrix(\n",
    "    pred_oof > 0.5,\n",
    "    y,\n",
    "    display_labels=['No Match', 'Match'],\n",
    "#     normalize=\"pred\"\n",
    ")\n",
    "\n",
    "plt.title(f\"AUC = {roc_auc_score(y, pred_oof) :.4f}\")\n",
    "plt.show()"
   ]
  },
  {
   "cell_type": "code",
   "execution_count": 27,
   "metadata": {},
   "outputs": [],
   "source": [
    "df = df.to_pandas().reset_index()\n",
    "df = df.sort_values(by=[\"point_of_interest\", \"id\"]).reset_index(drop=True)\n",
    "\n",
    "id_all = np.array(df[\"id\"])\n",
    "poi_all = np.array(df[\"point_of_interest\"])\n",
    "poi0 = poi_all[0]\n",
    "id0 = id_all[0]\n",
    "\n",
    "di_poi = {}\n",
    "for i in range(1, df.shape[0]):\n",
    "    if poi_all[i] == poi0:\n",
    "        id0 = str(id0) + \" \" + str(id_all[i])\n",
    "    else:\n",
    "        di_poi[poi0] = str(id0) + \" \"  # need to have trailing space in m_true\n",
    "        poi0 = poi_all[i]\n",
    "        id0 = id_all[i]\n",
    "\n",
    "di_poi[poi0] = str(id0) + \" \"  # need to have trailing space in m_true\n",
    "df[\"m_true\"] = df[\"point_of_interest\"].map(di_poi)\n",
    "\n",
    "df = df.sort_values(by=\"index\").reset_index(\n",
    "    drop=True\n",
    ")  # sort back to original order\n",
    "df.drop(\"index\", axis=1, inplace=True)"
   ]
  },
  {
   "cell_type": "code",
   "execution_count": 28,
   "metadata": {
    "scrolled": false
   },
   "outputs": [
    {
     "name": "stdout",
     "output_type": "stream",
     "text": [
      "- Highest reachable IoU : 0.9874\n",
      "- Threshold 0.4 : CV 0.8393\n",
      "- Threshold 0.45 : CV 0.8453\n",
      "- Threshold 0.5 : CV 0.8491\n",
      "- Threshold 0.55 : CV 0.8514\n",
      "- Threshold 0.6 : CV 0.8518\n",
      "- Threshold 0.65 : CV 0.8510\n",
      "\n",
      "-> Best Threshold 0.6 : CV 0.8518\n"
     ]
    }
   ],
   "source": [
    "_ = get_CV(None, None, y, pred_oof, df.copy(), df_p.copy()) # get CV"
   ]
  },
  {
   "cell_type": "markdown",
   "metadata": {},
   "source": [
    "### Check several cut levels"
   ]
  },
  {
   "cell_type": "code",
   "execution_count": 29,
   "metadata": {
    "scrolled": false
   },
   "outputs": [
    {
     "name": "stdout",
     "output_type": "stream",
     "text": [
      "\n",
      "Removing pairs with p < 0.0025 : \n",
      "- Number of candidates : 5.63M\n",
      "- Proportion of positive candidates: 12.02%\n",
      "- Highest reachable IoU : 0.9871\n",
      "\n",
      "Removing pairs with p < 0.005 : \n",
      "- Number of candidates : 4.23M\n",
      "- Proportion of positive candidates: 15.87%\n",
      "- Highest reachable IoU : 0.986\n",
      "\n",
      "Removing pairs with p < 0.0075 : \n",
      "- Number of candidates : 3.56M\n",
      "- Proportion of positive candidates: 18.74%\n",
      "- Highest reachable IoU : 0.985\n",
      "\n",
      "Removing pairs with p < 0.01 : \n",
      "- Number of candidates : 3.14M\n",
      "- Proportion of positive candidates: 21.11%\n",
      "- Highest reachable IoU : 0.9842\n"
     ]
    }
   ],
   "source": [
    "df_p[Config.target] = y\n",
    "\n",
    "for thresh in [.0025, .005, .0075, .01]:\n",
    "    print(f'\\nRemoving pairs with p < {thresh} : ')\n",
    "    df_cut = df_p.loc[pred_oof > thresh].reset_index()\n",
    "    y_cut = df_cut[Config.target].values\n",
    "\n",
    "    try:\n",
    "        print(f\"- Number of candidates : {numerize(len(y_cut))}\")\n",
    "    except NameError:\n",
    "        print(f\"- Number of candidates : {len(y_cut)}\")\n",
    "    print(f\"- Proportion of positive candidates: {y_cut.mean() * 100:.2f}%\")\n",
    "    \n",
    "    get_CV(None, None, y_cut, y_cut, df.copy(), df_cut.copy())"
   ]
  },
  {
   "cell_type": "code",
   "execution_count": null,
   "metadata": {
    "scrolled": true
   },
   "outputs": [],
   "source": [
    "THRESHOLD = 0.0075\n",
    "\n",
    "df_p_r = df_p[pred_oof > THRESHOLD].reset_index(drop=True)\n",
    "\n",
    "df_p_r.to_csv(OUT_PATH + \"features_train_1_filtered.csv\", index=False)"
   ]
  },
  {
   "cell_type": "markdown",
   "metadata": {},
   "source": [
    "### Feature importance"
   ]
  },
  {
   "cell_type": "code",
   "execution_count": 26,
   "metadata": {
    "scrolled": true
   },
   "outputs": [
    {
     "data": {
      "image/png": "[encoded data removed]",
      "text/plain": [
       "<Figure size 1080x1800 with 1 Axes>"
      ]
     },
     "metadata": {
      "needs_background": "light"
     },
     "output_type": "display_data"
    }
   ],
   "source": [
    "plot_importances(ft_imp)\n",
    "plt.xscale('log')\n",
    "plt.show()"
   ]
  }
 ],
 "metadata": {
  "kernelspec": {
   "display_name": "Python 3",
   "language": "python",
   "name": "python3"
  },
  "language_info": {
   "codemirror_mode": {
    "name": "ipython",
    "version": 3
   },
   "file_extension": ".py",
   "mimetype": "text/x-python",
   "name": "python",
   "nbconvert_exporter": "python",
   "pygments_lexer": "ipython3",
   "version": "3.8.13"
  }
 },
 "nbformat": 4,
 "nbformat_minor": 4
}
