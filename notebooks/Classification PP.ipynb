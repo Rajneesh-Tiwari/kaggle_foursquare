{
 "cells": [
  {
   "cell_type": "markdown",
   "metadata": {},
   "source": [
    "#### Code to train classification models\n",
    "**TODO**:\n",
    "- verif dist fts\n",
    "- GroupKFold ?\n",
    "- inspect cat features\n",
    "- catboost + xgboost + lgbm\n",
    "- NaNs ?"
   ]
  },
  {
   "cell_type": "code",
   "execution_count": 1,
   "metadata": {},
   "outputs": [],
   "source": [
    "%load_ext autoreload\n",
    "%autoreload 2"
   ]
  },
  {
   "cell_type": "code",
   "execution_count": 2,
   "metadata": {},
   "outputs": [
    {
     "name": "stdout",
     "output_type": "stream",
     "text": [
      "/home/theo/kaggle/foursquare/src\n"
     ]
    }
   ],
   "source": [
    "cd ../src"
   ]
  },
  {
   "cell_type": "markdown",
   "metadata": {},
   "source": [
    "## Imports"
   ]
  },
  {
   "cell_type": "code",
   "execution_count": 3,
   "metadata": {},
   "outputs": [
    {
     "data": {
      "text/plain": [
       "'NVIDIA GeForce RTX 2080 Ti'"
      ]
     },
     "execution_count": 3,
     "metadata": {},
     "output_type": "execute_result"
    }
   ],
   "source": [
    "import os\n",
    "\n",
    "os.environ['CUDA_VISIBLE_DEVICES'] = \"1\"\n",
    "\n",
    "import torch\n",
    "torch.cuda.get_device_name(0)"
   ]
  },
  {
   "cell_type": "code",
   "execution_count": 4,
   "metadata": {},
   "outputs": [
    {
     "name": "stdout",
     "output_type": "stream",
     "text": [
      "INFO: Pandarallel will run on 12 workers.\n",
      "INFO: Pandarallel will use standard multiprocessing data transfer (pipe) to transfer data between the main process and workers.\n"
     ]
    }
   ],
   "source": [
    "import os\n",
    "import gc\n",
    "import re\n",
    "import glob\n",
    "import json\n",
    "import cudf\n",
    "import lofo\n",
    "import torch\n",
    "import pickle\n",
    "import optuna\n",
    "import numpy as np\n",
    "import pandas as pd\n",
    "import seaborn as sns\n",
    "import matplotlib.pyplot as plt\n",
    "\n",
    "from copy import deepcopy\n",
    "from tqdm.notebook import tqdm\n",
    "from collections import Counter\n",
    "from pandarallel import pandarallel\n",
    "from numerize.numerize import numerize\n",
    "from sklearn.metrics import roc_auc_score\n",
    "from sklearn.model_selection import GroupKFold\n",
    "from cuml.feature_extraction.text import TfidfVectorizer\n",
    "\n",
    "pandarallel.initialize(progress_bar=False, use_memory_fs=False)\n",
    "pd.options.display.max_columns = 500\n",
    "pd.options.display.max_rows = 200"
   ]
  },
  {
   "cell_type": "code",
   "execution_count": 21,
   "metadata": {
    "scrolled": true
   },
   "outputs": [],
   "source": [
    "from params import *\n",
    "from utils.metrics import *\n",
    "from matching import get_CV, load_cleaned_data, cci\n",
    "from pp import *"
   ]
  },
  {
   "cell_type": "markdown",
   "metadata": {},
   "source": [
    "### Params"
   ]
  },
  {
   "cell_type": "code",
   "execution_count": 6,
   "metadata": {},
   "outputs": [],
   "source": [
    "N_FOLDS = 5"
   ]
  },
  {
   "cell_type": "markdown",
   "metadata": {},
   "source": [
    "## Data\n"
   ]
  },
  {
   "cell_type": "code",
   "execution_count": 7,
   "metadata": {},
   "outputs": [],
   "source": [
    "df = pd.read_csv(DATA_PATH + \"train.csv\")[[\"id\", \"point_of_interest\"]]"
   ]
  },
  {
   "cell_type": "code",
   "execution_count": 8,
   "metadata": {},
   "outputs": [],
   "source": [
    "df_p = pd.read_csv(OUT_PATH + f\"features_train_{LEVEL}.csv\")"
   ]
  },
  {
   "cell_type": "code",
   "execution_count": 9,
   "metadata": {},
   "outputs": [],
   "source": [
    "df_p = df_p.sort_values(['id_1', 'id_2']).reset_index(drop=True)"
   ]
  },
  {
   "cell_type": "markdown",
   "metadata": {},
   "source": [
    "## Exp"
   ]
  },
  {
   "cell_type": "code",
   "execution_count": 11,
   "metadata": {},
   "outputs": [],
   "source": [
    "EXP_FOLDER = LOG_PATH + \"lvl_2/\" + \"2022-06-27/4/\"  # xgboost 5kf\n",
    "EXP_FOLDER = LOG_PATH + \"lvl_2/\" + \"2022-06-27/7/\"  # lgb 5kf\n",
    "\n",
    "EXP_FOLDER = LOG_PATH + \"lvl_2/\" + \"2022-06-28/0/\"  # lgb 10kf - 0.8982\n",
    "\n",
    "EXP_FOLDER = LOG_PATH + \"lvl_2/\" + \"2022-06-30/2/\"  # xgb 5gkf - 0.8982\n",
    "EXP_FOLDER = LOG_PATH + \"lvl_2/\" + \"2022-06-30/3/\"  # lgb 5gkf - 0.8982"
   ]
  },
  {
   "cell_type": "code",
   "execution_count": 12,
   "metadata": {},
   "outputs": [],
   "source": [
    "if not TRAIN:\n",
    "    pred_oof = np.load(EXP_FOLDER + \"pred_oof.npy\")\n",
    "    ft_imp = pd.read_csv(EXP_FOLDER + \"ft_imp.csv\").set_index('Unnamed: 0')"
   ]
  },
  {
   "cell_type": "code",
   "execution_count": 13,
   "metadata": {},
   "outputs": [
    {
     "data": {
      "text/plain": [
       "0.9845226722749374"
      ]
     },
     "execution_count": 13,
     "metadata": {},
     "output_type": "execute_result"
    }
   ],
   "source": [
    "roc_auc_score(df_p['match'], pred_oof)"
   ]
  },
  {
   "cell_type": "markdown",
   "metadata": {},
   "source": [
    "### Restrict to a subset comparable to LB"
   ]
  },
  {
   "cell_type": "code",
   "execution_count": 15,
   "metadata": {},
   "outputs": [],
   "source": [
    "SUBSET = [0, 1, 2]\n",
    "\n",
    "df = pd.read_csv(f'../output/folds_5.csv')\n",
    "df = df[df['fold'].isin(SUBSET)]\n",
    "\n",
    "pred_oof = pred_oof[(df_p['fold_1'].isin(SUBSET)) & (df_p['fold_2'].isin(SUBSET))]\n",
    "\n",
    "df_p = df_p[(df_p['fold_1'].isin(SUBSET)) & (df_p['fold_2'].isin(SUBSET))].reset_index(drop=True)"
   ]
  },
  {
   "cell_type": "code",
   "execution_count": 18,
   "metadata": {},
   "outputs": [
    {
     "data": {
      "text/plain": [
       "0.9849042976727997"
      ]
     },
     "execution_count": 18,
     "metadata": {},
     "output_type": "execute_result"
    }
   ],
   "source": [
    "roc_auc_score(df_p['match'], pred_oof)"
   ]
  },
  {
   "cell_type": "markdown",
   "metadata": {},
   "source": [
    "### Add m_true column"
   ]
  },
  {
   "cell_type": "code",
   "execution_count": 86,
   "metadata": {},
   "outputs": [],
   "source": [
    "df = df.reset_index()\n",
    "df = df.sort_values(by=[\"point_of_interest\", \"id\"]).reset_index(drop=True)\n",
    "\n",
    "id_all = np.array(df[\"id\"])\n",
    "poi_all = np.array(df[\"point_of_interest\"])\n",
    "poi0 = poi_all[0]\n",
    "id0 = id_all[0]\n",
    "\n",
    "di_poi = {}\n",
    "for i in range(1, df.shape[0]):\n",
    "    if poi_all[i] == poi0:\n",
    "        id0 = str(id0) + \" \" + str(id_all[i])\n",
    "    else:\n",
    "        di_poi[poi0] = str(id0) + \" \"  # need to have trailing space in m_true\n",
    "        poi0 = poi_all[i]\n",
    "        id0 = id_all[i]\n",
    "\n",
    "di_poi[poi0] = str(id0) + \" \"  # need to have trailing space in m_true\n",
    "df[\"m_true\"] = df[\"point_of_interest\"].map(di_poi)\n",
    "\n",
    "df = df.sort_values(by=\"index\").reset_index(\n",
    "    drop=True\n",
    ")  # sort back to original order\n",
    "df.drop(\"index\", axis=1, inplace=True)"
   ]
  },
  {
   "cell_type": "code",
   "execution_count": 87,
   "metadata": {},
   "outputs": [],
   "source": [
    "# THRESHOLDS = [0.45, 0.6, 0.6, 0.9]  # FULL DATA\n",
    "\n",
    "THRESHOLDS = [0.3, 0.45, 0.45, 0.8]  # RESTRICTED  - cuts = [0.37, 0.48, 0.43, 0.77]\n",
    "# THRESHOLDS = [0.5, 0.5, 0.5, 0.8]\n",
    "\n",
    "\n",
    "threshold, threshold_small, threshold_big, threshold_merge = THRESHOLDS"
   ]
  },
  {
   "cell_type": "code",
   "execution_count": 161,
   "metadata": {
    "scrolled": true
   },
   "outputs": [
    {
     "name": "stdout",
     "output_type": "stream",
     "text": [
      "CV 0.9192\n"
     ]
    }
   ],
   "source": [
    "_ = get_improved_CV(df_p, pred_oof, df, THRESHOLDS)"
   ]
  },
  {
   "cell_type": "markdown",
   "metadata": {},
   "source": [
    "## PP"
   ]
  },
  {
   "cell_type": "markdown",
   "metadata": {},
   "source": [
    "### Prepare"
   ]
  },
  {
   "cell_type": "code",
   "execution_count": 187,
   "metadata": {},
   "outputs": [],
   "source": [
    "df2 = df_p.copy()\n",
    "df2[\"match\"] = np.copy(pred_oof) #.astype(\"float32\")\n",
    "\n",
    "try:\n",
    "    df2 = df2[['id_1', 'id_2', \"match\"]]\n",
    "    df2.columns = ['id', 'id2', \"match\"]\n",
    "except KeyError:\n",
    "    df2 = df2[['id', 'id2', \"match\"]]\n",
    "\n",
    "# sort by decr prediction\n",
    "df2 = df2.sort_values(by=[\"match\"], ascending=False).reset_index(drop=True)"
   ]
  },
  {
   "cell_type": "markdown",
   "metadata": {},
   "source": [
    "### Construct POI from pairs"
   ]
  },
  {
   "cell_type": "code",
   "execution_count": 188,
   "metadata": {},
   "outputs": [],
   "source": [
    "id_to_poi, poi_to_id, poi_counts = match_pois(\n",
    "    df2,\n",
    "    threshold=threshold,\n",
    "    threshold_small=threshold_small,\n",
    "    threshold_big=threshold_big\n",
    ")"
   ]
  },
  {
   "cell_type": "markdown",
   "metadata": {},
   "source": [
    "### Merge POIs"
   ]
  },
  {
   "cell_type": "markdown",
   "metadata": {},
   "source": [
    "#### Original"
   ]
  },
  {
   "cell_type": "code",
   "execution_count": 189,
   "metadata": {},
   "outputs": [],
   "source": [
    "# id_to_poi, poi_to_id, poi_counts = merge_pois_simple(\n",
    "#     df2,\n",
    "#     id_to_poi,\n",
    "#     poi_to_id,\n",
    "#     poi_counts,\n",
    "#     threshold=threshold,\n",
    "#     threshold_merge=threshold_merge,\n",
    "# )"
   ]
  },
  {
   "cell_type": "markdown",
   "metadata": {},
   "source": [
    "#### Theo"
   ]
  },
  {
   "cell_type": "code",
   "execution_count": 190,
   "metadata": {},
   "outputs": [],
   "source": [
    "threshold_merge_avg = 0.5\n",
    "threshold_merge_max = 0.95\n",
    "\n",
    "threshold_merge_avg = 0.4\n",
    "threshold_merge_max = 0.85"
   ]
  },
  {
   "cell_type": "code",
   "execution_count": 191,
   "metadata": {},
   "outputs": [
    {
     "data": {
      "application/vnd.jupyter.widget-view+json": {
       "model_id": "dfcabccdb53f420da80e0d1b16487b63",
       "version_major": 2,
       "version_minor": 0
      },
      "text/plain": [
       "HBox(children=(HTML(value=''), FloatProgress(value=0.0, max=152145.0), HTML(value='')))"
      ]
     },
     "metadata": {},
     "output_type": "display_data"
    },
    {
     "name": "stdout",
     "output_type": "stream",
     "text": [
      "\n"
     ]
    }
   ],
   "source": [
    "id1, id2, preds = np.split(df2.values, [1, 2], axis=1)\n",
    "id1, id2, preds = id1.flatten(), id2.flatten(), preds.flatten()\n",
    "merging_pairs = []\n",
    "\n",
    "for i, (i1, i2, pred) in enumerate(zip(id1, id2, preds)):\n",
    "    if i1 in id_to_poi and i2 in id_to_poi:\n",
    "        poi1 = id_to_poi[i1]\n",
    "        poi2 = id_to_poi[i2]\n",
    "\n",
    "        if id_to_poi[i2] == id_to_poi[i1]:\n",
    "            continue\n",
    "        \n",
    "        if poi_counts[poi1] + poi_counts[poi2] > 300:\n",
    "            continue  # Too big, skip\n",
    "\n",
    "        m = min(poi1, poi2)\n",
    "        m2 = max(poi2, poi1)\n",
    "        to_merge = [m, m2, i1, i2, pred]\n",
    "        merging_pairs.append(to_merge)\n",
    "\n",
    "df_merge = pd.DataFrame(merging_pairs, columns=[\"poi1\", \"poi2\", \"i1\", \"i2\", \"score\"])\n",
    "df_merge['poi1_poi2'] = df_merge['poi1'].astype(str) + \"_\" + df_merge['poi2'].astype(str) \n",
    "\n",
    "to_merge = {}\n",
    "\n",
    "for pois, merge in tqdm(df_merge.groupby('poi1_poi2')):\n",
    "\n",
    "    m, m2, i1, i2 = merge[['poi1', 'poi2', 'i1', 'i2']].values[0]\n",
    "\n",
    "#     s1 = poi_counts[id_to_poi[i1]]\n",
    "#     s2 = poi_counts[id_to_poi[i2]]\n",
    "#     links_prop = len(merge) / min(s1, s2)\n",
    "\n",
    "    if (\n",
    "        (merge['score'].max() > threshold_merge_max) or\n",
    "        (merge['score'].mean() > threshold_merge_avg and len(merge) > 1)\n",
    "        # or (links_prop > 0.25):\n",
    "    ): \n",
    "        try:\n",
    "            to_merge[m2] = to_merge[m]\n",
    "        except:\n",
    "            to_merge[m2] = m"
   ]
  },
  {
   "cell_type": "code",
   "execution_count": 192,
   "metadata": {},
   "outputs": [],
   "source": [
    "for m2, m in to_merge.items():\n",
    "    if poi_counts[m] + poi_counts[m2] > 300:\n",
    "        continue\n",
    "\n",
    "    poi_counts[m] = poi_counts[m] + poi_counts[m2]\n",
    "    poi_counts[m2] = 0\n",
    "\n",
    "    for l in poi_to_id[m2]:\n",
    "        id_to_poi[l] = m\n",
    "\n",
    "    poi_to_id[m] = poi_to_id[m] + poi_to_id[m2]\n",
    "    poi_to_id[m2] = []"
   ]
  },
  {
   "cell_type": "code",
   "execution_count": 193,
   "metadata": {},
   "outputs": [],
   "source": [
    "id_to_poi_svg = deepcopy(id_to_poi)"
   ]
  },
  {
   "cell_type": "markdown",
   "metadata": {},
   "source": [
    "#### Remove outliers\n",
    "- TODO : add lvl 1 as nomatch"
   ]
  },
  {
   "cell_type": "code",
   "execution_count": 219,
   "metadata": {},
   "outputs": [],
   "source": [
    "id_to_poi = deepcopy(id_to_poi_svg)\n",
    "\n",
    "poi_to_id = {}\n",
    "for k in id_to_poi.keys():\n",
    "    if id_to_poi[k] not in poi_to_id:\n",
    "        poi_to_id[id_to_poi[k]] = []\n",
    "    poi_to_id[id_to_poi[k]].append(k)"
   ]
  },
  {
   "cell_type": "code",
   "execution_count": 220,
   "metadata": {},
   "outputs": [],
   "source": [
    "id1, id2, preds = np.split(df2.values, [1, 2], axis=1)\n",
    "id1, id2, preds = id1.flatten(), id2.flatten(), preds.flatten()\n",
    "\n",
    "poi_to_pair_idx = {}\n",
    "\n",
    "for i, (i1, i2, pred) in enumerate(zip(id1, id2, preds)):\n",
    "    poi1 = id_to_poi.get(i1, -1)\n",
    "    poi2 = id_to_poi.get(i2, -1)\n",
    "    if poi1 > -1 and poi2 > -1 and poi1 == poi2:\n",
    "        try:\n",
    "            poi_to_pair_idx[poi1].add(i)\n",
    "        except:\n",
    "            poi_to_pair_idx[poi1] = set([i])"
   ]
  },
  {
   "cell_type": "code",
   "execution_count": null,
   "metadata": {},
   "outputs": [],
   "source": [
    "THRESHOLD_REMOVE = 0.3\n",
    "THRESHOLD_REMOVE = 0.25  # sampled data"
   ]
  },
  {
   "cell_type": "code",
   "execution_count": 221,
   "metadata": {
    "scrolled": false
   },
   "outputs": [
    {
     "data": {
      "application/vnd.jupyter.widget-view+json": {
       "model_id": "4c60763f92f84f229191161074f89f53",
       "version_major": 2,
       "version_minor": 0
      },
      "text/plain": [
       "HBox(children=(HTML(value=''), FloatProgress(value=0.0, max=181938.0), HTML(value='')))"
      ]
     },
     "metadata": {},
     "output_type": "display_data"
    },
    {
     "name": "stdout",
     "output_type": "stream",
     "text": [
      "\n"
     ]
    }
   ],
   "source": [
    "# filter out\n",
    "current_clust = np.max(list(id_to_poi.values())) + 1\n",
    "removed = []\n",
    "\n",
    "for clust in tqdm(poi_to_id):\n",
    "# for clust in tqdm(set(merged_clusts)):\n",
    "    if len(poi_to_id[clust]) < 3:\n",
    "        continue\n",
    "\n",
    "    to_remove = []\n",
    "    scores_to_remove = []\n",
    "    n_founds = []\n",
    "    df_clust = df2.iloc[list(poi_to_pair_idx[clust])]\n",
    "\n",
    "    for id_ in poi_to_id[clust]:\n",
    "        scores = df_clust.query(f'id == \"{id_}\" | id2 == \"{id_}\"')['match']\n",
    "        n_found = len(scores)\n",
    "\n",
    "        if (\n",
    "            scores.mean() < 0.25\n",
    "        ):\n",
    "            id_to_poi[id_] = current_clust\n",
    "            current_clust += 1\n",
    "\n",
    "#             n_founds.append(n_found)\n",
    "            to_remove.append(id_)\n",
    "#             scores_to_remove.append(scores.mean())\n",
    "            \n",
    "#             break\n",
    "#     if len(to_remove):\n",
    "#         break\n",
    "\n",
    "    removed += to_remove\n",
    "#     df_r = df[df['id'].apply(lambda x: x in to_remove)]\n",
    "#     df_r['score'] = scores_to_remove\n",
    "#     df_r['n_found'] = n_founds\n",
    "#     df_r = df_r.sort_values('score', ascending=False)\n",
    "#     display(df_r.tail(200))\n",
    "\n",
    "#     break"
   ]
  },
  {
   "cell_type": "code",
   "execution_count": 222,
   "metadata": {},
   "outputs": [],
   "source": [
    "# len(removed)  # TODO : retrieve matches for removed ??"
   ]
  },
  {
   "cell_type": "code",
   "execution_count": 223,
   "metadata": {},
   "outputs": [],
   "source": [
    "poi_to_id = {}\n",
    "for k in id_to_poi.keys():\n",
    "    if id_to_poi[k] not in poi_to_id:\n",
    "        poi_to_id[id_to_poi[k]] = []\n",
    "    poi_to_id[id_to_poi[k]].append(k)"
   ]
  },
  {
   "cell_type": "markdown",
   "metadata": {},
   "source": [
    "### Reformat"
   ]
  },
  {
   "cell_type": "markdown",
   "metadata": {},
   "source": [
    "### CV"
   ]
  },
  {
   "cell_type": "code",
   "execution_count": 224,
   "metadata": {},
   "outputs": [],
   "source": [
    "preds = pd.DataFrame.from_dict(id_to_poi, orient=\"index\").reset_index()\n",
    "preds['matches'] = preds[0].map(poi_to_id).apply(lambda x: \" \".join(x))\n",
    "preds.columns = [\"id\", \"poi\", \"m2\"]"
   ]
  },
  {
   "cell_type": "code",
   "execution_count": 217,
   "metadata": {
    "scrolled": true
   },
   "outputs": [
    {
     "name": "stdout",
     "output_type": "stream",
     "text": [
      "CV 0.92050\n"
     ]
    }
   ],
   "source": [
    "cv = evaluate(df, preds)\n",
    "print(f\"CV {cv:.5f}\")"
   ]
  },
  {
   "cell_type": "markdown",
   "metadata": {},
   "source": [
    "- base : 0.90228\n",
    "- theo : 0.90312\n",
    "- theo - outlier : 0.90405"
   ]
  },
  {
   "cell_type": "markdown",
   "metadata": {},
   "source": [
    "- base : 0.9192\n",
    "- theo : 0.91975\n",
    "- theo - outlier : 0.9205"
   ]
  },
  {
   "cell_type": "markdown",
   "metadata": {},
   "source": [
    "### Spread"
   ]
  },
  {
   "cell_type": "code",
   "execution_count": 226,
   "metadata": {
    "scrolled": false
   },
   "outputs": [
    {
     "data": {
      "image/png": "[encoded data removed]",
      "text/plain": [
       "<Figure size 576x576 with 1 Axes>"
      ]
     },
     "metadata": {
      "needs_background": "light"
     },
     "output_type": "display_data"
    }
   ],
   "source": [
    "privs = []\n",
    "pubs = []\n",
    "for _ in range(100):\n",
    "    priv_pub = p1_tr[\"ious\"].sample(600000).values\n",
    "    pub = priv_pub[:150000]\n",
    "    priv = priv_pub[150000:]\n",
    "#     print(f'Public {np.mean(pub) :.4f} - Private {np.mean(priv) :.4f}')\n",
    "    privs.append(np.mean(priv))\n",
    "    pubs.append(np.mean(pub))\n",
    "\n",
    "plt.figure(figsize=(8, 8))\n",
    "plt.scatter(pubs, privs, s=10)\n",
    "plt.plot([0.9, 0.903], [0.9, 0.903], c=\"salmon\")\n",
    "plt.xlabel('Public')\n",
    "plt.ylabel('Private')\n",
    "plt.show()"
   ]
  }
 ],
 "metadata": {
  "kernelspec": {
   "display_name": "Python 3",
   "language": "python",
   "name": "python3"
  },
  "language_info": {
   "codemirror_mode": {
    "name": "ipython",
    "version": 3
   },
   "file_extension": ".py",
   "mimetype": "text/x-python",
   "name": "python",
   "nbconvert_exporter": "python",
   "pygments_lexer": "ipython3",
   "version": "3.8.13"
  }
 },
 "nbformat": 4,
 "nbformat_minor": 4
}
