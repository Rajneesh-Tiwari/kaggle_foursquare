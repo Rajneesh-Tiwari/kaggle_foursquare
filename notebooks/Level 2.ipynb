{
 "cells": [
  {
   "cell_type": "markdown",
   "metadata": {},
   "source": [
    "**TODO :**"
   ]
  },
  {
   "cell_type": "code",
   "execution_count": 1,
   "metadata": {},
   "outputs": [],
   "source": [
    "%load_ext autoreload\n",
    "%autoreload 2"
   ]
  },
  {
   "cell_type": "code",
   "execution_count": 2,
   "metadata": {},
   "outputs": [
    {
     "name": "stdout",
     "output_type": "stream",
     "text": [
      "/home/theo/kaggle/foursquare/src\n"
     ]
    }
   ],
   "source": [
    "cd ../src"
   ]
  },
  {
   "cell_type": "code",
   "execution_count": 3,
   "metadata": {},
   "outputs": [
    {
     "data": {
      "application/javascript": [
       "\n",
       "            setTimeout(function() {\n",
       "                var nbb_cell_id = 3;\n",
       "                var nbb_unformatted_code = \"%load_ext nb_black\";\n",
       "                var nbb_formatted_code = \"%load_ext nb_black\";\n",
       "                var nbb_cells = Jupyter.notebook.get_cells();\n",
       "                for (var i = 0; i < nbb_cells.length; ++i) {\n",
       "                    if (nbb_cells[i].input_prompt_number == nbb_cell_id) {\n",
       "                        if (nbb_cells[i].get_text() == nbb_unformatted_code) {\n",
       "                             nbb_cells[i].set_text(nbb_formatted_code);\n",
       "                        }\n",
       "                        break;\n",
       "                    }\n",
       "                }\n",
       "            }, 500);\n",
       "            "
      ],
      "text/plain": [
       "<IPython.core.display.Javascript object>"
      ]
     },
     "metadata": {},
     "output_type": "display_data"
    }
   ],
   "source": [
    "%load_ext nb_black"
   ]
  },
  {
   "cell_type": "markdown",
   "metadata": {
    "papermill": {
     "duration": 0.113095,
     "end_time": "2022-06-20T12:41:41.215410",
     "exception": false,
     "start_time": "2022-06-20T12:41:41.102315",
     "status": "completed"
    },
    "tags": []
   },
   "source": [
    "# **Librairies**"
   ]
  },
  {
   "cell_type": "code",
   "execution_count": 4,
   "metadata": {},
   "outputs": [
    {
     "data": {
      "text/plain": [
       "'NVIDIA GeForce RTX 2080 Ti'"
      ]
     },
     "execution_count": 4,
     "metadata": {},
     "output_type": "execute_result"
    },
    {
     "data": {
      "application/javascript": [
       "\n",
       "            setTimeout(function() {\n",
       "                var nbb_cell_id = 4;\n",
       "                var nbb_unformatted_code = \"import os\\n\\nos.environ[\\\"CUDA_VISIBLE_DEVICES\\\"] = \\\"1\\\"\\n\\nimport torch\\n\\ntorch.cuda.get_device_name(0)\";\n",
       "                var nbb_formatted_code = \"import os\\n\\nos.environ[\\\"CUDA_VISIBLE_DEVICES\\\"] = \\\"1\\\"\\n\\nimport torch\\n\\ntorch.cuda.get_device_name(0)\";\n",
       "                var nbb_cells = Jupyter.notebook.get_cells();\n",
       "                for (var i = 0; i < nbb_cells.length; ++i) {\n",
       "                    if (nbb_cells[i].input_prompt_number == nbb_cell_id) {\n",
       "                        if (nbb_cells[i].get_text() == nbb_unformatted_code) {\n",
       "                             nbb_cells[i].set_text(nbb_formatted_code);\n",
       "                        }\n",
       "                        break;\n",
       "                    }\n",
       "                }\n",
       "            }, 500);\n",
       "            "
      ],
      "text/plain": [
       "<IPython.core.display.Javascript object>"
      ]
     },
     "metadata": {},
     "output_type": "display_data"
    }
   ],
   "source": [
    "import os\n",
    "\n",
    "os.environ[\"CUDA_VISIBLE_DEVICES\"] = \"1\"\n",
    "\n",
    "import torch\n",
    "\n",
    "torch.cuda.get_device_name(0)"
   ]
  },
  {
   "cell_type": "code",
   "execution_count": 5,
   "metadata": {
    "_cell_guid": "b1076dfc-b9ad-4769-8c92-a6c4dae69d19",
    "_uuid": "8f2839f25d086af736a60e9eeb907d3b93b6e0e5",
    "execution": {
     "iopub.execute_input": "2022-06-20T12:42:48.194197Z",
     "iopub.status.busy": "2022-06-20T12:42:48.193938Z",
     "iopub.status.idle": "2022-06-20T12:42:50.735561Z",
     "shell.execute_reply": "2022-06-20T12:42:50.734610Z"
    },
    "papermill": {
     "duration": 2.672311,
     "end_time": "2022-06-20T12:42:50.737847",
     "exception": false,
     "start_time": "2022-06-20T12:42:48.065536",
     "status": "completed"
    },
    "tags": []
   },
   "outputs": [
    {
     "name": "stdout",
     "output_type": "stream",
     "text": [
      "INFO: Pandarallel will run on 12 workers.\n",
      "INFO: Pandarallel will use Memory file system to transfer data between the main process and workers.\n"
     ]
    },
    {
     "data": {
      "application/javascript": [
       "\n",
       "            setTimeout(function() {\n",
       "                var nbb_cell_id = 5;\n",
       "                var nbb_unformatted_code = \"import gc\\nimport cudf\\nimport random\\nimport warnings\\nimport numpy as np\\nimport pandas as pd\\nfrom tqdm.auto import tqdm\\nfrom pandarallel import pandarallel\\n\\nfrom params import DEBUG, OUT_PATH, IS_TEST, RESSOURCES_PATH\\nfrom ressources import *\\nfrom matching import *\\nfrom dtypes import DTYPES_1\\nfrom data.preparation import reduce_mem_usage\\n\\npandarallel.initialize(nb_workers=12, progress_bar=False)\\nrandom.seed(13)\\nwarnings.simplefilter(\\\"ignore\\\")\\npd.options.display.max_columns = 500\";\n",
       "                var nbb_formatted_code = \"import gc\\nimport cudf\\nimport random\\nimport warnings\\nimport numpy as np\\nimport pandas as pd\\nfrom tqdm.auto import tqdm\\nfrom pandarallel import pandarallel\\n\\nfrom params import DEBUG, OUT_PATH, IS_TEST, RESSOURCES_PATH\\nfrom ressources import *\\nfrom matching import *\\nfrom dtypes import DTYPES_1\\nfrom data.preparation import reduce_mem_usage\\n\\npandarallel.initialize(nb_workers=12, progress_bar=False)\\nrandom.seed(13)\\nwarnings.simplefilter(\\\"ignore\\\")\\npd.options.display.max_columns = 500\";\n",
       "                var nbb_cells = Jupyter.notebook.get_cells();\n",
       "                for (var i = 0; i < nbb_cells.length; ++i) {\n",
       "                    if (nbb_cells[i].input_prompt_number == nbb_cell_id) {\n",
       "                        if (nbb_cells[i].get_text() == nbb_unformatted_code) {\n",
       "                             nbb_cells[i].set_text(nbb_formatted_code);\n",
       "                        }\n",
       "                        break;\n",
       "                    }\n",
       "                }\n",
       "            }, 500);\n",
       "            "
      ],
      "text/plain": [
       "<IPython.core.display.Javascript object>"
      ]
     },
     "metadata": {},
     "output_type": "display_data"
    }
   ],
   "source": [
    "import gc\n",
    "import cudf\n",
    "import random\n",
    "import warnings\n",
    "import numpy as np\n",
    "import pandas as pd\n",
    "from tqdm.auto import tqdm\n",
    "from pandarallel import pandarallel\n",
    "\n",
    "from params import DEBUG, OUT_PATH, IS_TEST, RESSOURCES_PATH\n",
    "from ressources import *\n",
    "from matching import *\n",
    "from dtypes import DTYPES_1\n",
    "from data.preparation import reduce_mem_usage\n",
    "\n",
    "pandarallel.initialize(nb_workers=12, progress_bar=False)\n",
    "random.seed(13)\n",
    "warnings.simplefilter(\"ignore\")\n",
    "pd.options.display.max_columns = 500"
   ]
  },
  {
   "cell_type": "markdown",
   "metadata": {
    "papermill": {
     "duration": 0.128224,
     "end_time": "2022-06-20T12:42:52.888296",
     "exception": false,
     "start_time": "2022-06-20T12:42:52.760072",
     "status": "completed"
    },
    "tags": []
   },
   "source": [
    "## Load Data\n",
    "- TODO: load precomputed probas"
   ]
  },
  {
   "cell_type": "code",
   "execution_count": 6,
   "metadata": {},
   "outputs": [
    {
     "data": {
      "application/javascript": [
       "\n",
       "            setTimeout(function() {\n",
       "                var nbb_cell_id = 6;\n",
       "                var nbb_unformatted_code = \"if IS_TEST:\\n    train = load_cleaned_data(OUT_PATH + \\\"cleaned_data_test.csv\\\")\\nelse:\\n    train = load_cleaned_data(OUT_PATH + \\\"cleaned_data_train.csv\\\")\";\n",
       "                var nbb_formatted_code = \"if IS_TEST:\\n    train = load_cleaned_data(OUT_PATH + \\\"cleaned_data_test.csv\\\")\\nelse:\\n    train = load_cleaned_data(OUT_PATH + \\\"cleaned_data_train.csv\\\")\";\n",
       "                var nbb_cells = Jupyter.notebook.get_cells();\n",
       "                for (var i = 0; i < nbb_cells.length; ++i) {\n",
       "                    if (nbb_cells[i].input_prompt_number == nbb_cell_id) {\n",
       "                        if (nbb_cells[i].get_text() == nbb_unformatted_code) {\n",
       "                             nbb_cells[i].set_text(nbb_formatted_code);\n",
       "                        }\n",
       "                        break;\n",
       "                    }\n",
       "                }\n",
       "            }, 500);\n",
       "            "
      ],
      "text/plain": [
       "<IPython.core.display.Javascript object>"
      ]
     },
     "metadata": {},
     "output_type": "display_data"
    }
   ],
   "source": [
    "if IS_TEST:\n",
    "    train = load_cleaned_data(OUT_PATH + \"cleaned_data_test.csv\")\n",
    "else:\n",
    "    train = load_cleaned_data(OUT_PATH + \"cleaned_data_train.csv\")"
   ]
  },
  {
   "cell_type": "code",
   "execution_count": 7,
   "metadata": {},
   "outputs": [
    {
     "data": {
      "application/javascript": [
       "\n",
       "            setTimeout(function() {\n",
       "                var nbb_cell_id = 7;\n",
       "                var nbb_unformatted_code = \"train[\\\"idx\\\"] = np.arange(len(train))\";\n",
       "                var nbb_formatted_code = \"train[\\\"idx\\\"] = np.arange(len(train))\";\n",
       "                var nbb_cells = Jupyter.notebook.get_cells();\n",
       "                for (var i = 0; i < nbb_cells.length; ++i) {\n",
       "                    if (nbb_cells[i].input_prompt_number == nbb_cell_id) {\n",
       "                        if (nbb_cells[i].get_text() == nbb_unformatted_code) {\n",
       "                             nbb_cells[i].set_text(nbb_formatted_code);\n",
       "                        }\n",
       "                        break;\n",
       "                    }\n",
       "                }\n",
       "            }, 500);\n",
       "            "
      ],
      "text/plain": [
       "<IPython.core.display.Javascript object>"
      ]
     },
     "metadata": {},
     "output_type": "display_data"
    }
   ],
   "source": [
    "train[\"idx\"] = np.arange(len(train))"
   ]
  },
  {
   "cell_type": "code",
   "execution_count": 8,
   "metadata": {},
   "outputs": [
    {
     "data": {
      "application/javascript": [
       "\n",
       "            setTimeout(function() {\n",
       "                var nbb_cell_id = 8;\n",
       "                var nbb_unformatted_code = \"THRESHOLD = 0.0075\";\n",
       "                var nbb_formatted_code = \"THRESHOLD = 0.0075\";\n",
       "                var nbb_cells = Jupyter.notebook.get_cells();\n",
       "                for (var i = 0; i < nbb_cells.length; ++i) {\n",
       "                    if (nbb_cells[i].input_prompt_number == nbb_cell_id) {\n",
       "                        if (nbb_cells[i].get_text() == nbb_unformatted_code) {\n",
       "                             nbb_cells[i].set_text(nbb_formatted_code);\n",
       "                        }\n",
       "                        break;\n",
       "                    }\n",
       "                }\n",
       "            }, 500);\n",
       "            "
      ],
      "text/plain": [
       "<IPython.core.display.Javascript object>"
      ]
     },
     "metadata": {},
     "output_type": "display_data"
    }
   ],
   "source": [
    "THRESHOLD = 0.0075"
   ]
  },
  {
   "cell_type": "code",
   "execution_count": 9,
   "metadata": {
    "scrolled": true
   },
   "outputs": [
    {
     "data": {
      "application/javascript": [
       "\n",
       "            setTimeout(function() {\n",
       "                var nbb_cell_id = 9;\n",
       "                var nbb_unformatted_code = \"if IS_TEST:\\n    df_p = pd.read_csv(\\n        OUT_PATH + f\\\"features_test_1_filtered_{THRESHOLD}.csv\\\", dtype=DTYPES_1\\n    )\\n    SIZE_RATIO = 1\\nelse:\\n    df_p = pd.read_csv(\\n        OUT_PATH + f\\\"features_train_1_filtered_{THRESHOLD}.csv\\\", dtype=DTYPES_1\\n    )\\n    SIZE_RATIO = 1\";\n",
       "                var nbb_formatted_code = \"if IS_TEST:\\n    df_p = pd.read_csv(\\n        OUT_PATH + f\\\"features_test_1_filtered_{THRESHOLD}.csv\\\", dtype=DTYPES_1\\n    )\\n    SIZE_RATIO = 1\\nelse:\\n    df_p = pd.read_csv(\\n        OUT_PATH + f\\\"features_train_1_filtered_{THRESHOLD}.csv\\\", dtype=DTYPES_1\\n    )\\n    SIZE_RATIO = 1\";\n",
       "                var nbb_cells = Jupyter.notebook.get_cells();\n",
       "                for (var i = 0; i < nbb_cells.length; ++i) {\n",
       "                    if (nbb_cells[i].input_prompt_number == nbb_cell_id) {\n",
       "                        if (nbb_cells[i].get_text() == nbb_unformatted_code) {\n",
       "                             nbb_cells[i].set_text(nbb_formatted_code);\n",
       "                        }\n",
       "                        break;\n",
       "                    }\n",
       "                }\n",
       "            }, 500);\n",
       "            "
      ],
      "text/plain": [
       "<IPython.core.display.Javascript object>"
      ]
     },
     "metadata": {},
     "output_type": "display_data"
    }
   ],
   "source": [
    "if IS_TEST:\n",
    "    df_p = pd.read_csv(\n",
    "        OUT_PATH + f\"features_test_1_filtered_{THRESHOLD}.csv\", dtype=DTYPES_1\n",
    "    )\n",
    "    SIZE_RATIO = 1\n",
    "else:\n",
    "    df_p = pd.read_csv(\n",
    "        OUT_PATH + f\"features_train_1_filtered_{THRESHOLD}.csv\", dtype=DTYPES_1\n",
    "    )\n",
    "    SIZE_RATIO = 1"
   ]
  },
  {
   "cell_type": "code",
   "execution_count": 10,
   "metadata": {},
   "outputs": [
    {
     "data": {
      "application/javascript": [
       "\n",
       "            setTimeout(function() {\n",
       "                var nbb_cell_id = 10;\n",
       "                var nbb_unformatted_code = \"if DEBUG:\\n    df_p = df_p.head(10000).copy()\";\n",
       "                var nbb_formatted_code = \"if DEBUG:\\n    df_p = df_p.head(10000).copy()\";\n",
       "                var nbb_cells = Jupyter.notebook.get_cells();\n",
       "                for (var i = 0; i < nbb_cells.length; ++i) {\n",
       "                    if (nbb_cells[i].input_prompt_number == nbb_cell_id) {\n",
       "                        if (nbb_cells[i].get_text() == nbb_unformatted_code) {\n",
       "                             nbb_cells[i].set_text(nbb_formatted_code);\n",
       "                        }\n",
       "                        break;\n",
       "                    }\n",
       "                }\n",
       "            }, 500);\n",
       "            "
      ],
      "text/plain": [
       "<IPython.core.display.Javascript object>"
      ]
     },
     "metadata": {},
     "output_type": "display_data"
    }
   ],
   "source": [
    "if DEBUG:\n",
    "    df_p = df_p.head(10000).copy()"
   ]
  },
  {
   "cell_type": "code",
   "execution_count": 11,
   "metadata": {},
   "outputs": [
    {
     "data": {
      "application/javascript": [
       "\n",
       "            setTimeout(function() {\n",
       "                var nbb_cell_id = 11;\n",
       "                var nbb_unformatted_code = \"# df_merged = feature_engineering_2(df_p, train, ressources_path=RESSOURCES_PATH)\";\n",
       "                var nbb_formatted_code = \"# df_merged = feature_engineering_2(df_p, train, ressources_path=RESSOURCES_PATH)\";\n",
       "                var nbb_cells = Jupyter.notebook.get_cells();\n",
       "                for (var i = 0; i < nbb_cells.length; ++i) {\n",
       "                    if (nbb_cells[i].input_prompt_number == nbb_cell_id) {\n",
       "                        if (nbb_cells[i].get_text() == nbb_unformatted_code) {\n",
       "                             nbb_cells[i].set_text(nbb_formatted_code);\n",
       "                        }\n",
       "                        break;\n",
       "                    }\n",
       "                }\n",
       "            }, 500);\n",
       "            "
      ],
      "text/plain": [
       "<IPython.core.display.Javascript object>"
      ]
     },
     "metadata": {},
     "output_type": "display_data"
    }
   ],
   "source": [
    "# df_merged = feature_engineering_2(df_p, train, ressources_path=RESSOURCES_PATH)"
   ]
  },
  {
   "cell_type": "markdown",
   "metadata": {},
   "source": [
    "### Youri & Vincent"
   ]
  },
  {
   "cell_type": "code",
   "execution_count": 12,
   "metadata": {},
   "outputs": [
    {
     "data": {
      "application/javascript": [
       "\n",
       "            setTimeout(function() {\n",
       "                var nbb_cell_id = 12;\n",
       "                var nbb_unformatted_code = \"from fe import FE2\";\n",
       "                var nbb_formatted_code = \"from fe import FE2\";\n",
       "                var nbb_cells = Jupyter.notebook.get_cells();\n",
       "                for (var i = 0; i < nbb_cells.length; ++i) {\n",
       "                    if (nbb_cells[i].input_prompt_number == nbb_cell_id) {\n",
       "                        if (nbb_cells[i].get_text() == nbb_unformatted_code) {\n",
       "                             nbb_cells[i].set_text(nbb_formatted_code);\n",
       "                        }\n",
       "                        break;\n",
       "                    }\n",
       "                }\n",
       "            }, 500);\n",
       "            "
      ],
      "text/plain": [
       "<IPython.core.display.Javascript object>"
      ]
     },
     "metadata": {},
     "output_type": "display_data"
    }
   ],
   "source": [
    "from fe import FE2"
   ]
  },
  {
   "cell_type": "code",
   "execution_count": 13,
   "metadata": {},
   "outputs": [
    {
     "data": {
      "application/javascript": [
       "\n",
       "            setTimeout(function() {\n",
       "                var nbb_cell_id = 13;\n",
       "                var nbb_unformatted_code = \"df_p = df_p.merge(train[[\\\"id\\\", \\\"Nb_multiPoi\\\"]], left_on=\\\"id_1\\\", right_on=\\\"id\\\").drop(\\n    \\\"id\\\", axis=1\\n)\\ndf_p = df_p.merge(\\n    train[[\\\"id\\\", \\\"Nb_multiPoi\\\"]], left_on=\\\"id_2\\\", right_on=\\\"id\\\", suffixes=(\\\"_1\\\", \\\"_2\\\")\\n).drop(\\\"id\\\", axis=1)\";\n",
       "                var nbb_formatted_code = \"df_p = df_p.merge(train[[\\\"id\\\", \\\"Nb_multiPoi\\\"]], left_on=\\\"id_1\\\", right_on=\\\"id\\\").drop(\\n    \\\"id\\\", axis=1\\n)\\ndf_p = df_p.merge(\\n    train[[\\\"id\\\", \\\"Nb_multiPoi\\\"]], left_on=\\\"id_2\\\", right_on=\\\"id\\\", suffixes=(\\\"_1\\\", \\\"_2\\\")\\n).drop(\\\"id\\\", axis=1)\";\n",
       "                var nbb_cells = Jupyter.notebook.get_cells();\n",
       "                for (var i = 0; i < nbb_cells.length; ++i) {\n",
       "                    if (nbb_cells[i].input_prompt_number == nbb_cell_id) {\n",
       "                        if (nbb_cells[i].get_text() == nbb_unformatted_code) {\n",
       "                             nbb_cells[i].set_text(nbb_formatted_code);\n",
       "                        }\n",
       "                        break;\n",
       "                    }\n",
       "                }\n",
       "            }, 500);\n",
       "            "
      ],
      "text/plain": [
       "<IPython.core.display.Javascript object>"
      ]
     },
     "metadata": {},
     "output_type": "display_data"
    }
   ],
   "source": [
    "df_p = df_p.merge(train[[\"id\", \"Nb_multiPoi\"]], left_on=\"id_1\", right_on=\"id\").drop(\n",
    "    \"id\", axis=1\n",
    ")\n",
    "df_p = df_p.merge(\n",
    "    train[[\"id\", \"Nb_multiPoi\"]], left_on=\"id_2\", right_on=\"id\", suffixes=(\"_1\", \"_2\")\n",
    ").drop(\"id\", axis=1)"
   ]
  },
  {
   "cell_type": "code",
   "execution_count": 14,
   "metadata": {},
   "outputs": [
    {
     "data": {
      "application/javascript": [
       "\n",
       "            setTimeout(function() {\n",
       "                var nbb_cell_id = 14;\n",
       "                var nbb_unformatted_code = \"p1 = df_p[[\\\"id_1\\\"]].copy()\\np1.columns = [\\\"id\\\"]\\np2 = df_p[[\\\"id_2\\\"]].copy()\\np2.columns = [\\\"id\\\"]\";\n",
       "                var nbb_formatted_code = \"p1 = df_p[[\\\"id_1\\\"]].copy()\\np1.columns = [\\\"id\\\"]\\np2 = df_p[[\\\"id_2\\\"]].copy()\\np2.columns = [\\\"id\\\"]\";\n",
       "                var nbb_cells = Jupyter.notebook.get_cells();\n",
       "                for (var i = 0; i < nbb_cells.length; ++i) {\n",
       "                    if (nbb_cells[i].input_prompt_number == nbb_cell_id) {\n",
       "                        if (nbb_cells[i].get_text() == nbb_unformatted_code) {\n",
       "                             nbb_cells[i].set_text(nbb_formatted_code);\n",
       "                        }\n",
       "                        break;\n",
       "                    }\n",
       "                }\n",
       "            }, 500);\n",
       "            "
      ],
      "text/plain": [
       "<IPython.core.display.Javascript object>"
      ]
     },
     "metadata": {},
     "output_type": "display_data"
    }
   ],
   "source": [
    "p1 = df_p[[\"id_1\"]].copy()\n",
    "p1.columns = [\"id\"]\n",
    "p2 = df_p[[\"id_2\"]].copy()\n",
    "p2.columns = [\"id\"]"
   ]
  },
  {
   "cell_type": "code",
   "execution_count": 15,
   "metadata": {
    "scrolled": false
   },
   "outputs": [
    {
     "name": "stdout",
     "output_type": "stream",
     "text": [
      "- Cat links & quantiles\n",
      "- Simply connected components\n",
      "- Strongly connected components\n",
      "- Cat link score\n",
      "- Link between grouped categories\n",
      "- Features for column name_initial\n",
      "- Features for column name_initial_decode\n",
      "- Features for column nameC\n",
      "- Features for column name\n",
      "- Features for column categories\n",
      "- Features for column address\n",
      "- Features for column url\n",
      "- Features for column city\n",
      "- Features for column state\n",
      "- Features for column zip\n",
      "- Features for column phone\n",
      "- Count encoding\n",
      "- Words in categories\n",
      "- Words in names\n",
      "- Close count\n",
      "- Close count of same category2\n",
      "- Close count of same category_simpl\n",
      "- Compare numeric part of the name/address\n",
      "- Number in names features\n",
      "CPU times: user 26min 58s, sys: 1min 59s, total: 28min 58s\n",
      "Wall time: 34min 14s\n"
     ]
    },
    {
     "data": {
      "application/javascript": [
       "\n",
       "            setTimeout(function() {\n",
       "                var nbb_cell_id = 15;\n",
       "                var nbb_unformatted_code = \"%%time\\ndf = FE2(df_p.copy(), p1, p2, train, RESSOURCES_PATH, size_ratio=SIZE_RATIO)\";\n",
       "                var nbb_formatted_code = \"%%time\\ndf = FE2(df_p.copy(), p1, p2, train, RESSOURCES_PATH, size_ratio=SIZE_RATIO)\";\n",
       "                var nbb_cells = Jupyter.notebook.get_cells();\n",
       "                for (var i = 0; i < nbb_cells.length; ++i) {\n",
       "                    if (nbb_cells[i].input_prompt_number == nbb_cell_id) {\n",
       "                        if (nbb_cells[i].get_text() == nbb_unformatted_code) {\n",
       "                             nbb_cells[i].set_text(nbb_formatted_code);\n",
       "                        }\n",
       "                        break;\n",
       "                    }\n",
       "                }\n",
       "            }, 500);\n",
       "            "
      ],
      "text/plain": [
       "<IPython.core.display.Javascript object>"
      ]
     },
     "metadata": {},
     "output_type": "display_data"
    }
   ],
   "source": [
    "%%time\n",
    "df = FE2(df_p.copy(), p1, p2, train, RESSOURCES_PATH, size_ratio=SIZE_RATIO)"
   ]
  },
  {
   "cell_type": "markdown",
   "metadata": {},
   "source": [
    "### Théo"
   ]
  },
  {
   "cell_type": "code",
   "execution_count": 16,
   "metadata": {},
   "outputs": [
    {
     "data": {
      "application/javascript": [
       "\n",
       "            setTimeout(function() {\n",
       "                var nbb_cell_id = 16;\n",
       "                var nbb_unformatted_code = \"from fe_theo import feature_engineering_theo_2\";\n",
       "                var nbb_formatted_code = \"from fe_theo import feature_engineering_theo_2\";\n",
       "                var nbb_cells = Jupyter.notebook.get_cells();\n",
       "                for (var i = 0; i < nbb_cells.length; ++i) {\n",
       "                    if (nbb_cells[i].input_prompt_number == nbb_cell_id) {\n",
       "                        if (nbb_cells[i].get_text() == nbb_unformatted_code) {\n",
       "                             nbb_cells[i].set_text(nbb_formatted_code);\n",
       "                        }\n",
       "                        break;\n",
       "                    }\n",
       "                }\n",
       "            }, 500);\n",
       "            "
      ],
      "text/plain": [
       "<IPython.core.display.Javascript object>"
      ]
     },
     "metadata": {},
     "output_type": "display_data"
    }
   ],
   "source": [
    "from fe_theo import feature_engineering_theo_2"
   ]
  },
  {
   "cell_type": "code",
   "execution_count": 17,
   "metadata": {
    "scrolled": true
   },
   "outputs": [
    {
     "data": {
      "application/javascript": [
       "\n",
       "            setTimeout(function() {\n",
       "                var nbb_cell_id = 17;\n",
       "                var nbb_unformatted_code = \"cols = [\\n    \\\"id\\\",\\n    \\\"name\\\",\\n    \\\"address\\\",\\n    \\\"country\\\",\\n    \\\"url\\\",\\n    \\\"phone\\\",\\n    \\\"city\\\",\\n    \\\"state\\\",\\n    \\\"zip\\\",\\n    \\\"idx\\\",\\n]\\n\\nfor col in cols[1:]:\\n    train.loc[train[col] == \\\"\\\", col] = np.nan\\n\\np1 = p1[[\\\"id\\\"]].merge(train[cols], on=\\\"id\\\", how=\\\"left\\\")\\np2 = p2[[\\\"id\\\"]].merge(train[cols], on=\\\"id\\\", how=\\\"left\\\")\\n\\npairs = pd.concat([p1[cols], p2[cols]], axis=1)\\npairs.columns = [c + \\\"_1\\\" for c in cols] + [c + \\\"_2\\\" for c in cols]\";\n",
       "                var nbb_formatted_code = \"cols = [\\n    \\\"id\\\",\\n    \\\"name\\\",\\n    \\\"address\\\",\\n    \\\"country\\\",\\n    \\\"url\\\",\\n    \\\"phone\\\",\\n    \\\"city\\\",\\n    \\\"state\\\",\\n    \\\"zip\\\",\\n    \\\"idx\\\",\\n]\\n\\nfor col in cols[1:]:\\n    train.loc[train[col] == \\\"\\\", col] = np.nan\\n\\np1 = p1[[\\\"id\\\"]].merge(train[cols], on=\\\"id\\\", how=\\\"left\\\")\\np2 = p2[[\\\"id\\\"]].merge(train[cols], on=\\\"id\\\", how=\\\"left\\\")\\n\\npairs = pd.concat([p1[cols], p2[cols]], axis=1)\\npairs.columns = [c + \\\"_1\\\" for c in cols] + [c + \\\"_2\\\" for c in cols]\";\n",
       "                var nbb_cells = Jupyter.notebook.get_cells();\n",
       "                for (var i = 0; i < nbb_cells.length; ++i) {\n",
       "                    if (nbb_cells[i].input_prompt_number == nbb_cell_id) {\n",
       "                        if (nbb_cells[i].get_text() == nbb_unformatted_code) {\n",
       "                             nbb_cells[i].set_text(nbb_formatted_code);\n",
       "                        }\n",
       "                        break;\n",
       "                    }\n",
       "                }\n",
       "            }, 500);\n",
       "            "
      ],
      "text/plain": [
       "<IPython.core.display.Javascript object>"
      ]
     },
     "metadata": {},
     "output_type": "display_data"
    }
   ],
   "source": [
    "cols = [\n",
    "    \"id\",\n",
    "    \"name\",\n",
    "    \"address\",\n",
    "    \"country\",\n",
    "    \"url\",\n",
    "    \"phone\",\n",
    "    \"city\",\n",
    "    \"state\",\n",
    "    \"zip\",\n",
    "    \"idx\",\n",
    "]\n",
    "\n",
    "for col in cols[1:]:\n",
    "    train.loc[train[col] == \"\", col] = np.nan\n",
    "\n",
    "p1 = p1[[\"id\"]].merge(train[cols], on=\"id\", how=\"left\")\n",
    "p2 = p2[[\"id\"]].merge(train[cols], on=\"id\", how=\"left\")\n",
    "\n",
    "pairs = pd.concat([p1[cols], p2[cols]], axis=1)\n",
    "pairs.columns = [c + \"_1\" for c in cols] + [c + \"_2\" for c in cols]"
   ]
  },
  {
   "cell_type": "code",
   "execution_count": 18,
   "metadata": {
    "scrolled": true
   },
   "outputs": [
    {
     "name": "stdout",
     "output_type": "stream",
     "text": [
      "- Computing nan features\n",
      "- Computing feature name_tf_idf_33_char_wb_sim\n",
      "- Computing feature address_tf_idf_33_char_wb_sim\n",
      "- Computing feature url_tf_idf_33_char_wb_sim\n",
      "- Column : name  -  Function : wratio\n",
      "- Column : name  -  Function : partial_ratio\n",
      "- Column : address  -  Function : wratio\n",
      "- Column : address  -  Function : partial_ratio\n",
      "- Column : url  -  Function : wratio\n",
      "- Column : url  -  Function : partial_ratio\n",
      "CPU times: user 1min, sys: 16.2 s, total: 1min 16s\n",
      "Wall time: 1min 54s\n"
     ]
    },
    {
     "data": {
      "application/javascript": [
       "\n",
       "            setTimeout(function() {\n",
       "                var nbb_cell_id = 18;\n",
       "                var nbb_unformatted_code = \"%%time\\n\\ndf_theo, fts_theo = feature_engineering_theo_2(train.copy(), pairs.copy(), cuda=False)\";\n",
       "                var nbb_formatted_code = \"%%time\\n\\ndf_theo, fts_theo = feature_engineering_theo_2(train.copy(), pairs.copy(), cuda=False)\";\n",
       "                var nbb_cells = Jupyter.notebook.get_cells();\n",
       "                for (var i = 0; i < nbb_cells.length; ++i) {\n",
       "                    if (nbb_cells[i].input_prompt_number == nbb_cell_id) {\n",
       "                        if (nbb_cells[i].get_text() == nbb_unformatted_code) {\n",
       "                             nbb_cells[i].set_text(nbb_formatted_code);\n",
       "                        }\n",
       "                        break;\n",
       "                    }\n",
       "                }\n",
       "            }, 500);\n",
       "            "
      ],
      "text/plain": [
       "<IPython.core.display.Javascript object>"
      ]
     },
     "metadata": {},
     "output_type": "display_data"
    }
   ],
   "source": [
    "%%time\n",
    "\n",
    "df_theo, fts_theo = feature_engineering_theo_2(train.copy(), pairs.copy(), cuda=False)"
   ]
  },
  {
   "cell_type": "markdown",
   "metadata": {},
   "source": [
    "## Merge & Save"
   ]
  },
  {
   "cell_type": "code",
   "execution_count": 19,
   "metadata": {
    "scrolled": true
   },
   "outputs": [
    {
     "data": {
      "application/javascript": [
       "\n",
       "            setTimeout(function() {\n",
       "                var nbb_cell_id = 19;\n",
       "                var nbb_unformatted_code = \"df_merged = df.merge(df_theo, on=[\\\"id_1\\\", \\\"id_2\\\"])\";\n",
       "                var nbb_formatted_code = \"df_merged = df.merge(df_theo, on=[\\\"id_1\\\", \\\"id_2\\\"])\";\n",
       "                var nbb_cells = Jupyter.notebook.get_cells();\n",
       "                for (var i = 0; i < nbb_cells.length; ++i) {\n",
       "                    if (nbb_cells[i].input_prompt_number == nbb_cell_id) {\n",
       "                        if (nbb_cells[i].get_text() == nbb_unformatted_code) {\n",
       "                             nbb_cells[i].set_text(nbb_formatted_code);\n",
       "                        }\n",
       "                        break;\n",
       "                    }\n",
       "                }\n",
       "            }, 500);\n",
       "            "
      ],
      "text/plain": [
       "<IPython.core.display.Javascript object>"
      ]
     },
     "metadata": {},
     "output_type": "display_data"
    }
   ],
   "source": [
    "df_merged = df.merge(df_theo, on=[\"id_1\", \"id_2\"])"
   ]
  },
  {
   "cell_type": "code",
   "execution_count": 20,
   "metadata": {},
   "outputs": [
    {
     "data": {
      "application/javascript": [
       "\n",
       "            setTimeout(function() {\n",
       "                var nbb_cell_id = 20;\n",
       "                var nbb_unformatted_code = \"cols_to_end = [\\n    \\\"point_of_interest_1\\\",\\n    \\\"fold_1\\\",\\n    \\\"point_of_interest_2\\\",\\n    \\\"fold_2\\\",\\n    \\\"match\\\",\\n]\\ncols_to_end = [c for c in cols_to_end if c in df_merged.columns]\\n\\nif len(cols_to_end):\\n    to_end = df_merged[cols_to_end]\\n    df_merged.drop(cols_to_end, axis=1, inplace=True)\\n    df_merged[cols_to_end] = to_end\";\n",
       "                var nbb_formatted_code = \"cols_to_end = [\\n    \\\"point_of_interest_1\\\",\\n    \\\"fold_1\\\",\\n    \\\"point_of_interest_2\\\",\\n    \\\"fold_2\\\",\\n    \\\"match\\\",\\n]\\ncols_to_end = [c for c in cols_to_end if c in df_merged.columns]\\n\\nif len(cols_to_end):\\n    to_end = df_merged[cols_to_end]\\n    df_merged.drop(cols_to_end, axis=1, inplace=True)\\n    df_merged[cols_to_end] = to_end\";\n",
       "                var nbb_cells = Jupyter.notebook.get_cells();\n",
       "                for (var i = 0; i < nbb_cells.length; ++i) {\n",
       "                    if (nbb_cells[i].input_prompt_number == nbb_cell_id) {\n",
       "                        if (nbb_cells[i].get_text() == nbb_unformatted_code) {\n",
       "                             nbb_cells[i].set_text(nbb_formatted_code);\n",
       "                        }\n",
       "                        break;\n",
       "                    }\n",
       "                }\n",
       "            }, 500);\n",
       "            "
      ],
      "text/plain": [
       "<IPython.core.display.Javascript object>"
      ]
     },
     "metadata": {},
     "output_type": "display_data"
    }
   ],
   "source": [
    "cols_to_end = [\n",
    "    \"point_of_interest_1\",\n",
    "    \"fold_1\",\n",
    "    \"point_of_interest_2\",\n",
    "    \"fold_2\",\n",
    "    \"match\",\n",
    "]\n",
    "cols_to_end = [c for c in cols_to_end if c in df_merged.columns]\n",
    "\n",
    "if len(cols_to_end):\n",
    "    to_end = df_merged[cols_to_end]\n",
    "    df_merged.drop(cols_to_end, axis=1, inplace=True)\n",
    "    df_merged[cols_to_end] = to_end"
   ]
  },
  {
   "cell_type": "code",
   "execution_count": 21,
   "metadata": {
    "scrolled": true
   },
   "outputs": [
    {
     "data": {
      "application/javascript": [
       "\n",
       "            setTimeout(function() {\n",
       "                var nbb_cell_id = 21;\n",
       "                var nbb_unformatted_code = \"if DEBUG:\\n    corrs = df_merged.corr()\\n    for col in corrs.columns:\\n        close = pd.DataFrame(corrs.loc[corrs[col] > 0.99][col])\\n        if len(close) > 1:\\n            display(close[close[col] < 1])\";\n",
       "                var nbb_formatted_code = \"if DEBUG:\\n    corrs = df_merged.corr()\\n    for col in corrs.columns:\\n        close = pd.DataFrame(corrs.loc[corrs[col] > 0.99][col])\\n        if len(close) > 1:\\n            display(close[close[col] < 1])\";\n",
       "                var nbb_cells = Jupyter.notebook.get_cells();\n",
       "                for (var i = 0; i < nbb_cells.length; ++i) {\n",
       "                    if (nbb_cells[i].input_prompt_number == nbb_cell_id) {\n",
       "                        if (nbb_cells[i].get_text() == nbb_unformatted_code) {\n",
       "                             nbb_cells[i].set_text(nbb_formatted_code);\n",
       "                        }\n",
       "                        break;\n",
       "                    }\n",
       "                }\n",
       "            }, 500);\n",
       "            "
      ],
      "text/plain": [
       "<IPython.core.display.Javascript object>"
      ]
     },
     "metadata": {},
     "output_type": "display_data"
    }
   ],
   "source": [
    "if DEBUG:\n",
    "    corrs = df_merged.corr()\n",
    "    for col in corrs.columns:\n",
    "        close = pd.DataFrame(corrs.loc[corrs[col] > 0.99][col])\n",
    "        if len(close) > 1:\n",
    "            display(close[close[col] < 1])"
   ]
  },
  {
   "cell_type": "code",
   "execution_count": 22,
   "metadata": {},
   "outputs": [
    {
     "name": "stdout",
     "output_type": "stream",
     "text": [
      "Memory usage after optimization is: 1888.75 MB\n",
      "Decreased by 47.9%\n"
     ]
    },
    {
     "data": {
      "application/javascript": [
       "\n",
       "            setTimeout(function() {\n",
       "                var nbb_cell_id = 22;\n",
       "                var nbb_unformatted_code = \"df_merged = reduce_mem_usage(df_merged)\";\n",
       "                var nbb_formatted_code = \"df_merged = reduce_mem_usage(df_merged)\";\n",
       "                var nbb_cells = Jupyter.notebook.get_cells();\n",
       "                for (var i = 0; i < nbb_cells.length; ++i) {\n",
       "                    if (nbb_cells[i].input_prompt_number == nbb_cell_id) {\n",
       "                        if (nbb_cells[i].get_text() == nbb_unformatted_code) {\n",
       "                             nbb_cells[i].set_text(nbb_formatted_code);\n",
       "                        }\n",
       "                        break;\n",
       "                    }\n",
       "                }\n",
       "            }, 500);\n",
       "            "
      ],
      "text/plain": [
       "<IPython.core.display.Javascript object>"
      ]
     },
     "metadata": {},
     "output_type": "display_data"
    }
   ],
   "source": [
    "df_merged = reduce_mem_usage(df_merged)"
   ]
  },
  {
   "cell_type": "code",
   "execution_count": 23,
   "metadata": {},
   "outputs": [
    {
     "data": {
      "application/javascript": [
       "\n",
       "            setTimeout(function() {\n",
       "                var nbb_cell_id = 23;\n",
       "                var nbb_unformatted_code = \"# df_merged.dtypes.to_dict()\";\n",
       "                var nbb_formatted_code = \"# df_merged.dtypes.to_dict()\";\n",
       "                var nbb_cells = Jupyter.notebook.get_cells();\n",
       "                for (var i = 0; i < nbb_cells.length; ++i) {\n",
       "                    if (nbb_cells[i].input_prompt_number == nbb_cell_id) {\n",
       "                        if (nbb_cells[i].get_text() == nbb_unformatted_code) {\n",
       "                             nbb_cells[i].set_text(nbb_formatted_code);\n",
       "                        }\n",
       "                        break;\n",
       "                    }\n",
       "                }\n",
       "            }, 500);\n",
       "            "
      ],
      "text/plain": [
       "<IPython.core.display.Javascript object>"
      ]
     },
     "metadata": {},
     "output_type": "display_data"
    }
   ],
   "source": [
    "# df_merged.dtypes.to_dict()"
   ]
  },
  {
   "cell_type": "code",
   "execution_count": null,
   "metadata": {},
   "outputs": [],
   "source": [
    "if not DEBUG:\n",
    "    if IS_TEST:\n",
    "        df_merged.to_csv(OUT_PATH + f\"features_test_2_{THRESHOLD}.csv\", index=False)\n",
    "    else:\n",
    "        df_merged.to_csv(OUT_PATH + f\"features_train_2_{THRESHOLD}.csv\", index=False)"
   ]
  },
  {
   "cell_type": "code",
   "execution_count": null,
   "metadata": {},
   "outputs": [],
   "source": [
    "df_merged.head()"
   ]
  },
  {
   "cell_type": "markdown",
   "metadata": {},
   "source": [
    "Done !"
   ]
  }
 ],
 "metadata": {
  "kernelspec": {
   "display_name": "Python 3",
   "language": "python",
   "name": "python3"
  },
  "language_info": {
   "codemirror_mode": {
    "name": "ipython",
    "version": 3
   },
   "file_extension": ".py",
   "mimetype": "text/x-python",
   "name": "python",
   "nbconvert_exporter": "python",
   "pygments_lexer": "ipython3",
   "version": "3.8.13"
  }
 },
 "nbformat": 4,
 "nbformat_minor": 4
}
