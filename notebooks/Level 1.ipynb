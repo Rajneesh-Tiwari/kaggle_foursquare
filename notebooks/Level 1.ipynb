{
 "cells": [
  {
   "cell_type": "markdown",
   "metadata": {},
   "source": [
    "**TODO :**\n",
    "- pandarallel to speed up ?"
   ]
  },
  {
   "cell_type": "code",
   "execution_count": 1,
   "metadata": {},
   "outputs": [],
   "source": [
    "%load_ext autoreload\n",
    "%autoreload 2"
   ]
  },
  {
   "cell_type": "code",
   "execution_count": 2,
   "metadata": {},
   "outputs": [
    {
     "name": "stdout",
     "output_type": "stream",
     "text": [
      "/home/theo/kaggle/foursquare/src\n"
     ]
    }
   ],
   "source": [
    "cd ../src"
   ]
  },
  {
   "cell_type": "code",
   "execution_count": 3,
   "metadata": {},
   "outputs": [
    {
     "data": {
      "application/javascript": [
       "\n",
       "            setTimeout(function() {\n",
       "                var nbb_cell_id = 3;\n",
       "                var nbb_unformatted_code = \"%load_ext nb_black\";\n",
       "                var nbb_formatted_code = \"%load_ext nb_black\";\n",
       "                var nbb_cells = Jupyter.notebook.get_cells();\n",
       "                for (var i = 0; i < nbb_cells.length; ++i) {\n",
       "                    if (nbb_cells[i].input_prompt_number == nbb_cell_id) {\n",
       "                        if (nbb_cells[i].get_text() == nbb_unformatted_code) {\n",
       "                             nbb_cells[i].set_text(nbb_formatted_code);\n",
       "                        }\n",
       "                        break;\n",
       "                    }\n",
       "                }\n",
       "            }, 500);\n",
       "            "
      ],
      "text/plain": [
       "<IPython.core.display.Javascript object>"
      ]
     },
     "metadata": {},
     "output_type": "display_data"
    }
   ],
   "source": [
    "%load_ext nb_black"
   ]
  },
  {
   "cell_type": "markdown",
   "metadata": {
    "papermill": {
     "duration": 0.113095,
     "end_time": "2022-06-20T12:41:41.215410",
     "exception": false,
     "start_time": "2022-06-20T12:41:41.102315",
     "status": "completed"
    },
    "tags": []
   },
   "source": [
    "# **Librairies**"
   ]
  },
  {
   "cell_type": "code",
   "execution_count": 4,
   "metadata": {},
   "outputs": [
    {
     "data": {
      "text/plain": [
       "'NVIDIA GeForce RTX 2080 Ti'"
      ]
     },
     "execution_count": 4,
     "metadata": {},
     "output_type": "execute_result"
    },
    {
     "data": {
      "application/javascript": [
       "\n",
       "            setTimeout(function() {\n",
       "                var nbb_cell_id = 4;\n",
       "                var nbb_unformatted_code = \"import os\\n\\nos.environ[\\\"CUDA_VISIBLE_DEVICES\\\"] = \\\"1\\\"\\n\\nimport torch\\n\\ntorch.cuda.get_device_name(0)\";\n",
       "                var nbb_formatted_code = \"import os\\n\\nos.environ[\\\"CUDA_VISIBLE_DEVICES\\\"] = \\\"1\\\"\\n\\nimport torch\\n\\ntorch.cuda.get_device_name(0)\";\n",
       "                var nbb_cells = Jupyter.notebook.get_cells();\n",
       "                for (var i = 0; i < nbb_cells.length; ++i) {\n",
       "                    if (nbb_cells[i].input_prompt_number == nbb_cell_id) {\n",
       "                        if (nbb_cells[i].get_text() == nbb_unformatted_code) {\n",
       "                             nbb_cells[i].set_text(nbb_formatted_code);\n",
       "                        }\n",
       "                        break;\n",
       "                    }\n",
       "                }\n",
       "            }, 500);\n",
       "            "
      ],
      "text/plain": [
       "<IPython.core.display.Javascript object>"
      ]
     },
     "metadata": {},
     "output_type": "display_data"
    }
   ],
   "source": [
    "import os\n",
    "\n",
    "os.environ[\"CUDA_VISIBLE_DEVICES\"] = \"1\"\n",
    "\n",
    "import torch\n",
    "\n",
    "torch.cuda.get_device_name(0)"
   ]
  },
  {
   "cell_type": "code",
   "execution_count": 5,
   "metadata": {
    "_cell_guid": "b1076dfc-b9ad-4769-8c92-a6c4dae69d19",
    "_uuid": "8f2839f25d086af736a60e9eeb907d3b93b6e0e5",
    "execution": {
     "iopub.execute_input": "2022-06-20T12:42:48.194197Z",
     "iopub.status.busy": "2022-06-20T12:42:48.193938Z",
     "iopub.status.idle": "2022-06-20T12:42:50.735561Z",
     "shell.execute_reply": "2022-06-20T12:42:50.734610Z"
    },
    "papermill": {
     "duration": 2.672311,
     "end_time": "2022-06-20T12:42:50.737847",
     "exception": false,
     "start_time": "2022-06-20T12:42:48.065536",
     "status": "completed"
    },
    "tags": []
   },
   "outputs": [
    {
     "name": "stdout",
     "output_type": "stream",
     "text": [
      "INFO: Pandarallel will run on 12 workers.\n",
      "INFO: Pandarallel will use Memory file system to transfer data between the main process and workers.\n"
     ]
    },
    {
     "data": {
      "application/javascript": [
       "\n",
       "            setTimeout(function() {\n",
       "                var nbb_cell_id = 5;\n",
       "                var nbb_unformatted_code = \"import gc\\nimport cudf\\nimport random\\nimport warnings\\nimport numpy as np\\nimport pandas as pd\\nfrom tqdm.auto import tqdm\\nfrom pandarallel import pandarallel\\n\\nfrom params import DEBUG, OUT_PATH, IS_TEST\\nfrom ressources import *\\nfrom matching import *\\n\\nrandom.seed(13)\\nwarnings.simplefilter(\\\"ignore\\\")\\npd.options.display.max_columns = 500\\npandarallel.initialize(nb_workers=12, progress_bar=False)\";\n",
       "                var nbb_formatted_code = \"import gc\\nimport cudf\\nimport random\\nimport warnings\\nimport numpy as np\\nimport pandas as pd\\nfrom tqdm.auto import tqdm\\nfrom pandarallel import pandarallel\\n\\nfrom params import DEBUG, OUT_PATH, IS_TEST\\nfrom ressources import *\\nfrom matching import *\\n\\nrandom.seed(13)\\nwarnings.simplefilter(\\\"ignore\\\")\\npd.options.display.max_columns = 500\\npandarallel.initialize(nb_workers=12, progress_bar=False)\";\n",
       "                var nbb_cells = Jupyter.notebook.get_cells();\n",
       "                for (var i = 0; i < nbb_cells.length; ++i) {\n",
       "                    if (nbb_cells[i].input_prompt_number == nbb_cell_id) {\n",
       "                        if (nbb_cells[i].get_text() == nbb_unformatted_code) {\n",
       "                             nbb_cells[i].set_text(nbb_formatted_code);\n",
       "                        }\n",
       "                        break;\n",
       "                    }\n",
       "                }\n",
       "            }, 500);\n",
       "            "
      ],
      "text/plain": [
       "<IPython.core.display.Javascript object>"
      ]
     },
     "metadata": {},
     "output_type": "display_data"
    }
   ],
   "source": [
    "import gc\n",
    "import cudf\n",
    "import random\n",
    "import warnings\n",
    "import numpy as np\n",
    "import pandas as pd\n",
    "from tqdm.auto import tqdm\n",
    "from pandarallel import pandarallel\n",
    "\n",
    "from params import DEBUG, OUT_PATH, IS_TEST\n",
    "from ressources import *\n",
    "from matching import *\n",
    "\n",
    "random.seed(13)\n",
    "warnings.simplefilter(\"ignore\")\n",
    "pd.options.display.max_columns = 500\n",
    "pandarallel.initialize(nb_workers=12, progress_bar=False)"
   ]
  },
  {
   "cell_type": "markdown",
   "metadata": {
    "papermill": {
     "duration": 0.128224,
     "end_time": "2022-06-20T12:42:52.888296",
     "exception": false,
     "start_time": "2022-06-20T12:42:52.760072",
     "status": "completed"
    },
    "tags": []
   },
   "source": [
    "## Load Data"
   ]
  },
  {
   "cell_type": "code",
   "execution_count": 10,
   "metadata": {},
   "outputs": [
    {
     "data": {
      "application/javascript": [
       "\n",
       "            setTimeout(function() {\n",
       "                var nbb_cell_id = 10;\n",
       "                var nbb_unformatted_code = \"if IS_TEST:\\n    train = load_cleaned_data(OUT_PATH + \\\"cleaned_data_test.csv\\\")\\n    p1 = pd.read_csv(OUT_PATH + \\\"p1_yv_test.csv\\\")\\n    p2 = pd.read_csv(OUT_PATH + \\\"p2_yv_test.csv\\\")\\n\\n    SIZE_RATIO = 1\\nelse:\\n    train = load_cleaned_data(OUT_PATH + \\\"cleaned_data_train.csv\\\")\\n    p1 = pd.read_csv(OUT_PATH + \\\"p1_yv_train.csv\\\")\\n    p2 = pd.read_csv(OUT_PATH + \\\"p2_yv_train.csv\\\")\\n\\n    SIZE_RATIO = 1\";\n",
       "                var nbb_formatted_code = \"if IS_TEST:\\n    train = load_cleaned_data(OUT_PATH + \\\"cleaned_data_test.csv\\\")\\n    p1 = pd.read_csv(OUT_PATH + \\\"p1_yv_test.csv\\\")\\n    p2 = pd.read_csv(OUT_PATH + \\\"p2_yv_test.csv\\\")\\n\\n    SIZE_RATIO = 1\\nelse:\\n    train = load_cleaned_data(OUT_PATH + \\\"cleaned_data_train.csv\\\")\\n    p1 = pd.read_csv(OUT_PATH + \\\"p1_yv_train.csv\\\")\\n    p2 = pd.read_csv(OUT_PATH + \\\"p2_yv_train.csv\\\")\\n\\n    SIZE_RATIO = 1\";\n",
       "                var nbb_cells = Jupyter.notebook.get_cells();\n",
       "                for (var i = 0; i < nbb_cells.length; ++i) {\n",
       "                    if (nbb_cells[i].input_prompt_number == nbb_cell_id) {\n",
       "                        if (nbb_cells[i].get_text() == nbb_unformatted_code) {\n",
       "                             nbb_cells[i].set_text(nbb_formatted_code);\n",
       "                        }\n",
       "                        break;\n",
       "                    }\n",
       "                }\n",
       "            }, 500);\n",
       "            "
      ],
      "text/plain": [
       "<IPython.core.display.Javascript object>"
      ]
     },
     "metadata": {},
     "output_type": "display_data"
    }
   ],
   "source": [
    "if IS_TEST:\n",
    "    train = load_cleaned_data(OUT_PATH + \"cleaned_data_test.csv\")\n",
    "    p1 = pd.read_csv(OUT_PATH + \"p1_yv_test.csv\")\n",
    "    p2 = pd.read_csv(OUT_PATH + \"p2_yv_test.csv\")\n",
    "\n",
    "    SIZE_RATIO = 1\n",
    "else:\n",
    "    train = load_cleaned_data(OUT_PATH + \"cleaned_data_train.csv\")\n",
    "    p1 = pd.read_csv(OUT_PATH + \"p1_yv_train.csv\")\n",
    "    p2 = pd.read_csv(OUT_PATH + \"p2_yv_train.csv\")\n",
    "\n",
    "    SIZE_RATIO = 1"
   ]
  },
  {
   "cell_type": "code",
   "execution_count": 11,
   "metadata": {
    "scrolled": true
   },
   "outputs": [
    {
     "name": "stdout",
     "output_type": "stream",
     "text": [
      "\n",
      "Number of candidates : 28.3M\n",
      "Proportion of positive candidates: 2.50%\n",
      "Proportion of found matches: 97.85%\n",
      "\n"
     ]
    },
    {
     "data": {
      "application/javascript": [
       "\n",
       "            setTimeout(function() {\n",
       "                var nbb_cell_id = 11;\n",
       "                var nbb_unformatted_code = \"print_infos(p1, p2, 713788)\";\n",
       "                var nbb_formatted_code = \"print_infos(p1, p2, 713788)\";\n",
       "                var nbb_cells = Jupyter.notebook.get_cells();\n",
       "                for (var i = 0; i < nbb_cells.length; ++i) {\n",
       "                    if (nbb_cells[i].input_prompt_number == nbb_cell_id) {\n",
       "                        if (nbb_cells[i].get_text() == nbb_unformatted_code) {\n",
       "                             nbb_cells[i].set_text(nbb_formatted_code);\n",
       "                        }\n",
       "                        break;\n",
       "                    }\n",
       "                }\n",
       "            }, 500);\n",
       "            "
      ],
      "text/plain": [
       "<IPython.core.display.Javascript object>"
      ]
     },
     "metadata": {},
     "output_type": "display_data"
    }
   ],
   "source": [
    "print_infos(p1, p2, 713788)"
   ]
  },
  {
   "cell_type": "code",
   "execution_count": 12,
   "metadata": {},
   "outputs": [
    {
     "name": "stdout",
     "output_type": "stream",
     "text": [
      "- Highest reachable IoU : 0.9898\n"
     ]
    },
    {
     "data": {
      "application/javascript": [
       "\n",
       "            setTimeout(function() {\n",
       "                var nbb_cell_id = 12;\n",
       "                var nbb_unformatted_code = \"get_CV(\\n    p1,\\n    p2,\\n    np.array(p1[\\\"point_of_interest\\\"] == p2[\\\"point_of_interest\\\"]).astype(np.int8),\\n    np.array(p1[\\\"point_of_interest\\\"] == p2[\\\"point_of_interest\\\"]).astype(np.int8),\\n    train,\\n)\";\n",
       "                var nbb_formatted_code = \"get_CV(\\n    p1,\\n    p2,\\n    np.array(p1[\\\"point_of_interest\\\"] == p2[\\\"point_of_interest\\\"]).astype(np.int8),\\n    np.array(p1[\\\"point_of_interest\\\"] == p2[\\\"point_of_interest\\\"]).astype(np.int8),\\n    train,\\n)\";\n",
       "                var nbb_cells = Jupyter.notebook.get_cells();\n",
       "                for (var i = 0; i < nbb_cells.length; ++i) {\n",
       "                    if (nbb_cells[i].input_prompt_number == nbb_cell_id) {\n",
       "                        if (nbb_cells[i].get_text() == nbb_unformatted_code) {\n",
       "                             nbb_cells[i].set_text(nbb_formatted_code);\n",
       "                        }\n",
       "                        break;\n",
       "                    }\n",
       "                }\n",
       "            }, 500);\n",
       "            "
      ],
      "text/plain": [
       "<IPython.core.display.Javascript object>"
      ]
     },
     "metadata": {},
     "output_type": "display_data"
    }
   ],
   "source": [
    "get_CV(\n",
    "    p1,\n",
    "    p2,\n",
    "    np.array(p1[\"point_of_interest\"] == p2[\"point_of_interest\"]).astype(np.int8),\n",
    "    np.array(p1[\"point_of_interest\"] == p2[\"point_of_interest\"]).astype(np.int8),\n",
    "    train,\n",
    ")"
   ]
  },
  {
   "cell_type": "code",
   "execution_count": 7,
   "metadata": {},
   "outputs": [
    {
     "data": {
      "application/javascript": [
       "\n",
       "            setTimeout(function() {\n",
       "                var nbb_cell_id = 7;\n",
       "                var nbb_unformatted_code = \"DEBUG = False\";\n",
       "                var nbb_formatted_code = \"DEBUG = False\";\n",
       "                var nbb_cells = Jupyter.notebook.get_cells();\n",
       "                for (var i = 0; i < nbb_cells.length; ++i) {\n",
       "                    if (nbb_cells[i].input_prompt_number == nbb_cell_id) {\n",
       "                        if (nbb_cells[i].get_text() == nbb_unformatted_code) {\n",
       "                             nbb_cells[i].set_text(nbb_formatted_code);\n",
       "                        }\n",
       "                        break;\n",
       "                    }\n",
       "                }\n",
       "            }, 500);\n",
       "            "
      ],
      "text/plain": [
       "<IPython.core.display.Javascript object>"
      ]
     },
     "metadata": {},
     "output_type": "display_data"
    }
   ],
   "source": [
    "DEBUG = True"
   ]
  },
  {
   "cell_type": "code",
   "execution_count": 8,
   "metadata": {},
   "outputs": [
    {
     "data": {
      "application/javascript": [
       "\n",
       "            setTimeout(function() {\n",
       "                var nbb_cell_id = 8;\n",
       "                var nbb_unformatted_code = \"if DEBUG:\\n    p1 = p1.head(1000000).copy()\\n    p2 = p2.head(1000000).copy()\";\n",
       "                var nbb_formatted_code = \"if DEBUG:\\n    p1 = p1.head(1000000).copy()\\n    p2 = p2.head(1000000).copy()\";\n",
       "                var nbb_cells = Jupyter.notebook.get_cells();\n",
       "                for (var i = 0; i < nbb_cells.length; ++i) {\n",
       "                    if (nbb_cells[i].input_prompt_number == nbb_cell_id) {\n",
       "                        if (nbb_cells[i].get_text() == nbb_unformatted_code) {\n",
       "                             nbb_cells[i].set_text(nbb_formatted_code);\n",
       "                        }\n",
       "                        break;\n",
       "                    }\n",
       "                }\n",
       "            }, 500);\n",
       "            "
      ],
      "text/plain": [
       "<IPython.core.display.Javascript object>"
      ]
     },
     "metadata": {},
     "output_type": "display_data"
    }
   ],
   "source": [
    "if DEBUG:\n",
    "    p1 = p1.head(1000000).copy()\n",
    "    p2 = p2.head(1000000).copy()"
   ]
  },
  {
   "cell_type": "markdown",
   "metadata": {},
   "source": [
    "### Prepare"
   ]
  },
  {
   "cell_type": "code",
   "execution_count": 9,
   "metadata": {},
   "outputs": [
    {
     "data": {
      "application/javascript": [
       "\n",
       "            setTimeout(function() {\n",
       "                var nbb_cell_id = 9;\n",
       "                var nbb_unformatted_code = \"train[\\\"idx\\\"] = np.arange(len(train))\";\n",
       "                var nbb_formatted_code = \"train[\\\"idx\\\"] = np.arange(len(train))\";\n",
       "                var nbb_cells = Jupyter.notebook.get_cells();\n",
       "                for (var i = 0; i < nbb_cells.length; ++i) {\n",
       "                    if (nbb_cells[i].input_prompt_number == nbb_cell_id) {\n",
       "                        if (nbb_cells[i].get_text() == nbb_unformatted_code) {\n",
       "                             nbb_cells[i].set_text(nbb_formatted_code);\n",
       "                        }\n",
       "                        break;\n",
       "                    }\n",
       "                }\n",
       "            }, 500);\n",
       "            "
      ],
      "text/plain": [
       "<IPython.core.display.Javascript object>"
      ]
     },
     "metadata": {},
     "output_type": "display_data"
    }
   ],
   "source": [
    "train[\"idx\"] = np.arange(len(train))"
   ]
  },
  {
   "cell_type": "code",
   "execution_count": 10,
   "metadata": {
    "scrolled": false
   },
   "outputs": [
    {
     "data": {
      "application/javascript": [
       "\n",
       "            setTimeout(function() {\n",
       "                var nbb_cell_id = 10;\n",
       "                var nbb_unformatted_code = \"# add other columns - needed for FE\\ncols = [\\n    \\\"id\\\",\\n    \\\"name\\\",\\n    \\\"latitude\\\",\\n    \\\"longitude\\\",\\n    \\\"address\\\",\\n    \\\"country\\\",\\n    \\\"url\\\",\\n    \\\"phone\\\",\\n    \\\"city\\\",\\n    \\\"categories\\\",\\n    \\\"category_simpl\\\",\\n    \\\"categories_split\\\",\\n    \\\"cat2\\\",\\n    \\\"idx\\\",\\n    \\\"state\\\",\\n    \\\"zip\\\",\\n]\\np1 = p1[[\\\"id\\\"]].merge(train[cols], on=\\\"id\\\", how=\\\"left\\\")\\np2 = p2[[\\\"id\\\"]].merge(train[cols], on=\\\"id\\\", how=\\\"left\\\")\";\n",
       "                var nbb_formatted_code = \"# add other columns - needed for FE\\ncols = [\\n    \\\"id\\\",\\n    \\\"name\\\",\\n    \\\"latitude\\\",\\n    \\\"longitude\\\",\\n    \\\"address\\\",\\n    \\\"country\\\",\\n    \\\"url\\\",\\n    \\\"phone\\\",\\n    \\\"city\\\",\\n    \\\"categories\\\",\\n    \\\"category_simpl\\\",\\n    \\\"categories_split\\\",\\n    \\\"cat2\\\",\\n    \\\"idx\\\",\\n    \\\"state\\\",\\n    \\\"zip\\\",\\n]\\np1 = p1[[\\\"id\\\"]].merge(train[cols], on=\\\"id\\\", how=\\\"left\\\")\\np2 = p2[[\\\"id\\\"]].merge(train[cols], on=\\\"id\\\", how=\\\"left\\\")\";\n",
       "                var nbb_cells = Jupyter.notebook.get_cells();\n",
       "                for (var i = 0; i < nbb_cells.length; ++i) {\n",
       "                    if (nbb_cells[i].input_prompt_number == nbb_cell_id) {\n",
       "                        if (nbb_cells[i].get_text() == nbb_unformatted_code) {\n",
       "                             nbb_cells[i].set_text(nbb_formatted_code);\n",
       "                        }\n",
       "                        break;\n",
       "                    }\n",
       "                }\n",
       "            }, 500);\n",
       "            "
      ],
      "text/plain": [
       "<IPython.core.display.Javascript object>"
      ]
     },
     "metadata": {},
     "output_type": "display_data"
    }
   ],
   "source": [
    "# add other columns - needed for FE\n",
    "cols = [\n",
    "    \"id\",\n",
    "    \"name\",\n",
    "    \"latitude\",\n",
    "    \"longitude\",\n",
    "    \"address\",\n",
    "    \"country\",\n",
    "    \"url\",\n",
    "    \"phone\",\n",
    "    \"city\",\n",
    "    \"categories\",\n",
    "    \"category_simpl\",\n",
    "    \"categories_split\",\n",
    "    \"cat2\",\n",
    "    \"idx\",\n",
    "    \"state\",\n",
    "    \"zip\",\n",
    "]\n",
    "p1 = p1[[\"id\"]].merge(train[cols], on=\"id\", how=\"left\")\n",
    "p2 = p2[[\"id\"]].merge(train[cols], on=\"id\", how=\"left\")"
   ]
  },
  {
   "cell_type": "code",
   "execution_count": 11,
   "metadata": {},
   "outputs": [
    {
     "name": "stdout",
     "output_type": "stream",
     "text": [
      "flipped sign of longitude for 1 points\n"
     ]
    },
    {
     "data": {
      "text/plain": [
       "4470"
      ]
     },
     "execution_count": 11,
     "metadata": {},
     "output_type": "execute_result"
    },
    {
     "data": {
      "application/javascript": [
       "\n",
       "            setTimeout(function() {\n",
       "                var nbb_cell_id = 11;\n",
       "                var nbb_unformatted_code = \"# check for flipped sign on longitude - this may help test data a lot; test it? Move this code up to apply to \\\"train\\\"\\ndist = distance(\\n    np.array(p1[\\\"latitude\\\"]),\\n    np.array(p1[\\\"longitude\\\"]),\\n    np.array(p2[\\\"latitude\\\"]),\\n    np.array(p2[\\\"longitude\\\"]),\\n)\\ndf = pd.DataFrame(dist)\\ndf.columns = [\\\"dist\\\"]\\ndf[\\\"dist\\\"] = df[\\\"dist\\\"].astype(\\\"int32\\\")\\ndf[\\\"dist1\\\"] = (111173.444444444 * np.abs(p1[\\\"latitude\\\"] - p2[\\\"latitude\\\"])).astype(\\n    \\\"int32\\\"\\n)\\ndf[\\\"dist2\\\"] = np.sqrt(np.maximum(0, (1.0 * df[\\\"dist\\\"]) ** 2 - df[\\\"dist1\\\"] ** 2)).astype(\\n    \\\"int32\\\"\\n)\\nidx = (\\n    (df[\\\"dist1\\\"] < 10000)\\n    & (df[\\\"dist2\\\"] > 1000000)\\n    & (np.abs(p1[\\\"longitude\\\"] + p2[\\\"longitude\\\"]) < 0.1)\\n) & (p1[\\\"country\\\"] == p2[\\\"country\\\"])\\n# this selects only 3 cases in train data, but possibly more in test, so keep it becasue it is basically free\\nprint(\\\"flipped sign of longitude for\\\", idx.sum(), \\\"points\\\")\\np1[\\\"longitude\\\"].loc[idx] *= -1  # flip(correct) sign\\ndel df, idx, dist\\ngc.collect()\";\n",
       "                var nbb_formatted_code = \"# check for flipped sign on longitude - this may help test data a lot; test it? Move this code up to apply to \\\"train\\\"\\ndist = distance(\\n    np.array(p1[\\\"latitude\\\"]),\\n    np.array(p1[\\\"longitude\\\"]),\\n    np.array(p2[\\\"latitude\\\"]),\\n    np.array(p2[\\\"longitude\\\"]),\\n)\\ndf = pd.DataFrame(dist)\\ndf.columns = [\\\"dist\\\"]\\ndf[\\\"dist\\\"] = df[\\\"dist\\\"].astype(\\\"int32\\\")\\ndf[\\\"dist1\\\"] = (111173.444444444 * np.abs(p1[\\\"latitude\\\"] - p2[\\\"latitude\\\"])).astype(\\n    \\\"int32\\\"\\n)\\ndf[\\\"dist2\\\"] = np.sqrt(np.maximum(0, (1.0 * df[\\\"dist\\\"]) ** 2 - df[\\\"dist1\\\"] ** 2)).astype(\\n    \\\"int32\\\"\\n)\\nidx = (\\n    (df[\\\"dist1\\\"] < 10000)\\n    & (df[\\\"dist2\\\"] > 1000000)\\n    & (np.abs(p1[\\\"longitude\\\"] + p2[\\\"longitude\\\"]) < 0.1)\\n) & (p1[\\\"country\\\"] == p2[\\\"country\\\"])\\n# this selects only 3 cases in train data, but possibly more in test, so keep it becasue it is basically free\\nprint(\\\"flipped sign of longitude for\\\", idx.sum(), \\\"points\\\")\\np1[\\\"longitude\\\"].loc[idx] *= -1  # flip(correct) sign\\ndel df, idx, dist\\ngc.collect()\";\n",
       "                var nbb_cells = Jupyter.notebook.get_cells();\n",
       "                for (var i = 0; i < nbb_cells.length; ++i) {\n",
       "                    if (nbb_cells[i].input_prompt_number == nbb_cell_id) {\n",
       "                        if (nbb_cells[i].get_text() == nbb_unformatted_code) {\n",
       "                             nbb_cells[i].set_text(nbb_formatted_code);\n",
       "                        }\n",
       "                        break;\n",
       "                    }\n",
       "                }\n",
       "            }, 500);\n",
       "            "
      ],
      "text/plain": [
       "<IPython.core.display.Javascript object>"
      ]
     },
     "metadata": {},
     "output_type": "display_data"
    }
   ],
   "source": [
    "# check for flipped sign on longitude - this may help test data a lot; test it? Move this code up to apply to \"train\"\n",
    "dist = distance(\n",
    "    np.array(p1[\"latitude\"]),\n",
    "    np.array(p1[\"longitude\"]),\n",
    "    np.array(p2[\"latitude\"]),\n",
    "    np.array(p2[\"longitude\"]),\n",
    ")\n",
    "df = pd.DataFrame(dist)\n",
    "df.columns = [\"dist\"]\n",
    "df[\"dist\"] = df[\"dist\"].astype(\"int32\")\n",
    "df[\"dist1\"] = (111173.444444444 * np.abs(p1[\"latitude\"] - p2[\"latitude\"])).astype(\n",
    "    \"int32\"\n",
    ")\n",
    "df[\"dist2\"] = np.sqrt(np.maximum(0, (1.0 * df[\"dist\"]) ** 2 - df[\"dist1\"] ** 2)).astype(\n",
    "    \"int32\"\n",
    ")\n",
    "idx = (\n",
    "    (df[\"dist1\"] < 10000)\n",
    "    & (df[\"dist2\"] > 1000000)\n",
    "    & (np.abs(p1[\"longitude\"] + p2[\"longitude\"]) < 0.1)\n",
    ") & (p1[\"country\"] == p2[\"country\"])\n",
    "# this selects only 3 cases in train data, but possibly more in test, so keep it becasue it is basically free\n",
    "print(\"flipped sign of longitude for\", idx.sum(), \"points\")\n",
    "p1[\"longitude\"].loc[idx] *= -1  # flip(correct) sign\n",
    "del df, idx, dist\n",
    "gc.collect()"
   ]
  },
  {
   "cell_type": "code",
   "execution_count": null,
   "metadata": {},
   "outputs": [],
   "source": [
    "# df_merged = feature_engineering_1(p1, p2, train, ressources_path=RESSOURCES_PATH)"
   ]
  },
  {
   "cell_type": "markdown",
   "metadata": {},
   "source": [
    "### Youri & Vincent"
   ]
  },
  {
   "cell_type": "code",
   "execution_count": 12,
   "metadata": {},
   "outputs": [
    {
     "data": {
      "application/javascript": [
       "\n",
       "            setTimeout(function() {\n",
       "                var nbb_cell_id = 12;\n",
       "                var nbb_unformatted_code = \"from fe import FE1\";\n",
       "                var nbb_formatted_code = \"from fe import FE1\";\n",
       "                var nbb_cells = Jupyter.notebook.get_cells();\n",
       "                for (var i = 0; i < nbb_cells.length; ++i) {\n",
       "                    if (nbb_cells[i].input_prompt_number == nbb_cell_id) {\n",
       "                        if (nbb_cells[i].get_text() == nbb_unformatted_code) {\n",
       "                             nbb_cells[i].set_text(nbb_formatted_code);\n",
       "                        }\n",
       "                        break;\n",
       "                    }\n",
       "                }\n",
       "            }, 500);\n",
       "            "
      ],
      "text/plain": [
       "<IPython.core.display.Javascript object>"
      ]
     },
     "metadata": {},
     "output_type": "display_data"
    }
   ],
   "source": [
    "from fe import FE1"
   ]
  },
  {
   "cell_type": "code",
   "execution_count": 13,
   "metadata": {
    "scrolled": false
   },
   "outputs": [
    {
     "name": "stdout",
     "output_type": "stream",
     "text": [
      "- Distances\n",
      "- Features for column : name\n",
      "- Features for column : categories\n",
      "- Features for column : address\n",
      "- Nan features\n",
      "- Matching\n",
      "- Category match\n",
      "- Ratios\n",
      "- Count encodings\n",
      "CPU times: user 13min 59s, sys: 14.9 s, total: 14min 14s\n",
      "Wall time: 14min 12s\n"
     ]
    },
    {
     "data": {
      "application/javascript": [
       "\n",
       "            setTimeout(function() {\n",
       "                var nbb_cell_id = 13;\n",
       "                var nbb_unformatted_code = \"%%time\\ndf = FE1(p1, p2) # call FE1\";\n",
       "                var nbb_formatted_code = \"%%time\\ndf = FE1(p1, p2) # call FE1\";\n",
       "                var nbb_cells = Jupyter.notebook.get_cells();\n",
       "                for (var i = 0; i < nbb_cells.length; ++i) {\n",
       "                    if (nbb_cells[i].input_prompt_number == nbb_cell_id) {\n",
       "                        if (nbb_cells[i].get_text() == nbb_unformatted_code) {\n",
       "                             nbb_cells[i].set_text(nbb_formatted_code);\n",
       "                        }\n",
       "                        break;\n",
       "                    }\n",
       "                }\n",
       "            }, 500);\n",
       "            "
      ],
      "text/plain": [
       "<IPython.core.display.Javascript object>"
      ]
     },
     "metadata": {},
     "output_type": "display_data"
    }
   ],
   "source": [
    "%%time\n",
    "df = FE1(p1, p2)"
   ]
  },
  {
   "cell_type": "code",
   "execution_count": 14,
   "metadata": {},
   "outputs": [
    {
     "data": {
      "application/javascript": [
       "\n",
       "            setTimeout(function() {\n",
       "                var nbb_cell_id = 14;\n",
       "                var nbb_unformatted_code = \"df.insert(0, \\\"id_1\\\", p1[\\\"id\\\"].values)\\ndf.insert(1, \\\"id_2\\\", p2[\\\"id\\\"].values)\";\n",
       "                var nbb_formatted_code = \"df.insert(0, \\\"id_1\\\", p1[\\\"id\\\"].values)\\ndf.insert(1, \\\"id_2\\\", p2[\\\"id\\\"].values)\";\n",
       "                var nbb_cells = Jupyter.notebook.get_cells();\n",
       "                for (var i = 0; i < nbb_cells.length; ++i) {\n",
       "                    if (nbb_cells[i].input_prompt_number == nbb_cell_id) {\n",
       "                        if (nbb_cells[i].get_text() == nbb_unformatted_code) {\n",
       "                             nbb_cells[i].set_text(nbb_formatted_code);\n",
       "                        }\n",
       "                        break;\n",
       "                    }\n",
       "                }\n",
       "            }, 500);\n",
       "            "
      ],
      "text/plain": [
       "<IPython.core.display.Javascript object>"
      ]
     },
     "metadata": {},
     "output_type": "display_data"
    }
   ],
   "source": [
    "df.insert(0, \"id_1\", p1[\"id\"].values)\n",
    "df.insert(1, \"id_2\", p2[\"id\"].values)"
   ]
  },
  {
   "cell_type": "code",
   "execution_count": 15,
   "metadata": {},
   "outputs": [
    {
     "data": {
      "text/html": [
       "<div>\n",
       "<style scoped>\n",
       "    .dataframe tbody tr th:only-of-type {\n",
       "        vertical-align: middle;\n",
       "    }\n",
       "\n",
       "    .dataframe tbody tr th {\n",
       "        vertical-align: top;\n",
       "    }\n",
       "\n",
       "    .dataframe thead th {\n",
       "        text-align: right;\n",
       "    }\n",
       "</style>\n",
       "<table border=\"1\" class=\"dataframe\">\n",
       "  <thead>\n",
       "    <tr style=\"text-align: right;\">\n",
       "      <th></th>\n",
       "      <th>id_1</th>\n",
       "      <th>id_2</th>\n",
       "      <th>dist</th>\n",
       "      <th>dist1</th>\n",
       "      <th>dist2</th>\n",
       "      <th>country</th>\n",
       "      <th>cat2a</th>\n",
       "      <th>cat2b</th>\n",
       "      <th>name_pi1</th>\n",
       "      <th>name_lcs2</th>\n",
       "      <th>name_lcs</th>\n",
       "      <th>name_pi1_r1</th>\n",
       "      <th>name_lcs2_r1</th>\n",
       "      <th>name_lcs2_r2</th>\n",
       "      <th>name_lcs_r1</th>\n",
       "      <th>name_lcs_r2</th>\n",
       "      <th>name_r3</th>\n",
       "      <th>name_lcs_r4</th>\n",
       "      <th>categories_pi1</th>\n",
       "      <th>categories_lcs2</th>\n",
       "      <th>categories_lcs</th>\n",
       "      <th>categories_pi1_r1</th>\n",
       "      <th>categories_lcs2_r1</th>\n",
       "      <th>categories_lcs2_r2</th>\n",
       "      <th>categories_lcs_r1</th>\n",
       "      <th>categories_lcs_r2</th>\n",
       "      <th>categories_r3</th>\n",
       "      <th>categories_lcs_r4</th>\n",
       "      <th>address_pi1</th>\n",
       "      <th>address_lcs2</th>\n",
       "      <th>address_lcs</th>\n",
       "      <th>address_pi1_r1</th>\n",
       "      <th>address_lcs2_r1</th>\n",
       "      <th>address_lcs2_r2</th>\n",
       "      <th>address_lcs_r1</th>\n",
       "      <th>address_lcs_r2</th>\n",
       "      <th>address_r3</th>\n",
       "      <th>address_lcs_r4</th>\n",
       "      <th>city_NA</th>\n",
       "      <th>address_NA</th>\n",
       "      <th>phone_m10</th>\n",
       "      <th>url_m5</th>\n",
       "      <th>same_cat_simpl</th>\n",
       "      <th>dist_r1</th>\n",
       "      <th>dist_r2</th>\n",
       "      <th>id_cc_min</th>\n",
       "      <th>id_cc_max</th>\n",
       "      <th>name_cc_min</th>\n",
       "      <th>name_cc_max</th>\n",
       "    </tr>\n",
       "  </thead>\n",
       "  <tbody>\n",
       "    <tr>\n",
       "      <th>0</th>\n",
       "      <td>E_000001272c6c5d</td>\n",
       "      <td>E_00f3e03e4a63da</td>\n",
       "      <td>36320</td>\n",
       "      <td>4910</td>\n",
       "      <td>36320</td>\n",
       "      <td>11</td>\n",
       "      <td>1</td>\n",
       "      <td>1</td>\n",
       "      <td>4</td>\n",
       "      <td>4</td>\n",
       "      <td>8</td>\n",
       "      <td>0.31</td>\n",
       "      <td>0.31</td>\n",
       "      <td>0.22</td>\n",
       "      <td>0.62</td>\n",
       "      <td>0.44</td>\n",
       "      <td>0.72</td>\n",
       "      <td>0.50</td>\n",
       "      <td>4</td>\n",
       "      <td>4</td>\n",
       "      <td>4</td>\n",
       "      <td>1.0</td>\n",
       "      <td>1.00</td>\n",
       "      <td>1.00</td>\n",
       "      <td>1.00</td>\n",
       "      <td>1.00</td>\n",
       "      <td>1.00</td>\n",
       "      <td>1.00</td>\n",
       "      <td>1</td>\n",
       "      <td>2</td>\n",
       "      <td>3</td>\n",
       "      <td>0.09</td>\n",
       "      <td>0.18</td>\n",
       "      <td>0.12</td>\n",
       "      <td>0.27</td>\n",
       "      <td>0.18</td>\n",
       "      <td>0.65</td>\n",
       "      <td>0.67</td>\n",
       "      <td>0</td>\n",
       "      <td>0</td>\n",
       "      <td>0</td>\n",
       "      <td>0</td>\n",
       "      <td>1</td>\n",
       "      <td>600.845032</td>\n",
       "      <td>800.000000</td>\n",
       "      <td>54</td>\n",
       "      <td>80</td>\n",
       "      <td>80</td>\n",
       "      <td>109</td>\n",
       "    </tr>\n",
       "    <tr>\n",
       "      <th>1</th>\n",
       "      <td>E_02814090c4be3c</td>\n",
       "      <td>E_000001272c6c5d</td>\n",
       "      <td>18030</td>\n",
       "      <td>12090</td>\n",
       "      <td>13360</td>\n",
       "      <td>11</td>\n",
       "      <td>1</td>\n",
       "      <td>1</td>\n",
       "      <td>4</td>\n",
       "      <td>4</td>\n",
       "      <td>8</td>\n",
       "      <td>0.27</td>\n",
       "      <td>0.27</td>\n",
       "      <td>0.22</td>\n",
       "      <td>0.53</td>\n",
       "      <td>0.44</td>\n",
       "      <td>0.83</td>\n",
       "      <td>0.50</td>\n",
       "      <td>4</td>\n",
       "      <td>4</td>\n",
       "      <td>4</td>\n",
       "      <td>1.0</td>\n",
       "      <td>1.00</td>\n",
       "      <td>1.00</td>\n",
       "      <td>1.00</td>\n",
       "      <td>1.00</td>\n",
       "      <td>1.00</td>\n",
       "      <td>1.00</td>\n",
       "      <td>0</td>\n",
       "      <td>0</td>\n",
       "      <td>0</td>\n",
       "      <td>0.00</td>\n",
       "      <td>0.00</td>\n",
       "      <td>0.00</td>\n",
       "      <td>0.00</td>\n",
       "      <td>0.00</td>\n",
       "      <td>0.09</td>\n",
       "      <td>0.00</td>\n",
       "      <td>0</td>\n",
       "      <td>1</td>\n",
       "      <td>0</td>\n",
       "      <td>0</td>\n",
       "      <td>1</td>\n",
       "      <td>297.867401</td>\n",
       "      <td>444.857758</td>\n",
       "      <td>73</td>\n",
       "      <td>80</td>\n",
       "      <td>73</td>\n",
       "      <td>80</td>\n",
       "    </tr>\n",
       "    <tr>\n",
       "      <th>2</th>\n",
       "      <td>E_000001272c6c5d</td>\n",
       "      <td>E_051d16ff51c824</td>\n",
       "      <td>32860</td>\n",
       "      <td>2700</td>\n",
       "      <td>32860</td>\n",
       "      <td>11</td>\n",
       "      <td>1</td>\n",
       "      <td>1</td>\n",
       "      <td>0</td>\n",
       "      <td>1</td>\n",
       "      <td>2</td>\n",
       "      <td>0.00</td>\n",
       "      <td>0.10</td>\n",
       "      <td>0.06</td>\n",
       "      <td>0.20</td>\n",
       "      <td>0.11</td>\n",
       "      <td>0.56</td>\n",
       "      <td>0.50</td>\n",
       "      <td>0</td>\n",
       "      <td>1</td>\n",
       "      <td>3</td>\n",
       "      <td>0.0</td>\n",
       "      <td>0.25</td>\n",
       "      <td>0.04</td>\n",
       "      <td>0.75</td>\n",
       "      <td>0.12</td>\n",
       "      <td>0.16</td>\n",
       "      <td>0.33</td>\n",
       "      <td>11</td>\n",
       "      <td>11</td>\n",
       "      <td>11</td>\n",
       "      <td>1.00</td>\n",
       "      <td>1.00</td>\n",
       "      <td>0.50</td>\n",
       "      <td>1.00</td>\n",
       "      <td>0.50</td>\n",
       "      <td>0.50</td>\n",
       "      <td>1.00</td>\n",
       "      <td>0</td>\n",
       "      <td>0</td>\n",
       "      <td>0</td>\n",
       "      <td>0</td>\n",
       "      <td>0</td>\n",
       "      <td>543.571899</td>\n",
       "      <td>243.691925</td>\n",
       "      <td>36</td>\n",
       "      <td>80</td>\n",
       "      <td>66</td>\n",
       "      <td>80</td>\n",
       "    </tr>\n",
       "    <tr>\n",
       "      <th>3</th>\n",
       "      <td>E_0d580c719e7726</td>\n",
       "      <td>E_000001272c6c5d</td>\n",
       "      <td>18030</td>\n",
       "      <td>5430</td>\n",
       "      <td>18030</td>\n",
       "      <td>11</td>\n",
       "      <td>1</td>\n",
       "      <td>1</td>\n",
       "      <td>4</td>\n",
       "      <td>4</td>\n",
       "      <td>11</td>\n",
       "      <td>0.29</td>\n",
       "      <td>0.29</td>\n",
       "      <td>0.22</td>\n",
       "      <td>0.79</td>\n",
       "      <td>0.61</td>\n",
       "      <td>0.78</td>\n",
       "      <td>0.36</td>\n",
       "      <td>4</td>\n",
       "      <td>4</td>\n",
       "      <td>4</td>\n",
       "      <td>1.0</td>\n",
       "      <td>1.00</td>\n",
       "      <td>1.00</td>\n",
       "      <td>1.00</td>\n",
       "      <td>1.00</td>\n",
       "      <td>1.00</td>\n",
       "      <td>1.00</td>\n",
       "      <td>0</td>\n",
       "      <td>0</td>\n",
       "      <td>0</td>\n",
       "      <td>0.00</td>\n",
       "      <td>0.00</td>\n",
       "      <td>0.00</td>\n",
       "      <td>0.00</td>\n",
       "      <td>0.00</td>\n",
       "      <td>0.09</td>\n",
       "      <td>0.00</td>\n",
       "      <td>1</td>\n",
       "      <td>1</td>\n",
       "      <td>0</td>\n",
       "      <td>0</td>\n",
       "      <td>1</td>\n",
       "      <td>297.867401</td>\n",
       "      <td>444.857758</td>\n",
       "      <td>80</td>\n",
       "      <td>109</td>\n",
       "      <td>80</td>\n",
       "      <td>109</td>\n",
       "    </tr>\n",
       "    <tr>\n",
       "      <th>4</th>\n",
       "      <td>E_0e7fa023e1b41f</td>\n",
       "      <td>E_000001272c6c5d</td>\n",
       "      <td>18030</td>\n",
       "      <td>4020</td>\n",
       "      <td>18030</td>\n",
       "      <td>11</td>\n",
       "      <td>1</td>\n",
       "      <td>1</td>\n",
       "      <td>4</td>\n",
       "      <td>4</td>\n",
       "      <td>5</td>\n",
       "      <td>0.44</td>\n",
       "      <td>0.44</td>\n",
       "      <td>0.22</td>\n",
       "      <td>0.56</td>\n",
       "      <td>0.28</td>\n",
       "      <td>0.50</td>\n",
       "      <td>0.80</td>\n",
       "      <td>4</td>\n",
       "      <td>4</td>\n",
       "      <td>4</td>\n",
       "      <td>1.0</td>\n",
       "      <td>1.00</td>\n",
       "      <td>1.00</td>\n",
       "      <td>1.00</td>\n",
       "      <td>1.00</td>\n",
       "      <td>1.00</td>\n",
       "      <td>1.00</td>\n",
       "      <td>0</td>\n",
       "      <td>1</td>\n",
       "      <td>3</td>\n",
       "      <td>0.00</td>\n",
       "      <td>0.09</td>\n",
       "      <td>0.06</td>\n",
       "      <td>0.27</td>\n",
       "      <td>0.18</td>\n",
       "      <td>0.65</td>\n",
       "      <td>0.33</td>\n",
       "      <td>0</td>\n",
       "      <td>0</td>\n",
       "      <td>0</td>\n",
       "      <td>0</td>\n",
       "      <td>1</td>\n",
       "      <td>297.867401</td>\n",
       "      <td>444.857758</td>\n",
       "      <td>66</td>\n",
       "      <td>80</td>\n",
       "      <td>80</td>\n",
       "      <td>133</td>\n",
       "    </tr>\n",
       "  </tbody>\n",
       "</table>\n",
       "</div>"
      ],
      "text/plain": [
       "               id_1              id_2   dist  dist1  dist2 country cat2a  \\\n",
       "0  E_000001272c6c5d  E_00f3e03e4a63da  36320   4910  36320      11     1   \n",
       "1  E_02814090c4be3c  E_000001272c6c5d  18030  12090  13360      11     1   \n",
       "2  E_000001272c6c5d  E_051d16ff51c824  32860   2700  32860      11     1   \n",
       "3  E_0d580c719e7726  E_000001272c6c5d  18030   5430  18030      11     1   \n",
       "4  E_0e7fa023e1b41f  E_000001272c6c5d  18030   4020  18030      11     1   \n",
       "\n",
       "  cat2b  name_pi1  name_lcs2  name_lcs  name_pi1_r1  name_lcs2_r1  \\\n",
       "0     1         4          4         8         0.31          0.31   \n",
       "1     1         4          4         8         0.27          0.27   \n",
       "2     1         0          1         2         0.00          0.10   \n",
       "3     1         4          4        11         0.29          0.29   \n",
       "4     1         4          4         5         0.44          0.44   \n",
       "\n",
       "   name_lcs2_r2  name_lcs_r1  name_lcs_r2  name_r3  name_lcs_r4  \\\n",
       "0          0.22         0.62         0.44     0.72         0.50   \n",
       "1          0.22         0.53         0.44     0.83         0.50   \n",
       "2          0.06         0.20         0.11     0.56         0.50   \n",
       "3          0.22         0.79         0.61     0.78         0.36   \n",
       "4          0.22         0.56         0.28     0.50         0.80   \n",
       "\n",
       "   categories_pi1  categories_lcs2  categories_lcs  categories_pi1_r1  \\\n",
       "0               4                4               4                1.0   \n",
       "1               4                4               4                1.0   \n",
       "2               0                1               3                0.0   \n",
       "3               4                4               4                1.0   \n",
       "4               4                4               4                1.0   \n",
       "\n",
       "   categories_lcs2_r1  categories_lcs2_r2  categories_lcs_r1  \\\n",
       "0                1.00                1.00               1.00   \n",
       "1                1.00                1.00               1.00   \n",
       "2                0.25                0.04               0.75   \n",
       "3                1.00                1.00               1.00   \n",
       "4                1.00                1.00               1.00   \n",
       "\n",
       "   categories_lcs_r2  categories_r3  categories_lcs_r4  address_pi1  \\\n",
       "0               1.00           1.00               1.00            1   \n",
       "1               1.00           1.00               1.00            0   \n",
       "2               0.12           0.16               0.33           11   \n",
       "3               1.00           1.00               1.00            0   \n",
       "4               1.00           1.00               1.00            0   \n",
       "\n",
       "   address_lcs2  address_lcs  address_pi1_r1  address_lcs2_r1  \\\n",
       "0             2            3            0.09             0.18   \n",
       "1             0            0            0.00             0.00   \n",
       "2            11           11            1.00             1.00   \n",
       "3             0            0            0.00             0.00   \n",
       "4             1            3            0.00             0.09   \n",
       "\n",
       "   address_lcs2_r2  address_lcs_r1  address_lcs_r2  address_r3  \\\n",
       "0             0.12            0.27            0.18        0.65   \n",
       "1             0.00            0.00            0.00        0.09   \n",
       "2             0.50            1.00            0.50        0.50   \n",
       "3             0.00            0.00            0.00        0.09   \n",
       "4             0.06            0.27            0.18        0.65   \n",
       "\n",
       "   address_lcs_r4  city_NA  address_NA  phone_m10  url_m5  same_cat_simpl  \\\n",
       "0            0.67        0           0          0       0               1   \n",
       "1            0.00        0           1          0       0               1   \n",
       "2            1.00        0           0          0       0               0   \n",
       "3            0.00        1           1          0       0               1   \n",
       "4            0.33        0           0          0       0               1   \n",
       "\n",
       "      dist_r1     dist_r2  id_cc_min  id_cc_max  name_cc_min  name_cc_max  \n",
       "0  600.845032  800.000000         54         80           80          109  \n",
       "1  297.867401  444.857758         73         80           73           80  \n",
       "2  543.571899  243.691925         36         80           66           80  \n",
       "3  297.867401  444.857758         80        109           80          109  \n",
       "4  297.867401  444.857758         66         80           80          133  "
      ]
     },
     "execution_count": 15,
     "metadata": {},
     "output_type": "execute_result"
    },
    {
     "data": {
      "application/javascript": [
       "\n",
       "            setTimeout(function() {\n",
       "                var nbb_cell_id = 15;\n",
       "                var nbb_unformatted_code = \"df.head()\";\n",
       "                var nbb_formatted_code = \"df.head()\";\n",
       "                var nbb_cells = Jupyter.notebook.get_cells();\n",
       "                for (var i = 0; i < nbb_cells.length; ++i) {\n",
       "                    if (nbb_cells[i].input_prompt_number == nbb_cell_id) {\n",
       "                        if (nbb_cells[i].get_text() == nbb_unformatted_code) {\n",
       "                             nbb_cells[i].set_text(nbb_formatted_code);\n",
       "                        }\n",
       "                        break;\n",
       "                    }\n",
       "                }\n",
       "            }, 500);\n",
       "            "
      ],
      "text/plain": [
       "<IPython.core.display.Javascript object>"
      ]
     },
     "metadata": {},
     "output_type": "display_data"
    }
   ],
   "source": [
    "df.head()"
   ]
  },
  {
   "cell_type": "markdown",
   "metadata": {},
   "source": [
    "### Théo"
   ]
  },
  {
   "cell_type": "code",
   "execution_count": 16,
   "metadata": {},
   "outputs": [
    {
     "data": {
      "application/javascript": [
       "\n",
       "            setTimeout(function() {\n",
       "                var nbb_cell_id = 16;\n",
       "                var nbb_unformatted_code = \"from fe_theo import feature_engineering_theo\";\n",
       "                var nbb_formatted_code = \"from fe_theo import feature_engineering_theo\";\n",
       "                var nbb_cells = Jupyter.notebook.get_cells();\n",
       "                for (var i = 0; i < nbb_cells.length; ++i) {\n",
       "                    if (nbb_cells[i].input_prompt_number == nbb_cell_id) {\n",
       "                        if (nbb_cells[i].get_text() == nbb_unformatted_code) {\n",
       "                             nbb_cells[i].set_text(nbb_formatted_code);\n",
       "                        }\n",
       "                        break;\n",
       "                    }\n",
       "                }\n",
       "            }, 500);\n",
       "            "
      ],
      "text/plain": [
       "<IPython.core.display.Javascript object>"
      ]
     },
     "metadata": {},
     "output_type": "display_data"
    }
   ],
   "source": [
    "from fe_theo import feature_engineering_theo"
   ]
  },
  {
   "cell_type": "code",
   "execution_count": 17,
   "metadata": {
    "scrolled": true
   },
   "outputs": [
    {
     "data": {
      "application/javascript": [
       "\n",
       "            setTimeout(function() {\n",
       "                var nbb_cell_id = 17;\n",
       "                var nbb_unformatted_code = \"cols = [\\n    \\\"id\\\",\\n    \\\"name\\\",\\n    \\\"latitude\\\",\\n    \\\"longitude\\\",\\n    \\\"address\\\",\\n    \\\"country\\\",\\n    \\\"url\\\",\\n    \\\"phone\\\",\\n    \\\"city\\\",\\n    \\\"state\\\",\\n    \\\"zip\\\",\\n    \\\"categories\\\",\\n    \\\"idx\\\",\\n]\\npairs = pd.concat([p1[cols], p2[cols]], axis=1)\\npairs.columns = [c + \\\"_1\\\" for c in cols] + [c + \\\"_2\\\" for c in cols]\";\n",
       "                var nbb_formatted_code = \"cols = [\\n    \\\"id\\\",\\n    \\\"name\\\",\\n    \\\"latitude\\\",\\n    \\\"longitude\\\",\\n    \\\"address\\\",\\n    \\\"country\\\",\\n    \\\"url\\\",\\n    \\\"phone\\\",\\n    \\\"city\\\",\\n    \\\"state\\\",\\n    \\\"zip\\\",\\n    \\\"categories\\\",\\n    \\\"idx\\\",\\n]\\npairs = pd.concat([p1[cols], p2[cols]], axis=1)\\npairs.columns = [c + \\\"_1\\\" for c in cols] + [c + \\\"_2\\\" for c in cols]\";\n",
       "                var nbb_cells = Jupyter.notebook.get_cells();\n",
       "                for (var i = 0; i < nbb_cells.length; ++i) {\n",
       "                    if (nbb_cells[i].input_prompt_number == nbb_cell_id) {\n",
       "                        if (nbb_cells[i].get_text() == nbb_unformatted_code) {\n",
       "                             nbb_cells[i].set_text(nbb_formatted_code);\n",
       "                        }\n",
       "                        break;\n",
       "                    }\n",
       "                }\n",
       "            }, 500);\n",
       "            "
      ],
      "text/plain": [
       "<IPython.core.display.Javascript object>"
      ]
     },
     "metadata": {},
     "output_type": "display_data"
    }
   ],
   "source": [
    "cols = [\n",
    "    \"id\",\n",
    "    \"name\",\n",
    "    \"latitude\",\n",
    "    \"longitude\",\n",
    "    \"address\",\n",
    "    \"country\",\n",
    "    \"url\",\n",
    "    \"phone\",\n",
    "    \"city\",\n",
    "    \"state\",\n",
    "    \"zip\",\n",
    "    \"categories\",\n",
    "    \"idx\",\n",
    "]\n",
    "pairs = pd.concat([p1[cols], p2[cols]], axis=1)\n",
    "pairs.columns = [c + \"_1\" for c in cols] + [c + \"_2\" for c in cols]"
   ]
  },
  {
   "cell_type": "code",
   "execution_count": 21,
   "metadata": {
    "scrolled": true
   },
   "outputs": [
    {
     "name": "stdout",
     "output_type": "stream",
     "text": [
      "- Computing position distances\n",
      "- Computing feature same_state\n",
      "- Computing feature same_zip\n",
      "- Computing feature same_city\n",
      "- Column : name  -  Function : levenshtein\n",
      "- Column : address  -  Function : levenshtein\n",
      "- Column : url  -  Function : levenshtein\n",
      "CPU times: user 1min 29s, sys: 29 s, total: 1min 58s\n",
      "Wall time: 3min 53s\n"
     ]
    },
    {
     "data": {
      "application/javascript": [
       "\n",
       "            setTimeout(function() {\n",
       "                var nbb_cell_id = 21;\n",
       "                var nbb_unformatted_code = \"%%time\\n\\ndf_theo, fts_theo = feature_engineering_theo(train.copy(), pairs)\";\n",
       "                var nbb_formatted_code = \"%%time\\n\\ndf_theo, fts_theo = feature_engineering_theo(train.copy(), pairs)\";\n",
       "                var nbb_cells = Jupyter.notebook.get_cells();\n",
       "                for (var i = 0; i < nbb_cells.length; ++i) {\n",
       "                    if (nbb_cells[i].input_prompt_number == nbb_cell_id) {\n",
       "                        if (nbb_cells[i].get_text() == nbb_unformatted_code) {\n",
       "                             nbb_cells[i].set_text(nbb_formatted_code);\n",
       "                        }\n",
       "                        break;\n",
       "                    }\n",
       "                }\n",
       "            }, 500);\n",
       "            "
      ],
      "text/plain": [
       "<IPython.core.display.Javascript object>"
      ]
     },
     "metadata": {},
     "output_type": "display_data"
    }
   ],
   "source": [
    "%%time\n",
    "\n",
    "df_theo, fts_theo = feature_engineering_theo(train.copy(), pairs)"
   ]
  },
  {
   "cell_type": "markdown",
   "metadata": {},
   "source": [
    "## Merge & Save"
   ]
  },
  {
   "cell_type": "code",
   "execution_count": 22,
   "metadata": {},
   "outputs": [
    {
     "data": {
      "application/javascript": [
       "\n",
       "            setTimeout(function() {\n",
       "                var nbb_cell_id = 22;\n",
       "                var nbb_unformatted_code = \"df_merged = df.merge(df_theo, on=[\\\"id_1\\\", \\\"id_2\\\"])\";\n",
       "                var nbb_formatted_code = \"df_merged = df.merge(df_theo, on=[\\\"id_1\\\", \\\"id_2\\\"])\";\n",
       "                var nbb_cells = Jupyter.notebook.get_cells();\n",
       "                for (var i = 0; i < nbb_cells.length; ++i) {\n",
       "                    if (nbb_cells[i].input_prompt_number == nbb_cell_id) {\n",
       "                        if (nbb_cells[i].get_text() == nbb_unformatted_code) {\n",
       "                             nbb_cells[i].set_text(nbb_formatted_code);\n",
       "                        }\n",
       "                        break;\n",
       "                    }\n",
       "                }\n",
       "            }, 500);\n",
       "            "
      ],
      "text/plain": [
       "<IPython.core.display.Javascript object>"
      ]
     },
     "metadata": {},
     "output_type": "display_data"
    }
   ],
   "source": [
    "df_merged = df.merge(df_theo, on=[\"id_1\", \"id_2\"])"
   ]
  },
  {
   "cell_type": "code",
   "execution_count": 23,
   "metadata": {
    "scrolled": true
   },
   "outputs": [
    {
     "data": {
      "text/html": [
       "<div>\n",
       "<style scoped>\n",
       "    .dataframe tbody tr th:only-of-type {\n",
       "        vertical-align: middle;\n",
       "    }\n",
       "\n",
       "    .dataframe tbody tr th {\n",
       "        vertical-align: top;\n",
       "    }\n",
       "\n",
       "    .dataframe thead th {\n",
       "        text-align: right;\n",
       "    }\n",
       "</style>\n",
       "<table border=\"1\" class=\"dataframe\">\n",
       "  <thead>\n",
       "    <tr style=\"text-align: right;\">\n",
       "      <th></th>\n",
       "      <th>id_1</th>\n",
       "      <th>id_2</th>\n",
       "      <th>dist</th>\n",
       "      <th>dist1</th>\n",
       "      <th>dist2</th>\n",
       "      <th>country</th>\n",
       "      <th>cat2a</th>\n",
       "      <th>cat2b</th>\n",
       "      <th>name_pi1</th>\n",
       "      <th>name_lcs2</th>\n",
       "      <th>name_lcs</th>\n",
       "      <th>name_pi1_r1</th>\n",
       "      <th>name_lcs2_r1</th>\n",
       "      <th>name_lcs2_r2</th>\n",
       "      <th>name_lcs_r1</th>\n",
       "      <th>name_lcs_r2</th>\n",
       "      <th>name_r3</th>\n",
       "      <th>name_lcs_r4</th>\n",
       "      <th>categories_pi1</th>\n",
       "      <th>categories_lcs2</th>\n",
       "      <th>categories_lcs</th>\n",
       "      <th>categories_pi1_r1</th>\n",
       "      <th>categories_lcs2_r1</th>\n",
       "      <th>categories_lcs2_r2</th>\n",
       "      <th>categories_lcs_r1</th>\n",
       "      <th>categories_lcs_r2</th>\n",
       "      <th>categories_r3</th>\n",
       "      <th>categories_lcs_r4</th>\n",
       "      <th>address_pi1</th>\n",
       "      <th>address_lcs2</th>\n",
       "      <th>address_lcs</th>\n",
       "      <th>address_pi1_r1</th>\n",
       "      <th>address_lcs2_r1</th>\n",
       "      <th>address_lcs2_r2</th>\n",
       "      <th>address_lcs_r1</th>\n",
       "      <th>address_lcs_r2</th>\n",
       "      <th>address_r3</th>\n",
       "      <th>address_lcs_r4</th>\n",
       "      <th>city_NA</th>\n",
       "      <th>address_NA</th>\n",
       "      <th>phone_m10</th>\n",
       "      <th>url_m5</th>\n",
       "      <th>same_cat_simpl</th>\n",
       "      <th>dist_r1</th>\n",
       "      <th>dist_r2</th>\n",
       "      <th>id_cc_min</th>\n",
       "      <th>id_cc_max</th>\n",
       "      <th>name_cc_min</th>\n",
       "      <th>name_cc_max</th>\n",
       "      <th>angular_distance_min</th>\n",
       "      <th>angular_distance_l2_min</th>\n",
       "      <th>same_state</th>\n",
       "      <th>same_zip</th>\n",
       "      <th>same_city</th>\n",
       "      <th>name_len_diff</th>\n",
       "      <th>name_levenshtein</th>\n",
       "      <th>address_len_diff</th>\n",
       "      <th>address_levenshtein</th>\n",
       "      <th>url_len_diff</th>\n",
       "      <th>url_levenshtein</th>\n",
       "    </tr>\n",
       "  </thead>\n",
       "  <tbody>\n",
       "    <tr>\n",
       "      <th>0</th>\n",
       "      <td>E_000001272c6c5d</td>\n",
       "      <td>E_00f3e03e4a63da</td>\n",
       "      <td>36320</td>\n",
       "      <td>4910</td>\n",
       "      <td>36320</td>\n",
       "      <td>11</td>\n",
       "      <td>1</td>\n",
       "      <td>1</td>\n",
       "      <td>4</td>\n",
       "      <td>4</td>\n",
       "      <td>8</td>\n",
       "      <td>0.31</td>\n",
       "      <td>0.31</td>\n",
       "      <td>0.22</td>\n",
       "      <td>0.62</td>\n",
       "      <td>0.44</td>\n",
       "      <td>0.72</td>\n",
       "      <td>0.50</td>\n",
       "      <td>4</td>\n",
       "      <td>4</td>\n",
       "      <td>4</td>\n",
       "      <td>1.0</td>\n",
       "      <td>1.00</td>\n",
       "      <td>1.00</td>\n",
       "      <td>1.00</td>\n",
       "      <td>1.00</td>\n",
       "      <td>1.00</td>\n",
       "      <td>1.00</td>\n",
       "      <td>1</td>\n",
       "      <td>2</td>\n",
       "      <td>3</td>\n",
       "      <td>0.09</td>\n",
       "      <td>0.18</td>\n",
       "      <td>0.12</td>\n",
       "      <td>0.27</td>\n",
       "      <td>0.18</td>\n",
       "      <td>0.65</td>\n",
       "      <td>0.67</td>\n",
       "      <td>0</td>\n",
       "      <td>0</td>\n",
       "      <td>0</td>\n",
       "      <td>0</td>\n",
       "      <td>1</td>\n",
       "      <td>600.845032</td>\n",
       "      <td>800.000000</td>\n",
       "      <td>54</td>\n",
       "      <td>80</td>\n",
       "      <td>80</td>\n",
       "      <td>109</td>\n",
       "      <td>0.935697</td>\n",
       "      <td>0.865765</td>\n",
       "      <td>NaN</td>\n",
       "      <td>NaN</td>\n",
       "      <td>0.0</td>\n",
       "      <td>5</td>\n",
       "      <td>0.611111</td>\n",
       "      <td>6</td>\n",
       "      <td>0.882353</td>\n",
       "      <td>0</td>\n",
       "      <td>NaN</td>\n",
       "    </tr>\n",
       "    <tr>\n",
       "      <th>1</th>\n",
       "      <td>E_02814090c4be3c</td>\n",
       "      <td>E_000001272c6c5d</td>\n",
       "      <td>18030</td>\n",
       "      <td>12090</td>\n",
       "      <td>13360</td>\n",
       "      <td>11</td>\n",
       "      <td>1</td>\n",
       "      <td>1</td>\n",
       "      <td>4</td>\n",
       "      <td>4</td>\n",
       "      <td>8</td>\n",
       "      <td>0.27</td>\n",
       "      <td>0.27</td>\n",
       "      <td>0.22</td>\n",
       "      <td>0.53</td>\n",
       "      <td>0.44</td>\n",
       "      <td>0.83</td>\n",
       "      <td>0.50</td>\n",
       "      <td>4</td>\n",
       "      <td>4</td>\n",
       "      <td>4</td>\n",
       "      <td>1.0</td>\n",
       "      <td>1.00</td>\n",
       "      <td>1.00</td>\n",
       "      <td>1.00</td>\n",
       "      <td>1.00</td>\n",
       "      <td>1.00</td>\n",
       "      <td>1.00</td>\n",
       "      <td>0</td>\n",
       "      <td>0</td>\n",
       "      <td>0</td>\n",
       "      <td>0.00</td>\n",
       "      <td>0.00</td>\n",
       "      <td>0.00</td>\n",
       "      <td>0.00</td>\n",
       "      <td>0.00</td>\n",
       "      <td>0.09</td>\n",
       "      <td>0.00</td>\n",
       "      <td>0</td>\n",
       "      <td>1</td>\n",
       "      <td>0</td>\n",
       "      <td>0</td>\n",
       "      <td>1</td>\n",
       "      <td>297.867401</td>\n",
       "      <td>444.857758</td>\n",
       "      <td>73</td>\n",
       "      <td>80</td>\n",
       "      <td>73</td>\n",
       "      <td>80</td>\n",
       "      <td>0.499047</td>\n",
       "      <td>0.363990</td>\n",
       "      <td>NaN</td>\n",
       "      <td>0.0</td>\n",
       "      <td>0.0</td>\n",
       "      <td>3</td>\n",
       "      <td>0.611111</td>\n",
       "      <td>11</td>\n",
       "      <td>NaN</td>\n",
       "      <td>0</td>\n",
       "      <td>NaN</td>\n",
       "    </tr>\n",
       "    <tr>\n",
       "      <th>2</th>\n",
       "      <td>E_000001272c6c5d</td>\n",
       "      <td>E_051d16ff51c824</td>\n",
       "      <td>32860</td>\n",
       "      <td>2700</td>\n",
       "      <td>32860</td>\n",
       "      <td>11</td>\n",
       "      <td>1</td>\n",
       "      <td>1</td>\n",
       "      <td>0</td>\n",
       "      <td>1</td>\n",
       "      <td>2</td>\n",
       "      <td>0.00</td>\n",
       "      <td>0.10</td>\n",
       "      <td>0.06</td>\n",
       "      <td>0.20</td>\n",
       "      <td>0.11</td>\n",
       "      <td>0.56</td>\n",
       "      <td>0.50</td>\n",
       "      <td>0</td>\n",
       "      <td>1</td>\n",
       "      <td>3</td>\n",
       "      <td>0.0</td>\n",
       "      <td>0.25</td>\n",
       "      <td>0.04</td>\n",
       "      <td>0.75</td>\n",
       "      <td>0.12</td>\n",
       "      <td>0.16</td>\n",
       "      <td>0.33</td>\n",
       "      <td>11</td>\n",
       "      <td>11</td>\n",
       "      <td>11</td>\n",
       "      <td>1.00</td>\n",
       "      <td>1.00</td>\n",
       "      <td>0.50</td>\n",
       "      <td>1.00</td>\n",
       "      <td>0.50</td>\n",
       "      <td>0.50</td>\n",
       "      <td>1.00</td>\n",
       "      <td>0</td>\n",
       "      <td>0</td>\n",
       "      <td>0</td>\n",
       "      <td>0</td>\n",
       "      <td>0</td>\n",
       "      <td>543.571899</td>\n",
       "      <td>243.691925</td>\n",
       "      <td>36</td>\n",
       "      <td>80</td>\n",
       "      <td>66</td>\n",
       "      <td>80</td>\n",
       "      <td>0.776170</td>\n",
       "      <td>0.736614</td>\n",
       "      <td>NaN</td>\n",
       "      <td>0.0</td>\n",
       "      <td>0.0</td>\n",
       "      <td>8</td>\n",
       "      <td>0.888889</td>\n",
       "      <td>11</td>\n",
       "      <td>0.500000</td>\n",
       "      <td>0</td>\n",
       "      <td>NaN</td>\n",
       "    </tr>\n",
       "    <tr>\n",
       "      <th>3</th>\n",
       "      <td>E_0d580c719e7726</td>\n",
       "      <td>E_000001272c6c5d</td>\n",
       "      <td>18030</td>\n",
       "      <td>5430</td>\n",
       "      <td>18030</td>\n",
       "      <td>11</td>\n",
       "      <td>1</td>\n",
       "      <td>1</td>\n",
       "      <td>4</td>\n",
       "      <td>4</td>\n",
       "      <td>11</td>\n",
       "      <td>0.29</td>\n",
       "      <td>0.29</td>\n",
       "      <td>0.22</td>\n",
       "      <td>0.79</td>\n",
       "      <td>0.61</td>\n",
       "      <td>0.78</td>\n",
       "      <td>0.36</td>\n",
       "      <td>4</td>\n",
       "      <td>4</td>\n",
       "      <td>4</td>\n",
       "      <td>1.0</td>\n",
       "      <td>1.00</td>\n",
       "      <td>1.00</td>\n",
       "      <td>1.00</td>\n",
       "      <td>1.00</td>\n",
       "      <td>1.00</td>\n",
       "      <td>1.00</td>\n",
       "      <td>0</td>\n",
       "      <td>0</td>\n",
       "      <td>0</td>\n",
       "      <td>0.00</td>\n",
       "      <td>0.00</td>\n",
       "      <td>0.00</td>\n",
       "      <td>0.00</td>\n",
       "      <td>0.00</td>\n",
       "      <td>0.09</td>\n",
       "      <td>0.00</td>\n",
       "      <td>1</td>\n",
       "      <td>1</td>\n",
       "      <td>0</td>\n",
       "      <td>0</td>\n",
       "      <td>1</td>\n",
       "      <td>297.867401</td>\n",
       "      <td>444.857758</td>\n",
       "      <td>80</td>\n",
       "      <td>109</td>\n",
       "      <td>80</td>\n",
       "      <td>109</td>\n",
       "      <td>0.483397</td>\n",
       "      <td>0.412613</td>\n",
       "      <td>NaN</td>\n",
       "      <td>NaN</td>\n",
       "      <td>NaN</td>\n",
       "      <td>4</td>\n",
       "      <td>0.500000</td>\n",
       "      <td>11</td>\n",
       "      <td>NaN</td>\n",
       "      <td>0</td>\n",
       "      <td>NaN</td>\n",
       "    </tr>\n",
       "    <tr>\n",
       "      <th>4</th>\n",
       "      <td>E_0e7fa023e1b41f</td>\n",
       "      <td>E_000001272c6c5d</td>\n",
       "      <td>18030</td>\n",
       "      <td>4020</td>\n",
       "      <td>18030</td>\n",
       "      <td>11</td>\n",
       "      <td>1</td>\n",
       "      <td>1</td>\n",
       "      <td>4</td>\n",
       "      <td>4</td>\n",
       "      <td>5</td>\n",
       "      <td>0.44</td>\n",
       "      <td>0.44</td>\n",
       "      <td>0.22</td>\n",
       "      <td>0.56</td>\n",
       "      <td>0.28</td>\n",
       "      <td>0.50</td>\n",
       "      <td>0.80</td>\n",
       "      <td>4</td>\n",
       "      <td>4</td>\n",
       "      <td>4</td>\n",
       "      <td>1.0</td>\n",
       "      <td>1.00</td>\n",
       "      <td>1.00</td>\n",
       "      <td>1.00</td>\n",
       "      <td>1.00</td>\n",
       "      <td>1.00</td>\n",
       "      <td>1.00</td>\n",
       "      <td>0</td>\n",
       "      <td>1</td>\n",
       "      <td>3</td>\n",
       "      <td>0.00</td>\n",
       "      <td>0.09</td>\n",
       "      <td>0.06</td>\n",
       "      <td>0.27</td>\n",
       "      <td>0.18</td>\n",
       "      <td>0.65</td>\n",
       "      <td>0.33</td>\n",
       "      <td>0</td>\n",
       "      <td>0</td>\n",
       "      <td>0</td>\n",
       "      <td>0</td>\n",
       "      <td>1</td>\n",
       "      <td>297.867401</td>\n",
       "      <td>444.857758</td>\n",
       "      <td>66</td>\n",
       "      <td>80</td>\n",
       "      <td>80</td>\n",
       "      <td>133</td>\n",
       "      <td>0.483910</td>\n",
       "      <td>0.427897</td>\n",
       "      <td>0.0</td>\n",
       "      <td>0.0</td>\n",
       "      <td>0.0</td>\n",
       "      <td>9</td>\n",
       "      <td>0.722222</td>\n",
       "      <td>6</td>\n",
       "      <td>0.823529</td>\n",
       "      <td>0</td>\n",
       "      <td>NaN</td>\n",
       "    </tr>\n",
       "  </tbody>\n",
       "</table>\n",
       "</div>"
      ],
      "text/plain": [
       "               id_1              id_2   dist  dist1  dist2 country cat2a  \\\n",
       "0  E_000001272c6c5d  E_00f3e03e4a63da  36320   4910  36320      11     1   \n",
       "1  E_02814090c4be3c  E_000001272c6c5d  18030  12090  13360      11     1   \n",
       "2  E_000001272c6c5d  E_051d16ff51c824  32860   2700  32860      11     1   \n",
       "3  E_0d580c719e7726  E_000001272c6c5d  18030   5430  18030      11     1   \n",
       "4  E_0e7fa023e1b41f  E_000001272c6c5d  18030   4020  18030      11     1   \n",
       "\n",
       "  cat2b  name_pi1  name_lcs2  name_lcs  name_pi1_r1  name_lcs2_r1  \\\n",
       "0     1         4          4         8         0.31          0.31   \n",
       "1     1         4          4         8         0.27          0.27   \n",
       "2     1         0          1         2         0.00          0.10   \n",
       "3     1         4          4        11         0.29          0.29   \n",
       "4     1         4          4         5         0.44          0.44   \n",
       "\n",
       "   name_lcs2_r2  name_lcs_r1  name_lcs_r2  name_r3  name_lcs_r4  \\\n",
       "0          0.22         0.62         0.44     0.72         0.50   \n",
       "1          0.22         0.53         0.44     0.83         0.50   \n",
       "2          0.06         0.20         0.11     0.56         0.50   \n",
       "3          0.22         0.79         0.61     0.78         0.36   \n",
       "4          0.22         0.56         0.28     0.50         0.80   \n",
       "\n",
       "   categories_pi1  categories_lcs2  categories_lcs  categories_pi1_r1  \\\n",
       "0               4                4               4                1.0   \n",
       "1               4                4               4                1.0   \n",
       "2               0                1               3                0.0   \n",
       "3               4                4               4                1.0   \n",
       "4               4                4               4                1.0   \n",
       "\n",
       "   categories_lcs2_r1  categories_lcs2_r2  categories_lcs_r1  \\\n",
       "0                1.00                1.00               1.00   \n",
       "1                1.00                1.00               1.00   \n",
       "2                0.25                0.04               0.75   \n",
       "3                1.00                1.00               1.00   \n",
       "4                1.00                1.00               1.00   \n",
       "\n",
       "   categories_lcs_r2  categories_r3  categories_lcs_r4  address_pi1  \\\n",
       "0               1.00           1.00               1.00            1   \n",
       "1               1.00           1.00               1.00            0   \n",
       "2               0.12           0.16               0.33           11   \n",
       "3               1.00           1.00               1.00            0   \n",
       "4               1.00           1.00               1.00            0   \n",
       "\n",
       "   address_lcs2  address_lcs  address_pi1_r1  address_lcs2_r1  \\\n",
       "0             2            3            0.09             0.18   \n",
       "1             0            0            0.00             0.00   \n",
       "2            11           11            1.00             1.00   \n",
       "3             0            0            0.00             0.00   \n",
       "4             1            3            0.00             0.09   \n",
       "\n",
       "   address_lcs2_r2  address_lcs_r1  address_lcs_r2  address_r3  \\\n",
       "0             0.12            0.27            0.18        0.65   \n",
       "1             0.00            0.00            0.00        0.09   \n",
       "2             0.50            1.00            0.50        0.50   \n",
       "3             0.00            0.00            0.00        0.09   \n",
       "4             0.06            0.27            0.18        0.65   \n",
       "\n",
       "   address_lcs_r4  city_NA  address_NA  phone_m10  url_m5  same_cat_simpl  \\\n",
       "0            0.67        0           0          0       0               1   \n",
       "1            0.00        0           1          0       0               1   \n",
       "2            1.00        0           0          0       0               0   \n",
       "3            0.00        1           1          0       0               1   \n",
       "4            0.33        0           0          0       0               1   \n",
       "\n",
       "      dist_r1     dist_r2  id_cc_min  id_cc_max  name_cc_min  name_cc_max  \\\n",
       "0  600.845032  800.000000         54         80           80          109   \n",
       "1  297.867401  444.857758         73         80           73           80   \n",
       "2  543.571899  243.691925         36         80           66           80   \n",
       "3  297.867401  444.857758         80        109           80          109   \n",
       "4  297.867401  444.857758         66         80           80          133   \n",
       "\n",
       "   angular_distance_min  angular_distance_l2_min  same_state  same_zip  \\\n",
       "0              0.935697                 0.865765         NaN       NaN   \n",
       "1              0.499047                 0.363990         NaN       0.0   \n",
       "2              0.776170                 0.736614         NaN       0.0   \n",
       "3              0.483397                 0.412613         NaN       NaN   \n",
       "4              0.483910                 0.427897         0.0       0.0   \n",
       "\n",
       "   same_city  name_len_diff  name_levenshtein  address_len_diff  \\\n",
       "0        0.0              5          0.611111                 6   \n",
       "1        0.0              3          0.611111                11   \n",
       "2        0.0              8          0.888889                11   \n",
       "3        NaN              4          0.500000                11   \n",
       "4        0.0              9          0.722222                 6   \n",
       "\n",
       "   address_levenshtein  url_len_diff  url_levenshtein  \n",
       "0             0.882353             0              NaN  \n",
       "1                  NaN             0              NaN  \n",
       "2             0.500000             0              NaN  \n",
       "3                  NaN             0              NaN  \n",
       "4             0.823529             0              NaN  "
      ]
     },
     "execution_count": 23,
     "metadata": {},
     "output_type": "execute_result"
    },
    {
     "data": {
      "application/javascript": [
       "\n",
       "            setTimeout(function() {\n",
       "                var nbb_cell_id = 23;\n",
       "                var nbb_unformatted_code = \"df_merged.head()\";\n",
       "                var nbb_formatted_code = \"df_merged.head()\";\n",
       "                var nbb_cells = Jupyter.notebook.get_cells();\n",
       "                for (var i = 0; i < nbb_cells.length; ++i) {\n",
       "                    if (nbb_cells[i].input_prompt_number == nbb_cell_id) {\n",
       "                        if (nbb_cells[i].get_text() == nbb_unformatted_code) {\n",
       "                             nbb_cells[i].set_text(nbb_formatted_code);\n",
       "                        }\n",
       "                        break;\n",
       "                    }\n",
       "                }\n",
       "            }, 500);\n",
       "            "
      ],
      "text/plain": [
       "<IPython.core.display.Javascript object>"
      ]
     },
     "metadata": {},
     "output_type": "display_data"
    }
   ],
   "source": [
    "df_merged.head()"
   ]
  },
  {
   "cell_type": "code",
   "execution_count": 24,
   "metadata": {
    "scrolled": true
   },
   "outputs": [
    {
     "data": {
      "application/javascript": [
       "\n",
       "            setTimeout(function() {\n",
       "                var nbb_cell_id = 24;\n",
       "                var nbb_unformatted_code = \"# import matplotlib.pyplot as plt\\n\\n# plt.scatter(df_merged[\\\"angular_distance_min\\\"], df_merged[\\\"dist_r1\\\"])\";\n",
       "                var nbb_formatted_code = \"# import matplotlib.pyplot as plt\\n\\n# plt.scatter(df_merged[\\\"angular_distance_min\\\"], df_merged[\\\"dist_r1\\\"])\";\n",
       "                var nbb_cells = Jupyter.notebook.get_cells();\n",
       "                for (var i = 0; i < nbb_cells.length; ++i) {\n",
       "                    if (nbb_cells[i].input_prompt_number == nbb_cell_id) {\n",
       "                        if (nbb_cells[i].get_text() == nbb_unformatted_code) {\n",
       "                             nbb_cells[i].set_text(nbb_formatted_code);\n",
       "                        }\n",
       "                        break;\n",
       "                    }\n",
       "                }\n",
       "            }, 500);\n",
       "            "
      ],
      "text/plain": [
       "<IPython.core.display.Javascript object>"
      ]
     },
     "metadata": {},
     "output_type": "display_data"
    }
   ],
   "source": [
    "# import matplotlib.pyplot as plt\n",
    "\n",
    "# plt.scatter(df_merged[\"angular_distance_min\"], df_merged[\"dist_r1\"])"
   ]
  },
  {
   "cell_type": "code",
   "execution_count": 25,
   "metadata": {
    "scrolled": true
   },
   "outputs": [
    {
     "data": {
      "application/javascript": [
       "\n",
       "            setTimeout(function() {\n",
       "                var nbb_cell_id = 25;\n",
       "                var nbb_unformatted_code = \"if DEBUG:\\n    corrs = df_merged.corr()\\n    for col in corrs.columns:\\n        close = pd.DataFrame(corrs.loc[corrs[col] > 0.99][col])\\n        if len(close) > 1:\\n            display(close[close[col] < 1])\";\n",
       "                var nbb_formatted_code = \"if DEBUG:\\n    corrs = df_merged.corr()\\n    for col in corrs.columns:\\n        close = pd.DataFrame(corrs.loc[corrs[col] > 0.99][col])\\n        if len(close) > 1:\\n            display(close[close[col] < 1])\";\n",
       "                var nbb_cells = Jupyter.notebook.get_cells();\n",
       "                for (var i = 0; i < nbb_cells.length; ++i) {\n",
       "                    if (nbb_cells[i].input_prompt_number == nbb_cell_id) {\n",
       "                        if (nbb_cells[i].get_text() == nbb_unformatted_code) {\n",
       "                             nbb_cells[i].set_text(nbb_formatted_code);\n",
       "                        }\n",
       "                        break;\n",
       "                    }\n",
       "                }\n",
       "            }, 500);\n",
       "            "
      ],
      "text/plain": [
       "<IPython.core.display.Javascript object>"
      ]
     },
     "metadata": {},
     "output_type": "display_data"
    }
   ],
   "source": [
    "if DEBUG:\n",
    "    corrs = df_merged.corr()\n",
    "    for col in corrs.columns:\n",
    "        close = pd.DataFrame(corrs.loc[corrs[col] > 0.99][col])\n",
    "        if len(close) > 1:\n",
    "            display(close[close[col] < 1])"
   ]
  },
  {
   "cell_type": "code",
   "execution_count": 26,
   "metadata": {},
   "outputs": [
    {
     "data": {
      "application/javascript": [
       "\n",
       "            setTimeout(function() {\n",
       "                var nbb_cell_id = 26;\n",
       "                var nbb_unformatted_code = \"if not DEBUG:\\n    if IS_TEST:\\n        df_merged.to_csv(OUT_PATH + \\\"features_test_1.csv\\\", index=False)\\n    else:\\n        df_merged.to_csv(OUT_PATH + \\\"features_train_1.csv\\\", index=False)\";\n",
       "                var nbb_formatted_code = \"if not DEBUG:\\n    if IS_TEST:\\n        df_merged.to_csv(OUT_PATH + \\\"features_test_1.csv\\\", index=False)\\n    else:\\n        df_merged.to_csv(OUT_PATH + \\\"features_train_1.csv\\\", index=False)\";\n",
       "                var nbb_cells = Jupyter.notebook.get_cells();\n",
       "                for (var i = 0; i < nbb_cells.length; ++i) {\n",
       "                    if (nbb_cells[i].input_prompt_number == nbb_cell_id) {\n",
       "                        if (nbb_cells[i].get_text() == nbb_unformatted_code) {\n",
       "                             nbb_cells[i].set_text(nbb_formatted_code);\n",
       "                        }\n",
       "                        break;\n",
       "                    }\n",
       "                }\n",
       "            }, 500);\n",
       "            "
      ],
      "text/plain": [
       "<IPython.core.display.Javascript object>"
      ]
     },
     "metadata": {},
     "output_type": "display_data"
    }
   ],
   "source": [
    "if not DEBUG:\n",
    "    if IS_TEST:\n",
    "        df_merged.to_csv(OUT_PATH + \"features_test_1.csv\", index=False)\n",
    "    else:\n",
    "        df_merged.to_csv(OUT_PATH + \"features_train_1.csv\", index=False)"
   ]
  }
 ],
 "metadata": {
  "kernelspec": {
   "display_name": "Python 3",
   "language": "python",
   "name": "python3"
  },
  "language_info": {
   "codemirror_mode": {
    "name": "ipython",
    "version": 3
   },
   "file_extension": ".py",
   "mimetype": "text/x-python",
   "name": "python",
   "nbconvert_exporter": "python",
   "pygments_lexer": "ipython3",
   "version": "3.8.13"
  }
 },
 "nbformat": 4,
 "nbformat_minor": 4
}
