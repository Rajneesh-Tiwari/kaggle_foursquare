{
 "cells": [
  {
   "cell_type": "markdown",
   "metadata": {},
   "source": [
    "**Feature engineering for level 1 models**"
   ]
  },
  {
   "cell_type": "code",
   "execution_count": null,
   "metadata": {},
   "outputs": [],
   "source": [
    "%load_ext autoreload\n",
    "%autoreload 2"
   ]
  },
  {
   "cell_type": "code",
   "execution_count": null,
   "metadata": {},
   "outputs": [],
   "source": [
    "cd ../src"
   ]
  },
  {
   "cell_type": "markdown",
   "metadata": {
    "papermill": {
     "duration": 0.113095,
     "end_time": "2022-06-20T12:41:41.215410",
     "exception": false,
     "start_time": "2022-06-20T12:41:41.102315",
     "status": "completed"
    },
    "tags": []
   },
   "source": [
    "# **Librairies**"
   ]
  },
  {
   "cell_type": "code",
   "execution_count": null,
   "metadata": {
    "_cell_guid": "b1076dfc-b9ad-4769-8c92-a6c4dae69d19",
    "_uuid": "8f2839f25d086af736a60e9eeb907d3b93b6e0e5",
    "execution": {
     "iopub.execute_input": "2022-06-20T12:42:48.194197Z",
     "iopub.status.busy": "2022-06-20T12:42:48.193938Z",
     "iopub.status.idle": "2022-06-20T12:42:50.735561Z",
     "shell.execute_reply": "2022-06-20T12:42:50.734610Z"
    },
    "papermill": {
     "duration": 2.672311,
     "end_time": "2022-06-20T12:42:50.737847",
     "exception": false,
     "start_time": "2022-06-20T12:42:48.065536",
     "status": "completed"
    },
    "tags": []
   },
   "outputs": [],
   "source": [
    "import gc\n",
    "import warnings\n",
    "import numpy as np\n",
    "import pandas as pd\n",
    "from tqdm.auto import tqdm\n",
    "from pandarallel import pandarallel\n",
    "\n",
    "from matching import load_cleaned_data, distance\n",
    "# from ressources import *\n",
    "from fe import FE1\n",
    "from dtypes import DTYPES_1, reduce_mem_usage\n",
    "from fe_theo import feature_engineering_theo\n",
    "from params import DEBUG, OUT_PATH, IS_TEST, RESSOURCES_PATH\n",
    "\n",
    "pandarallel.initialize(nb_workers=12, progress_bar=False)\n",
    "warnings.simplefilter(\"ignore\")\n",
    "pd.options.display.max_columns = 500"
   ]
  },
  {
   "cell_type": "markdown",
   "metadata": {
    "papermill": {
     "duration": 0.128224,
     "end_time": "2022-06-20T12:42:52.888296",
     "exception": false,
     "start_time": "2022-06-20T12:42:52.760072",
     "status": "completed"
    },
    "tags": []
   },
   "source": [
    "## Load Data"
   ]
  },
  {
   "cell_type": "code",
   "execution_count": null,
   "metadata": {},
   "outputs": [],
   "source": [
    "if IS_TEST:\n",
    "    train = load_cleaned_data(OUT_PATH + \"cleaned_data_test.csv\")\n",
    "    p1 = pd.read_csv(OUT_PATH + \"p1_yv_test.csv\")\n",
    "    p2 = pd.read_csv(OUT_PATH + \"p2_yv_test.csv\")\n",
    "else:\n",
    "    train = load_cleaned_data(OUT_PATH + \"cleaned_data_train.csv\")\n",
    "    p1 = pd.read_csv(OUT_PATH + \"p1_yv_train.csv\")\n",
    "    p2 = pd.read_csv(OUT_PATH + \"p2_yv_train.csv\")"
   ]
  },
  {
   "cell_type": "code",
   "execution_count": null,
   "metadata": {},
   "outputs": [],
   "source": [
    "if DEBUG:\n",
    "    p1 = p1.head(100000).copy()\n",
    "    p2 = p2.head(100000).copy()"
   ]
  },
  {
   "cell_type": "markdown",
   "metadata": {},
   "source": [
    "### Prepare"
   ]
  },
  {
   "cell_type": "code",
   "execution_count": null,
   "metadata": {},
   "outputs": [],
   "source": [
    "train[\"idx\"] = np.arange(len(train))"
   ]
  },
  {
   "cell_type": "code",
   "execution_count": null,
   "metadata": {
    "scrolled": false
   },
   "outputs": [],
   "source": [
    "# add other columns - needed for FE\n",
    "cols = [\n",
    "    \"id\",\n",
    "    \"name\",\n",
    "    \"latitude\",\n",
    "    \"longitude\",\n",
    "    \"address\",\n",
    "    \"country\",\n",
    "    \"url\",\n",
    "    \"phone\",\n",
    "    \"city\",\n",
    "    \"categories\",\n",
    "    \"category_simpl\",\n",
    "    \"categories_split\",\n",
    "    \"cat2\",\n",
    "    \"idx\",\n",
    "    \"state\",\n",
    "    \"zip\",\n",
    "]\n",
    "p1 = p1[[\"id\"]].merge(train[cols], on=\"id\", how=\"left\")\n",
    "p2 = p2[[\"id\"]].merge(train[cols], on=\"id\", how=\"left\")"
   ]
  },
  {
   "cell_type": "code",
   "execution_count": null,
   "metadata": {},
   "outputs": [],
   "source": [
    "# check for flipped sign on longitude - this may help test data a lot; test it? Move this code up to apply to \"train\"\n",
    "dist = distance(\n",
    "    np.array(p1[\"latitude\"]),\n",
    "    np.array(p1[\"longitude\"]),\n",
    "    np.array(p2[\"latitude\"]),\n",
    "    np.array(p2[\"longitude\"]),\n",
    ")\n",
    "df = pd.DataFrame(dist)\n",
    "df.columns = [\"dist\"]\n",
    "df[\"dist\"] = df[\"dist\"].astype(\"int32\")\n",
    "df[\"dist1\"] = (111173.444444444 * np.abs(p1[\"latitude\"] - p2[\"latitude\"])).astype(\n",
    "    \"int32\"\n",
    ")\n",
    "df[\"dist2\"] = np.sqrt(np.maximum(0, (1.0 * df[\"dist\"]) ** 2 - df[\"dist1\"] ** 2)).astype(\n",
    "    \"int32\"\n",
    ")\n",
    "idx = (\n",
    "    (df[\"dist1\"] < 10000)\n",
    "    & (df[\"dist2\"] > 1000000)\n",
    "    & (np.abs(p1[\"longitude\"] + p2[\"longitude\"]) < 0.1)\n",
    ") & (p1[\"country\"] == p2[\"country\"])\n",
    "# this selects only 3 cases in train data, but possibly more in test, so keep it becasue it is basically free\n",
    "print(\"flipped sign of longitude for\", idx.sum(), \"points\")\n",
    "p1[\"longitude\"].loc[idx] *= -1  # flip(correct) sign\n",
    "del df, idx, dist\n",
    "gc.collect()"
   ]
  },
  {
   "cell_type": "markdown",
   "metadata": {},
   "source": [
    "### Youri & Vincent"
   ]
  },
  {
   "cell_type": "code",
   "execution_count": null,
   "metadata": {
    "scrolled": false
   },
   "outputs": [],
   "source": [
    "%%time\n",
    "df = FE1(p1, p2)"
   ]
  },
  {
   "cell_type": "code",
   "execution_count": null,
   "metadata": {},
   "outputs": [],
   "source": [
    "df.insert(0, \"id_1\", p1[\"id\"].values)\n",
    "df.insert(1, \"id_2\", p2[\"id\"].values)"
   ]
  },
  {
   "cell_type": "code",
   "execution_count": null,
   "metadata": {},
   "outputs": [],
   "source": [
    "df.head()"
   ]
  },
  {
   "cell_type": "markdown",
   "metadata": {},
   "source": [
    "### Théo"
   ]
  },
  {
   "cell_type": "code",
   "execution_count": null,
   "metadata": {
    "scrolled": true
   },
   "outputs": [],
   "source": [
    "cols = [\n",
    "    \"id\",\n",
    "    \"name\",\n",
    "    \"latitude\",\n",
    "    \"longitude\",\n",
    "    \"address\",\n",
    "    \"country\",\n",
    "    \"url\",\n",
    "    \"phone\",\n",
    "    \"city\",\n",
    "    \"state\",\n",
    "    \"zip\",\n",
    "    \"categories\",\n",
    "    \"idx\",\n",
    "]\n",
    "pairs = pd.concat([p1[cols], p2[cols]], axis=1)\n",
    "pairs.columns = [c + \"_1\" for c in cols] + [c + \"_2\" for c in cols]"
   ]
  },
  {
   "cell_type": "code",
   "execution_count": null,
   "metadata": {
    "scrolled": true
   },
   "outputs": [],
   "source": [
    "%%time\n",
    "\n",
    "df_theo, fts_theo = feature_engineering_theo(pairs)"
   ]
  },
  {
   "cell_type": "markdown",
   "metadata": {},
   "source": [
    "## Merge & Save"
   ]
  },
  {
   "cell_type": "code",
   "execution_count": null,
   "metadata": {},
   "outputs": [],
   "source": [
    "df_merged = df.merge(df_theo, on=[\"id_1\", \"id_2\"])"
   ]
  },
  {
   "cell_type": "code",
   "execution_count": null,
   "metadata": {},
   "outputs": [],
   "source": [
    "df_merged = reduce_mem_usage(df_merged)"
   ]
  },
  {
   "cell_type": "code",
   "execution_count": null,
   "metadata": {
    "scrolled": true
   },
   "outputs": [],
   "source": [
    "if DEBUG:\n",
    "    corrs = df_merged.corr()\n",
    "    for col in corrs.columns:\n",
    "        close = pd.DataFrame(corrs.loc[corrs[col] > 0.99][col])\n",
    "        if len(close) > 1:\n",
    "            display(close[close[col] < 1])"
   ]
  },
  {
   "cell_type": "code",
   "execution_count": null,
   "metadata": {},
   "outputs": [],
   "source": [
    "if not DEBUG:\n",
    "    if IS_TEST:\n",
    "        df_merged.to_csv(OUT_PATH + \"features_test_1.csv\", index=False)\n",
    "    else:\n",
    "        df_merged.to_csv(OUT_PATH + \"features_train_1.csv\", index=False)"
   ]
  }
 ],
 "metadata": {
  "kernelspec": {
   "display_name": "Python 3",
   "language": "python",
   "name": "python3"
  },
  "language_info": {
   "codemirror_mode": {
    "name": "ipython",
    "version": 3
   },
   "file_extension": ".py",
   "mimetype": "text/x-python",
   "name": "python",
   "nbconvert_exporter": "python",
   "pygments_lexer": "ipython3",
   "version": "3.8.13"
  }
 },
 "nbformat": 4,
 "nbformat_minor": 4
}
